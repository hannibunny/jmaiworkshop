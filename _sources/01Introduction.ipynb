{
 "cells": [
  {
   "cell_type": "markdown",
   "metadata": {
    "slideshow": {
     "slide_type": "slide"
    }
   },
   "source": [
    "# Introduction: What's Artificial Intelligence (AI)\n",
    "* Author: Johannes Maucher\n",
    "* Last Update: 31.01.2020"
   ]
  },
  {
   "cell_type": "markdown",
   "metadata": {
    "slideshow": {
     "slide_type": "skip"
    },
    "toc": true
   },
   "source": [
    "<h1>Table of Contents<span class=\"tocSkip\"></span></h1>\n",
    "<div class=\"toc\"><ul class=\"toc-item\"><li><span><a href=\"#Introduction:-What's-Artificial-Intelligence-(AI)\" data-toc-modified-id=\"Introduction:-What's-Artificial-Intelligence-(AI)-1\"><span class=\"toc-item-num\">1&nbsp;&nbsp;</span>Introduction: What's Artificial Intelligence (AI)</a></span><ul class=\"toc-item\"><li><span><a href=\"#Goals-of-this-lecture\" data-toc-modified-id=\"Goals-of-this-lecture-1.1\"><span class=\"toc-item-num\">1.1&nbsp;&nbsp;</span>Goals of this lecture</a></span></li><li><span><a href=\"#Impact-of-AI\" data-toc-modified-id=\"Impact-of-AI-1.2\"><span class=\"toc-item-num\">1.2&nbsp;&nbsp;</span>Impact of AI</a></span><ul class=\"toc-item\"><li><span><a href=\"#AI-is-a-toolbox-for-a-wide-range-of-problems-and-applications\" data-toc-modified-id=\"AI-is-a-toolbox-for-a-wide-range-of-problems-and-applications-1.2.1\"><span class=\"toc-item-num\">1.2.1&nbsp;&nbsp;</span>AI is a toolbox for a wide range of problems and applications</a></span></li></ul></li><li><span><a href=\"#What-is-Artificial-Intelligence?\" data-toc-modified-id=\"What-is-Artificial-Intelligence?-1.3\"><span class=\"toc-item-num\">1.3&nbsp;&nbsp;</span>What is Artificial Intelligence?</a></span><ul class=\"toc-item\"><li><span><a href=\"#What-is-intelligence?\" data-toc-modified-id=\"What-is-intelligence?-1.3.1\"><span class=\"toc-item-num\">1.3.1&nbsp;&nbsp;</span>What is intelligence?</a></span><ul class=\"toc-item\"><li><span><a href=\"#Example:-Plan-Route\" data-toc-modified-id=\"Example:-Plan-Route-1.3.1.1\"><span class=\"toc-item-num\">1.3.1.1&nbsp;&nbsp;</span>Example: Plan Route</a></span></li></ul></li><li><span><a href=\"#What-is-Artificial-Intelligence?\" data-toc-modified-id=\"What-is-Artificial-Intelligence?-1.3.2\"><span class=\"toc-item-num\">1.3.2&nbsp;&nbsp;</span>What is Artificial Intelligence?</a></span><ul class=\"toc-item\"><li><span><a href=\"#Turing-Test\" data-toc-modified-id=\"Turing-Test-1.3.2.1\"><span class=\"toc-item-num\">1.3.2.1&nbsp;&nbsp;</span>Turing Test</a></span></li><li><span><a href=\"#Categorization-of-AI-Definitions\" data-toc-modified-id=\"Categorization-of-AI-Definitions-1.3.2.2\"><span class=\"toc-item-num\">1.3.2.2&nbsp;&nbsp;</span>Categorization of AI-Definitions</a></span></li><li><span><a href=\"#Rational-Agents\" data-toc-modified-id=\"Rational-Agents-1.3.2.3\"><span class=\"toc-item-num\">1.3.2.3&nbsp;&nbsp;</span>Rational Agents</a></span></li></ul></li><li><span><a href=\"#AI-is-not-new\" data-toc-modified-id=\"AI-is-not-new-1.3.3\"><span class=\"toc-item-num\">1.3.3&nbsp;&nbsp;</span>AI is not new</a></span></li></ul></li><li><span><a href=\"#Categories-of-AI\" data-toc-modified-id=\"Categories-of-AI-1.4\"><span class=\"toc-item-num\">1.4&nbsp;&nbsp;</span>Categories of AI</a></span><ul class=\"toc-item\"><li><ul class=\"toc-item\"><li><span><a href=\"#Applications-of-this-category\" data-toc-modified-id=\"Applications-of-this-category-1.4.0.1\"><span class=\"toc-item-num\">1.4.0.1&nbsp;&nbsp;</span>Applications of this category</a></span></li></ul></li></ul></li><li><span><a href=\"#Some-final-words-to-AI-compared-to-Human-Intelligence\" data-toc-modified-id=\"Some-final-words-to-AI-compared-to-Human-Intelligence-1.5\"><span class=\"toc-item-num\">1.5&nbsp;&nbsp;</span>Some final words to AI compared to Human Intelligence</a></span></li></ul></li></ul></div>"
   ]
  },
  {
   "cell_type": "markdown",
   "metadata": {
    "slideshow": {
     "slide_type": "skip"
    }
   },
   "source": [
    "## Goals of this lecture\n",
    "* Providing a basic understanding of the concept of Artificial Intelligence, by\n",
    "* ... describing the categories of AI ... \n",
    "* ... and impressing applications of each category "
   ]
  },
  {
   "cell_type": "markdown",
   "metadata": {
    "slideshow": {
     "slide_type": "slide"
    }
   },
   "source": [
    "## Impact of AI\n",
    "\n",
    "- *Artificial intelligence has reached a new stage of maturity in recent years and, as a basic innovation, is developing into a **driver of digitalization and autonomous systems in all areas of life**. State, society, economy, administration and science are called upon to face the chances and risks of AI.* Source: [Strategiepapier zur Künstlichen Intelligenz der Bundesregierung](https://www.bmbf.de/files/Nationale_KI-Strategie.pdf)\n",
    "- It is supposed that AI will change life, work, economy, communication in a similar extend as the internet did before\n",
    "- AI is a cross-sectional science which\n",
    "    - enables new applications\n",
    "    - improves and optimizes existing applications\n",
    "    - improves and optimizes business processes\n",
    "    \n",
    "  in a wide range of domains. \n",
    "\n",
    "- [Paper on new business models enabled by AI](https://www.plattform-lernende-systeme.de/files/Downloads/Publikationen/AG4_Bericht_231019.pdf)"
   ]
  },
  {
   "cell_type": "markdown",
   "metadata": {
    "slideshow": {
     "slide_type": "slide"
    }
   },
   "source": [
    "### AI is a toolbox for a wide range of problems and applications\n",
    "\n",
    "<img src=\"https://maucher.home.hdm-stuttgart.de/Pics/LoesungsEbenen.PNG\" style=\"width:500px\" align=\"center\">\n",
    "\n",
    "If you manage to translate your problem into the **language of AI**, you may come up with faster and better solutions. Hence everybody should strive to learn this language. "
   ]
  },
  {
   "cell_type": "markdown",
   "metadata": {
    "slideshow": {
     "slide_type": "slide"
    }
   },
   "source": [
    "## What is Artificial Intelligence?\n",
    "### What is intelligence?"
   ]
  },
  {
   "cell_type": "markdown",
   "metadata": {
    "slideshow": {
     "slide_type": "fragment"
    }
   },
   "source": [
    "<img src=\"https://maucher.home.hdm-stuttgart.de/Pics/intelligence.png\" style=\"width:500px\" align=\"center\">"
   ]
  },
  {
   "cell_type": "markdown",
   "metadata": {
    "slideshow": {
     "slide_type": "slide"
    }
   },
   "source": [
    "#### Example: Plan Route"
   ]
  },
  {
   "cell_type": "markdown",
   "metadata": {
    "slideshow": {
     "slide_type": "fragment"
    }
   },
   "source": [
    "<img src=\"https://maucher.home.hdm-stuttgart.de/Pics/planRoute.png\" style=\"width:700px\" align=\"center\">"
   ]
  },
  {
   "cell_type": "markdown",
   "metadata": {
    "slideshow": {
     "slide_type": "slide"
    }
   },
   "source": [
    "### What is Artificial Intelligence?\n",
    "* **AI tries to integrate cognitive abilities**, such as inference, planning, problem solving, learning etc. in computer systems.\n",
    "* The goal of AI reserch is to enable modern AI systems (learning systems) such as machines, robots and software systems to **autonomously process and solve abstract tasks and problems even under changed conditions** - without a human being programming an explicit solution. \n",
    "* All AI systems that are technically feasible today enable problem solving in limited contexts (e.g. speech or image recognition) and thus belong to the so-called **weak AI**"
   ]
  },
  {
   "cell_type": "markdown",
   "metadata": {
    "slideshow": {
     "slide_type": "slide"
    }
   },
   "source": [
    "#### Turing Test\n",
    "One of the most famous definitions of AI, the **Turing Test** addresses primarily a Knowledge-based agent: \n",
    "<img src=\"https://maucher.home.hdm-stuttgart.de/Pics/turingtest.jpg\" style=\"width:400px\" align=\"center\">"
   ]
  },
  {
   "cell_type": "markdown",
   "metadata": {
    "slideshow": {
     "slide_type": "slide"
    }
   },
   "source": [
    "#### Categorization of AI-Definitions\n",
    "\n",
    "AI develops ...\n",
    "\n",
    "<img src=\"https://maucher.home.hdm-stuttgart.de/Pics/aiDefinition.png\" style=\"width:700px\">\n",
    "\n",
    "Engineer's definition ([S. Russel and P. Norvig](http://aima.cs.berkeley.edu)): <font color = red>*AI develops rational agents*</font>"
   ]
  },
  {
   "cell_type": "markdown",
   "metadata": {
    "slideshow": {
     "slide_type": "slide"
    }
   },
   "source": [
    "#### Rational Agents\n",
    "\n",
    "![agentGeneral.png](https://maucher.home.hdm-stuttgart.de/Pics/agentGeneral.png)\n",
    "\n",
    "See also [notebook on rational agents](01aWhatsAI.ipynb)."
   ]
  },
  {
   "cell_type": "markdown",
   "metadata": {
    "slideshow": {
     "slide_type": "notes"
    }
   },
   "source": [
    "A rational agent is anything that is\n",
    "1. **perceiving** its environment through sensors\n",
    "2. **thinking** and deciding on the next actions\n",
    "2. **acting** through actuators\n",
    "\n",
    "Rational means, that the agent acts in a way that is expected to maximize its performance measure, given it's\n",
    "* built-in knowledge\n",
    "* perceived experience\n",
    "* acting capabilities "
   ]
  },
  {
   "cell_type": "markdown",
   "metadata": {
    "slideshow": {
     "slide_type": "slide"
    }
   },
   "source": [
    "### AI is not new\n",
    "\n",
    "<img src=\"https://maucher.home.hdm-stuttgart.de/Pics/aiHistory.png\" style=\"width:800px\">"
   ]
  },
  {
   "cell_type": "markdown",
   "metadata": {
    "slideshow": {
     "slide_type": "slide"
    }
   },
   "source": [
    "## Categories of AI\n",
    "\n",
    "\n",
    "<img src=\"https://maucher.home.hdm-stuttgart.de/Pics/KiKategorien.png\" style=\"width:400px\">"
   ]
  },
  {
   "cell_type": "markdown",
   "metadata": {
    "slideshow": {
     "slide_type": "slide"
    }
   },
   "source": [
    "## Some final words to AI compared to Human Intelligence\n",
    "\n",
    "<img src=\"https://maucher.home.hdm-stuttgart.de/Pics/captionbotexample.png\" style=\"width:600px\">\n",
    "\n",
    "Source: [https://www.captionbot.ai](https://www.captionbot.ai)\n"
   ]
  }
 ],
 "metadata": {
  "celltoolbar": "Slideshow",
  "kernelspec": {
   "display_name": "Python 3",
   "language": "python",
   "name": "python3"
  },
  "language_info": {
   "codemirror_mode": {
    "name": "ipython",
    "version": 3
   },
   "file_extension": ".py",
   "mimetype": "text/x-python",
   "name": "python",
   "nbconvert_exporter": "python",
   "pygments_lexer": "ipython3",
   "version": "3.7.5"
  },
  "nav_menu": {},
  "toc": {
   "base_numbering": 1,
   "nav_menu": {},
   "number_sections": true,
   "sideBar": true,
   "skip_h1_title": false,
   "title_cell": "Table of Contents",
   "title_sidebar": "Contents",
   "toc_cell": true,
   "toc_position": {},
   "toc_section_display": true,
   "toc_window_display": false
  }
 },
 "nbformat": 4,
 "nbformat_minor": 4
}
