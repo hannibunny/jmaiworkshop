{
 "cells": [
  {
   "cell_type": "markdown",
   "metadata": {
    "slideshow": {
     "slide_type": "slide"
    }
   },
   "source": [
    "# Modelling of Uncertainty\n",
    "* Author: Johannes Maucher\n",
    "* Last Update: 12.10.2020"
   ]
  },
  {
   "cell_type": "markdown",
   "metadata": {
    "toc": true
   },
   "source": [
    "<h1>Table of Contents<span class=\"tocSkip\"></span></h1>\n",
    "<div class=\"toc\"><ul class=\"toc-item\"><li><span><a href=\"#Modelling-of-Uncertainty\" data-toc-modified-id=\"Modelling-of-Uncertainty-1\"><span class=\"toc-item-num\">1&nbsp;&nbsp;</span>Modelling of Uncertainty</a></span><ul class=\"toc-item\"><li><span><a href=\"#Motivation-and-Applications\" data-toc-modified-id=\"Motivation-and-Applications-1.1\"><span class=\"toc-item-num\">1.1&nbsp;&nbsp;</span>Motivation and Applications</a></span></li><li><span><a href=\"#Estimation-of-Probabilities-from-a-sample\" data-toc-modified-id=\"Estimation-of-Probabilities-from-a-sample-1.2\"><span class=\"toc-item-num\">1.2&nbsp;&nbsp;</span>Estimation of Probabilities from a sample</a></span></li><li><span><a href=\"#Bayesian-Network\" data-toc-modified-id=\"Bayesian-Network-1.3\"><span class=\"toc-item-num\">1.3&nbsp;&nbsp;</span>Bayesian Network</a></span><ul class=\"toc-item\"><li><span><a href=\"#Configuration-of-Network\" data-toc-modified-id=\"Configuration-of-Network-1.3.1\"><span class=\"toc-item-num\">1.3.1&nbsp;&nbsp;</span>Configuration of Network</a></span></li></ul></li><li><span><a href=\"#Modelling-of-Risks-in-Project-Management\" data-toc-modified-id=\"Modelling-of-Risks-in-Project-Management-1.4\"><span class=\"toc-item-num\">1.4&nbsp;&nbsp;</span>Modelling of Risks in Project Management</a></span><ul class=\"toc-item\"><li><span><a href=\"#Causal-Inference\" data-toc-modified-id=\"Causal-Inference-1.4.1\"><span class=\"toc-item-num\">1.4.1&nbsp;&nbsp;</span>Causal Inference</a></span></li><li><span><a href=\"#Diagnostic-Inference\" data-toc-modified-id=\"Diagnostic-Inference-1.4.2\"><span class=\"toc-item-num\">1.4.2&nbsp;&nbsp;</span>Diagnostic Inference</a></span></li></ul></li></ul></li></ul></div>"
   ]
  },
  {
   "cell_type": "markdown",
   "metadata": {},
   "source": [
    "## Motivation and Applications"
   ]
  },
  {
   "cell_type": "markdown",
   "metadata": {
    "slideshow": {
     "slide_type": "slide"
    }
   },
   "source": [
    "<img src=\"https://maucher.home.hdm-stuttgart.de/Pics/cancerSlide.png\" style=\"width:700px\" align=\"center\">"
   ]
  },
  {
   "cell_type": "markdown",
   "metadata": {
    "slideshow": {
     "slide_type": "slide"
    }
   },
   "source": [
    "**Motivation:**\n",
    "\n",
    "* This example demonstrates how intuition can mislead us.\n",
    "* The book [D. Kahnemann, Thinking Fast and Slow](https://en.wikipedia.org/wiki/Thinking,_Fast_and_Slow) is full of such examples, where we estimate probabilities and risks just by intuition.\n",
    "* Estimation of risks (e.g. in the planning of complex projects) is hard, because of the interaction of many non-deterministic factors\n",
    "* Bayesian Networks help to model such complex problems.\n",
    "* They <font color=\"red\">allow global probability calculation, based on local (pairwise) probability estimates.</font> "
   ]
  },
  {
   "cell_type": "markdown",
   "metadata": {
    "slideshow": {
     "slide_type": "slide"
    }
   },
   "source": [
    "**Applications:**\n",
    "\n",
    "* Insurance companies: Risk assessment and -estimation\n",
    "* Medical Diagnosis\n",
    "* Technical Diagnosis\n",
    "* Situation Analysis (Project with Daimler). E.g. given the input of many sensors, estimate the probability that a neighbouring car changes lines.\n"
   ]
  },
  {
   "cell_type": "markdown",
   "metadata": {
    "slideshow": {
     "slide_type": "slide"
    }
   },
   "source": [
    "## Estimation of Probabilities from a sample"
   ]
  },
  {
   "cell_type": "code",
   "execution_count": 2,
   "metadata": {
    "slideshow": {
     "slide_type": "skip"
    }
   },
   "outputs": [],
   "source": [
    "import numpy as np\n",
    "import pandas as pd\n",
    "from IPython.display import display\n",
    "np.random.seed(1235)"
   ]
  },
  {
   "cell_type": "code",
   "execution_count": 3,
   "metadata": {
    "slideshow": {
     "slide_type": "skip"
    }
   },
   "outputs": [],
   "source": [
    "P=np.random.randint(0,2,(10,3))\n",
    "idx=pd.index=[\"user\"+str(i+1) for i in range(10)]\n",
    "cols=[\"ipad\",\"iphone\",\"macbook\"]\n",
    "userdata=pd.DataFrame(data=P,index=idx,columns=cols)"
   ]
  },
  {
   "cell_type": "code",
   "execution_count": 4,
   "metadata": {
    "slideshow": {
     "slide_type": "slide"
    }
   },
   "outputs": [
    {
     "data": {
      "text/html": [
       "<div>\n",
       "<style scoped>\n",
       "    .dataframe tbody tr th:only-of-type {\n",
       "        vertical-align: center;\n",
       "    }\n",
       "\n",
       "    .dataframe tbody tr th {\n",
       "        vertical-align: top;\n",
       "    }\n",
       "\n",
       "    .dataframe thead th {\n",
       "        text-align: right;\n",
       "    }\n",
       "</style>\n",
       "<table border=\"1\" class=\"dataframe\">\n",
       "  <thead>\n",
       "    <tr style=\"text-align: right;\">\n",
       "      <th></th>\n",
       "      <th>ipad</th>\n",
       "      <th>iphone</th>\n",
       "      <th>macbook</th>\n",
       "    </tr>\n",
       "  </thead>\n",
       "  <tbody>\n",
       "    <tr>\n",
       "      <th>user1</th>\n",
       "      <td>1</td>\n",
       "      <td>0</td>\n",
       "      <td>0</td>\n",
       "    </tr>\n",
       "    <tr>\n",
       "      <th>user2</th>\n",
       "      <td>1</td>\n",
       "      <td>1</td>\n",
       "      <td>1</td>\n",
       "    </tr>\n",
       "    <tr>\n",
       "      <th>user3</th>\n",
       "      <td>1</td>\n",
       "      <td>0</td>\n",
       "      <td>1</td>\n",
       "    </tr>\n",
       "    <tr>\n",
       "      <th>user4</th>\n",
       "      <td>0</td>\n",
       "      <td>0</td>\n",
       "      <td>0</td>\n",
       "    </tr>\n",
       "    <tr>\n",
       "      <th>user5</th>\n",
       "      <td>0</td>\n",
       "      <td>0</td>\n",
       "      <td>1</td>\n",
       "    </tr>\n",
       "    <tr>\n",
       "      <th>user6</th>\n",
       "      <td>0</td>\n",
       "      <td>0</td>\n",
       "      <td>0</td>\n",
       "    </tr>\n",
       "    <tr>\n",
       "      <th>user7</th>\n",
       "      <td>0</td>\n",
       "      <td>1</td>\n",
       "      <td>0</td>\n",
       "    </tr>\n",
       "    <tr>\n",
       "      <th>user8</th>\n",
       "      <td>1</td>\n",
       "      <td>1</td>\n",
       "      <td>1</td>\n",
       "    </tr>\n",
       "    <tr>\n",
       "      <th>user9</th>\n",
       "      <td>0</td>\n",
       "      <td>0</td>\n",
       "      <td>0</td>\n",
       "    </tr>\n",
       "    <tr>\n",
       "      <th>user10</th>\n",
       "      <td>1</td>\n",
       "      <td>0</td>\n",
       "      <td>0</td>\n",
       "    </tr>\n",
       "  </tbody>\n",
       "</table>\n",
       "</div>"
      ],
      "text/plain": [
       "        ipad  iphone  macbook\n",
       "user1      1       0        0\n",
       "user2      1       1        1\n",
       "user3      1       0        1\n",
       "user4      0       0        0\n",
       "user5      0       0        1\n",
       "user6      0       0        0\n",
       "user7      0       1        0\n",
       "user8      1       1        1\n",
       "user9      0       0        0\n",
       "user10     1       0        0"
      ]
     },
     "metadata": {},
     "output_type": "display_data"
    }
   ],
   "source": [
    "display(userdata)"
   ]
  },
  {
   "cell_type": "markdown",
   "metadata": {
    "slideshow": {
     "slide_type": "slide"
    }
   },
   "source": [
    "**A-priori probabilities:**\n",
    "\n",
    "$P(ipad)=\\frac{5}{10}=0.5$\n",
    "\n",
    "$P(iphone)=\\frac{3}{10}=0.3$\n",
    "\n",
    "$P(macbook)=\\frac{4}{10}=0.4$"
   ]
  },
  {
   "cell_type": "markdown",
   "metadata": {
    "slideshow": {
     "slide_type": "slide"
    }
   },
   "source": [
    "**Compound probabilities:**\n",
    "\n",
    "$P(ipad,iphone)=\\frac{2}{10}=0.2$\n",
    "\n",
    "$P(ipad,macbook)=\\frac{3}{10}=0.3$\n",
    "\n",
    "$P(iphone,macbook)=\\frac{2}{10}=0.2$"
   ]
  },
  {
   "cell_type": "markdown",
   "metadata": {
    "slideshow": {
     "slide_type": "slide"
    }
   },
   "source": [
    "**Conditional probabilities:**\n",
    "\n",
    "$P(ipad | iphone)=\\frac{2}{3}=0.66$\n",
    "\n",
    "$P(ipad | iphone,macbook)=\\frac{2}{2}=1.0$\n",
    "\n",
    "$P(iphone | ipad)=\\frac{2}{5}=0.4$"
   ]
  },
  {
   "cell_type": "markdown",
   "metadata": {
    "slideshow": {
     "slide_type": "slide"
    }
   },
   "source": [
    "## Bayesian Network\n",
    "* Bayesian Networks\n",
    "   * constitute a <font color = \"red\">knowledge base</font>, where knowledge is represented in the language of probabilities\n",
    "* allow inference in both directions: \n",
    "    - causal\n",
    "    - diagnostic"
   ]
  },
  {
   "cell_type": "markdown",
   "metadata": {
    "slideshow": {
     "slide_type": "slide"
    }
   },
   "source": [
    "**Bayesian Networks:**\n",
    "\n",
    "Defined by:\n",
    "* <font color=\"red\">Nodes</font>: Variables\n",
    "* <font color=\"red\">Edges</font>: Direct dependencies between variables\n",
    "* <font color=\"red\">Conditional Probability Tables (CPT)</font> at each node: Contain the conditional probabilities of the node-variable, given the parent-variables."
   ]
  },
  {
   "cell_type": "markdown",
   "metadata": {
    "slideshow": {
     "slide_type": "slide"
    }
   },
   "source": [
    "### Configuration of Network\n",
    "<img src=\"https://maucher.home.hdm-stuttgart.de/Pics/bayesNetAsia.PNG\" style=\"width:600px\" align=\"center\">"
   ]
  },
  {
   "cell_type": "markdown",
   "metadata": {
    "slideshow": {
     "slide_type": "skip"
    }
   },
   "source": [
    "Bayesian Network is configured by\n",
    "* drawing a node for each relevant random variable\n",
    "* connecting directly dependent variables by edges\n",
    "    - pairs of independent variables need not be connected\n",
    "    - pairs of conditional independent variables need not be connected\n",
    "* Configuration of the CPTs for each node. The conditional probabilities to be inserted in the CPTs are estimated, e.g. from samples, expert knowledge, scientific studies, ..."
   ]
  },
  {
   "cell_type": "markdown",
   "metadata": {
    "slideshow": {
     "slide_type": "slide"
    }
   },
   "source": [
    "**Example:**\n",
    "\n",
    "In the introduction the random variables are \n",
    "* Cancer (C)\n",
    "* Mammography (M)\n",
    "\n",
    "The CPT at random variable $C$ consists of the single entry \n",
    "* $P(C)=0.01$\n",
    "\n",
    "The CPT at random variable $M$ consists of\n",
    "* $P(M|C)=0.8$\n",
    "* $P(M|\\neg C)=0.096$\n",
    "\n",
    "The task is to determine $P(C|M)$"
   ]
  },
  {
   "cell_type": "markdown",
   "metadata": {
    "slideshow": {
     "slide_type": "slide"
    }
   },
   "source": [
    "<img src=\"https://maucher.home.hdm-stuttgart.de/Pics/bayesNetCancer.PNG\" style=\"width:600px\" align=\"center\">"
   ]
  },
  {
   "cell_type": "markdown",
   "metadata": {},
   "source": [
    "Given the observation *Mammography positiv*, the probability for *Cancer* is 7.76%."
   ]
  },
  {
   "cell_type": "markdown",
   "metadata": {
    "slideshow": {
     "slide_type": "slide"
    }
   },
   "source": [
    "<img src=\"https://maucher.home.hdm-stuttgart.de/Pics/bayesNetAsiaInfer.PNG\" style=\"width:600px\" align=\"center\">"
   ]
  },
  {
   "cell_type": "markdown",
   "metadata": {},
   "source": [
    "Given the observation $Smoker positiv$ and *X-Ray positive* the probability for e.g. *Dyspnoea* is 73.19% and the probability for *lung-cancer* is 64.60%."
   ]
  },
  {
   "cell_type": "markdown",
   "metadata": {
    "collapsed": true,
    "slideshow": {
     "slide_type": "slide"
    }
   },
   "source": [
    "## Modelling of Risks in Project Management\n",
    "<img src=\"https://maucher.home.hdm-stuttgart.de/Pics/bayesNetProjectMgmt.PNG\">"
   ]
  },
  {
   "cell_type": "markdown",
   "metadata": {},
   "source": [
    "### Causal Inference\n",
    "<div class=\"text-medium container\">\n",
    "    <p>Project Manager realizes lack of communication (FehlendeKommunikation)</p>\n",
    "    <p>How does this observation impact other factors?</p>\n",
    "</div>\n",
    "<img src=\"https://maucher.home.hdm-stuttgart.de/Pics/bayesNetProjectMgmtKommunikation.PNG\">"
   ]
  },
  {
   "cell_type": "markdown",
   "metadata": {},
   "source": [
    "### Diagnostic Inference\n",
    "<div class=\"text-medium container\">\n",
    "    <p>The scheduled time could not be met. </p>\n",
    "    <p>What is the most likely reason, if it is known that the requirements were correctly defined from the beginning?</p>\n",
    "</div>\n",
    "<img src=\"https://maucher.home.hdm-stuttgart.de/Pics/bayesNetProjectMgmtDiagnose.PNG\">"
   ]
  },
  {
   "cell_type": "code",
   "execution_count": null,
   "metadata": {},
   "outputs": [],
   "source": []
  }
 ],
 "metadata": {
  "celltoolbar": "Slideshow",
  "kernelspec": {
   "display_name": "Python 3",
   "language": "python",
   "name": "python3"
  },
  "language_info": {
   "codemirror_mode": {
    "name": "ipython",
    "version": 3
   },
   "file_extension": ".py",
   "mimetype": "text/x-python",
   "name": "python",
   "nbconvert_exporter": "python",
   "pygments_lexer": "ipython3",
   "version": "3.7.5"
  },
  "nav_menu": {},
  "toc": {
   "base_numbering": 1,
   "nav_menu": {},
   "number_sections": true,
   "sideBar": true,
   "skip_h1_title": false,
   "title_cell": "Table of Contents",
   "title_sidebar": "Contents",
   "toc_cell": true,
   "toc_position": {
    "height": "calc(100% - 180px)",
    "left": "10px",
    "top": "150px",
    "width": "256px"
   },
   "toc_section_display": true,
   "toc_window_display": true
  }
 },
 "nbformat": 4,
 "nbformat_minor": 2
}
