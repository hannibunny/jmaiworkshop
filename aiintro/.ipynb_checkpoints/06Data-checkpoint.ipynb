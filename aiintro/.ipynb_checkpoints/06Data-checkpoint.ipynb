{
 "cells": [
  {
   "cell_type": "markdown",
   "metadata": {
    "slideshow": {
     "slide_type": "slide"
    }
   },
   "source": [
    "# Data\n",
    "* Author: Johannes Maucher\n",
    "* Last Update: 27.10.2020"
   ]
  },
  {
   "cell_type": "markdown",
   "metadata": {
    "slideshow": {
     "slide_type": "slide"
    }
   },
   "source": [
    "**Motivation:**    \n",
    "One of the central questions before starting a Machine Learning project is \n",
    "\n",
    "<center><i>How much data is required?</i></center>"
   ]
  },
  {
   "cell_type": "markdown",
   "metadata": {
    "slideshow": {
     "slide_type": "fragment"
    }
   },
   "source": [
    "The answer is:\n",
    "<center><i>It depends!</i></center>"
   ]
  },
  {
   "cell_type": "markdown",
   "metadata": {
    "slideshow": {
     "slide_type": "slide"
    }
   },
   "source": [
    "**Subject of this notebook** \n",
    "\n",
    "- Describe the main factors, which influence the amount of required data\n",
    "- Propose guidelines to check if enough data is available \n",
    "- Sketch methods to reduce the required amount of data"
   ]
  },
  {
   "cell_type": "markdown",
   "metadata": {
    "slideshow": {
     "slide_type": "slide"
    }
   },
   "source": [
    "## General Considerations\n",
    "* What is T, E, and P?\n",
    "* **E**xperience is derived from data\n",
    "* Is labeled data available?\n",
    "* **How much?** How much instances? How much features?\n",
    "* How about data distribution?\n",
    "* Estimate complexity of required model\n",
    "* What is the quality of the data?"
   ]
  },
  {
   "cell_type": "markdown",
   "metadata": {
    "slideshow": {
     "slide_type": "slide"
    }
   },
   "source": [
    "## Type of Data\n",
    "\n",
    "**numeric vs categorical type; nominal vs ordinal**\n",
    "\n",
    "<img src=\"https://maucher.home.hdm-stuttgart.de/Pics/dataTypes.png\" width=\"300\" align=\"center\">\n"
   ]
  },
  {
   "cell_type": "markdown",
   "metadata": {
    "slideshow": {
     "slide_type": "slide"
    }
   },
   "source": [
    "\n",
    "**Type of Data:** i.i.d.\n",
    "\n",
    "<img src=\"https://maucher.home.hdm-stuttgart.de/Pics/creditWorthiness.png\" width=\"500\" align=\"center\">\n"
   ]
  },
  {
   "cell_type": "markdown",
   "metadata": {
    "slideshow": {
     "slide_type": "slide"
    }
   },
   "source": [
    "**Type of Data:** sequential and dependent\n",
    "\n",
    "<img src=\"https://maucher.home.hdm-stuttgart.de/Pics/stockData.png\" width=\"500\" align=\"center\">\n"
   ]
  },
  {
   "cell_type": "markdown",
   "metadata": {
    "slideshow": {
     "slide_type": "slide"
    }
   },
   "source": [
    "**Type of Data:** Even more challenging dependent data:\n",
    "\n",
    "<img src=\"https://maucher.home.hdm-stuttgart.de/Pics/dependantDatatext.png\" style=\"width:600px\" align=\"center\">"
   ]
  },
  {
   "cell_type": "markdown",
   "metadata": {
    "slideshow": {
     "slide_type": "slide"
    }
   },
   "source": [
    "## Variance and Complexity of Data"
   ]
  },
  {
   "cell_type": "code",
   "execution_count": 1,
   "metadata": {
    "ExecuteTime": {
     "end_time": "2018-03-08T16:09:51.020199Z",
     "start_time": "2018-03-08T16:09:50.998017Z"
    },
    "slideshow": {
     "slide_type": "skip"
    }
   },
   "outputs": [],
   "source": [
    "import numpy as np\n",
    "from matplotlib import pyplot as plt\n",
    "Numpoints=200\n",
    "s11=1 #standard deviation of x1\n",
    "s22=1.4 #standard deviation of x2 \n",
    "rho=0.99 #correlation coefficient between s11 and s22\n",
    "#Determine covariance matrix from standard deviations\n",
    "var11=s11**2\n",
    "var22=s22**2\n",
    "var12=rho*s11*s22\n",
    "var21=var12\n",
    "cov1=np.array(([var11,var12],[var21,var22]))\n",
    "mean1=np.array([2,3])\n",
    "population1=np.random.multivariate_normal(mean1,cov1,Numpoints)\n",
    "\n",
    "rho2=0.5\n",
    "var12=rho2*s11*s22\n",
    "var21=var12\n",
    "cov2=np.array(([var11,var12],[var21,var22]))\n",
    "population2=np.random.multivariate_normal(mean1,cov2,Numpoints)"
   ]
  },
  {
   "cell_type": "markdown",
   "metadata": {
    "slideshow": {
     "slide_type": "slide"
    }
   },
   "source": [
    "### Variance of Data\n",
    "**Linear Regression Example:**\n",
    "* Assume that a linear model $$y=f(x)=m*x+b$$ shall be learned from data (parameters $m$ and $b$ must be learned)\n",
    "* From the entire data population **only a small subset is available for training**\n",
    "* **Question:** How much training data is required, if data is distributed as in\n",
    "    * Population 1 (see next cell)\n",
    "    * Population 2 ?"
   ]
  },
  {
   "cell_type": "code",
   "execution_count": 2,
   "metadata": {
    "ExecuteTime": {
     "end_time": "2018-03-08T16:13:39.001442Z",
     "start_time": "2018-03-08T16:13:38.727112Z"
    },
    "scrolled": true,
    "slideshow": {
     "slide_type": "slide"
    }
   },
   "outputs": [
    {
     "data": {
      "image/png": "[encoded data removed]",
      "text/plain": [
       "<Figure size 960x400 with 2 Axes>"
      ]
     },
     "metadata": {},
     "output_type": "display_data"
    }
   ],
   "source": [
    "plt.figure(num=None, figsize=(12, 5), dpi=80, facecolor='w', edgecolor='k')\n",
    "plt.subplot(1,2,1)\n",
    "plt.plot(population1[:,0],population1[:,1],'o',ms=6)\n",
    "plt.title(\"Population P1\"),plt.xlabel(\"x\"), plt.ylabel(\"y\")\n",
    "plt.subplot(1,2,2)\n",
    "plt.plot(population2[:,0],population2[:,1],'rs',ms=6)\n",
    "plt.title(\"Population P2\"),plt.xlabel(\"x\"), plt.ylabel(\"y\")\n",
    "plt.show()"
   ]
  },
  {
   "cell_type": "markdown",
   "metadata": {
    "slideshow": {
     "slide_type": "fragment"
    }
   },
   "source": [
    "* In the plot on the left variance of data is low $\\Rightarrow$ Small number of samples sufficient\n",
    "* On the right hand side variance is high $\\Rightarrow$ Larger number of samples required"
   ]
  },
  {
   "cell_type": "markdown",
   "metadata": {
    "slideshow": {
     "slide_type": "slide"
    }
   },
   "source": [
    "### Estimated complexity of model, that shall be learned \n",
    "How much data is required for training, in case of\n",
    "* data set 1 (left side of the follwing cell)\n",
    "* data set 2 (right side of the follwing cell)?"
   ]
  },
  {
   "cell_type": "code",
   "execution_count": 3,
   "metadata": {
    "ExecuteTime": {
     "end_time": "2018-03-08T16:34:31.143378Z",
     "start_time": "2018-03-08T16:34:30.908518Z"
    },
    "scrolled": false,
    "slideshow": {
     "slide_type": "slide"
    }
   },
   "outputs": [
    {
     "data": {
      "image/png": "[encoded data removed]",
      "text/plain": [
       "<Figure size 960x400 with 2 Axes>"
      ]
     },
     "metadata": {},
     "output_type": "display_data"
    }
   ],
   "source": [
    "Numpoints=10\n",
    "x=np.arange(Numpoints)\n",
    "f1=1.4*x+0.5*np.random.randn(Numpoints)\n",
    "f2=np.sin(x)+np.cos(2*x+0.2)+0.2*np.random.randn(Numpoints)\n",
    "plt.figure(num=None, figsize=(12, 5), dpi=80, facecolor='w', edgecolor='k')\n",
    "plt.subplot(1,2,1)\n",
    "plt.plot(x,f1,'o',ms=6),plt.xlabel(\"x\"), plt.ylabel(\"y\")\n",
    "plt.title(\"Training data 1\")\n",
    "plt.subplot(1,2,2)\n",
    "plt.plot(x,f2,'rs',ms=6),plt.xlabel(\"x\"), plt.ylabel(\"y\")\n",
    "plt.title(\"Training data 2\")\n",
    "plt.show()"
   ]
  },
  {
   "cell_type": "markdown",
   "metadata": {
    "slideshow": {
     "slide_type": "slide"
    }
   },
   "source": [
    "**Can we learn a good model from this training data?**"
   ]
  },
  {
   "cell_type": "markdown",
   "metadata": {
    "slideshow": {
     "slide_type": "slide"
    }
   },
   "source": [
    "* In the plot on the left a simple linear model seems to be sufficient $\\Rightarrow$ Small number of samples\n",
    "* On the right hand side a more complex model must be learned $\\Rightarrow$ Larger number of samples"
   ]
  },
  {
   "cell_type": "markdown",
   "metadata": {
    "slideshow": {
     "slide_type": "slide"
    }
   },
   "source": [
    "\n",
    "**Amount of required data depends on ...**\n",
    "\n",
    "<img src=\"https://maucher.home.hdm-stuttgart.de/Pics/amountDataNew.png\"  width=\"500\" align=\"center\">\n"
   ]
  },
  {
   "cell_type": "markdown",
   "metadata": {
    "slideshow": {
     "slide_type": "skip"
    }
   },
   "source": [
    "* Complexity of Model:\n",
    " - in regression: linear function? polynomial function of what degree, radial function...?\n",
    " - classification: linear discriminant? polynomial discriminant? ... ? How much classes?\n",
    "* Variance of data:\n",
    " - in regression: data is assumed to be composed of a determinisitic function plus noise. How is the noise-term distributed?\n",
    " - in classification:\n",
    "     - intra-class variance\n",
    "     - inter-class variance"
   ]
  },
  {
   "cell_type": "markdown",
   "metadata": {
    "slideshow": {
     "slide_type": "slide"
    }
   },
   "source": [
    "## How to check if you have enough training data\n",
    "* What you actually should verify is\n",
    "<center><font color=\"red\">Does the sample reliably represent the distribution of the entire data-population?</font></center>\n",
    "* A crucial challenge in this respect is <center><font color=\"red\">Which outliers can be disregarded?</font></center>\n",
    "* Advice:\n",
    "<center><font color=\"red\"><i>Consult problem-domain experts</i></font></center>"
   ]
  },
  {
   "cell_type": "markdown",
   "metadata": {
    "slideshow": {
     "slide_type": "skip"
    }
   },
   "source": [
    "**How to determine outliers?**\n",
    "* Visualize data: Scatter-Plots, Box-Plots, ...\n",
    "* Statistics, e.g. compare 98%-percentil and max()\n",
    "\n",
    "* Both methods are applicable for 1-or 2-dimensional data (projections)\n",
    "* For higher-dimensional data: RANSAC, Autoencoder, ...\n"
   ]
  },
  {
   "cell_type": "markdown",
   "metadata": {
    "slideshow": {
     "slide_type": "skip"
    }
   },
   "source": [
    "**Outliers vs specific cases:**\n",
    "* **True outliers:** Erroneous samples, which shall be removed.\n",
    "* **Specific cases:** Not erroneous, but far apart from majority of data.\n",
    "    - Remove them from the training data in order to prevent modelling-distortion\n",
    "    - Include them and apply a *robust* learning-procedure\n",
    "    - Apply cascaded approach: First distinguish specific from normal cases, then model them separately\n",
    "* <font color=\"red\">The less data you have, the harder to detect outlier/specific cases</font>"
   ]
  },
  {
   "cell_type": "markdown",
   "metadata": {
    "slideshow": {
     "slide_type": "slide"
    }
   },
   "source": [
    "**Means to determine whether the amount of training is sufficient** \n",
    "* Determine **Learningcurve**\n",
    "    - incrementally increase training data\n",
    "    - calculate in each step performance on training- and testdata\n",
    "* Learn model from different training-sample subsets and determine performance variance\n",
    "* This is actually cross-validation"
   ]
  },
  {
   "cell_type": "markdown",
   "metadata": {
    "slideshow": {
     "slide_type": "slide"
    }
   },
   "source": [
    "**Learning Curve for increasing amount of training data:**\n",
    "<img src=\"https://maucher.home.hdm-stuttgart.de/Pics/learningcurve.png\" style=\"width:800px\" align=\"center\">"
   ]
  },
  {
   "cell_type": "markdown",
   "metadata": {
    "slideshow": {
     "slide_type": "skip"
    }
   },
   "source": [
    "As long as the validation accuracy increases with increasing training data, one should go for more training data."
   ]
  },
  {
   "cell_type": "markdown",
   "metadata": {
    "slideshow": {
     "slide_type": "slide"
    }
   },
   "source": [
    "**Cross Validation:**\n",
    "\n",
    "<img src=\"https://maucher.home.hdm-stuttgart.de/Pics/CrossValidation.jpg\" style=\"width:800px\" align=\"center\">\n",
    "\n",
    "<img src=\"https://maucher.home.hdm-stuttgart.de/Pics/crossValidation.png\" style=\"width:800px\" align=\"center\">"
   ]
  },
  {
   "cell_type": "markdown",
   "metadata": {
    "slideshow": {
     "slide_type": "skip"
    }
   },
   "source": [
    "If the accuracy in the individual iterations of cross validation varies strongly, the amount of labeled data is probably too low."
   ]
  },
  {
   "cell_type": "markdown",
   "metadata": {
    "slideshow": {
     "slide_type": "slide"
    }
   },
   "source": [
    "## If you do not have enough data\n",
    "* Try to learn a simple modell\n",
    "* Improve data quality\n",
    "* Enhance your dataset with **good training samples** $\\Rightarrow$ **Active Learning**\n",
    "* Apply (automatic) data **augmentation** methods\n",
    "* Reduce the number of features by **feature selection** or **feature extraction**\n",
    "* Apply pretraining with unsupervised data (Deep Learning)\n",
    "* Use pretrained models from elsewhere"
   ]
  },
  {
   "cell_type": "markdown",
   "metadata": {
    "slideshow": {
     "slide_type": "slide"
    }
   },
   "source": [
    "**Active Learning:**\n",
    "\n",
    "<img src=\"https://maucher.home.hdm-stuttgart.de/Pics/activeLearning.png\" style=\"width:600px\" align=\"center\">\n",
    "Source: [B. Settles, Active Learning Survey](http://www.cs.cmu.edu/~10701/slides/Settles_notes.pdf)"
   ]
  },
  {
   "cell_type": "markdown",
   "metadata": {
    "slideshow": {
     "slide_type": "slide"
    }
   },
   "source": [
    "## In the case of Unbalanced Data\n",
    "<img src=\"https://maucher.home.hdm-stuttgart.de/Pics/churnClassDistribution.png\" style=\"width:600px\" align=\"center\">"
   ]
  },
  {
   "cell_type": "markdown",
   "metadata": {
    "slideshow": {
     "slide_type": "slide"
    }
   },
   "source": [
    "**Unbalanced Data:**\n",
    "* Serious (and often underestimated) problem in ML\n",
    "* How to cope with this problem?\n",
    "    - undersampling or oversampling data\n",
    "    - oversampling: Augmentation, e.g. by just duplicating data\n",
    "    - Consider to train a one-class model for outlier Detection?"
   ]
  },
  {
   "cell_type": "markdown",
   "metadata": {
    "slideshow": {
     "slide_type": "slide"
    }
   },
   "source": [
    "## Data and Deep Learning"
   ]
  },
  {
   "cell_type": "markdown",
   "metadata": {
    "slideshow": {
     "slide_type": "slide"
    }
   },
   "source": [
    "### Deep Learning doesn't require preprocessing ...\n",
    "\n",
    "<font color=\"red\">... because it automatically learns meaningful features</font>\n",
    "\n",
    "\n",
    "<img src=\"https://maucher.home.hdm-stuttgart.de/Pics/DLfeatureExtraction.png\" style=\"width:800px\" align=\"center\">"
   ]
  },
  {
   "cell_type": "markdown",
   "metadata": {
    "slideshow": {
     "slide_type": "slide"
    }
   },
   "source": [
    "On an abstract level the architecture of a Deep Neural Network looks like this:\n",
    "\n",
    "<img src=\"https://maucher.home.hdm-stuttgart.de/Pics/dnnExtractorClassifier.png\" alt=\"Drawing\" style=\"width: 800px;\"/>\n",
    "\n",
    "The goal of deep learning is to extract meaningful features. The *Extractor-Part* of the network learns from low-level features (e.g. pixel values) at the input of the network a hierarchy of increasingly meaningful features. "
   ]
  },
  {
   "cell_type": "markdown",
   "metadata": {
    "slideshow": {
     "slide_type": "slide"
    }
   },
   "source": [
    "\n",
    "<img src=\"https://maucher.home.hdm-stuttgart.de/Pics/cnnConceptCat.png\" alt=\"Drawing\"  width=\"500\">\n",
    "\n",
    "Image source: [F. Chollet, Deep Learning with Python](https://www.manning.com/books/deep-learning-with-python)"
   ]
  },
  {
   "cell_type": "markdown",
   "metadata": {
    "slideshow": {
     "slide_type": "slide"
    }
   },
   "source": [
    "### Deep Learning is superior in the case of large amounts of data (?)\n",
    "\n",
    "<img src=\"https://maucher.home.hdm-stuttgart.de/Pics/deepLearningDataAmount.png\"  width=\"500\" align=\"center\">"
   ]
  },
  {
   "cell_type": "markdown",
   "metadata": {
    "slideshow": {
     "slide_type": "slide"
    }
   },
   "source": [
    "**Some comments on the previous slide:**\n",
    "\n",
    "* Deep Learning is suitable for learning **complex models**\n",
    "* In order to learn complex models large amounts of data are required\n",
    "* Deep Learning is suitable for very high-dimensional data (e.g. images with millions of pixels)\n",
    "* In this case DL architectures are able to extract layer-by-layer more informative features\n",
    "* It's not true, that\n",
    "    - larger amount of data always increases performance\n",
    "    - Deep Learning is always better in the case of large amount of data\n"
   ]
  },
  {
   "cell_type": "markdown",
   "metadata": {
    "slideshow": {
     "slide_type": "slide"
    }
   },
   "source": [
    "### Deep Neural Networks consist of many layers and neurons ...\n",
    "... therefore many weights must be learned, what increases the number of training-data exponentially.\n",
    "\n",
    "<font color=\"red\">**But:**</font>\n",
    "- in contrast to MLPs not all neurons of one layer are connected with all neurons of the neighbouring layer\n",
    "- Many connections share the same weight-sets\n",
    "- ...\n"
   ]
  },
  {
   "cell_type": "markdown",
   "metadata": {
    "slideshow": {
     "slide_type": "slide"
    }
   },
   "source": [
    "### Deep Neural Networks can be pretrained with unlabeled data\n",
    "* Some Neural Networks can be pretrained with unlabeled data, e.g.\n",
    "- (Stacked) Autoencoder\n",
    "- Deep Belief Networks\n",
    "* After pretraining these networks are able to extract meaningful features\n",
    "* On top of the pretrained stack a classifier can be trained with a low number of application specific labeled data"
   ]
  },
  {
   "cell_type": "markdown",
   "metadata": {
    "slideshow": {
     "slide_type": "slide"
    }
   },
   "source": [
    "**Autoencoders** are trained such that they can reconstruct their input $\\mathbf{x}$ from the latent representation $\\mathbf{y}$.  \n",
    "<img src=\"https://maucher.home.hdm-stuttgart.de/Pics/autoencoder.png\" style=\"width:800px\" align=\"center\">"
   ]
  },
  {
   "cell_type": "markdown",
   "metadata": {
    "slideshow": {
     "slide_type": "slide"
    }
   },
   "source": [
    "### Pretrained Neural Networks can be downloaded and finetuned\n",
    "\n",
    "* Many pretrained Deep Neural nets can be downloaded, e.g. from\n",
    "[Keras](https://keras.io/api/applications/) and [Pytorch](https://pytorch.org/docs/stable/torchvision/models.html).\n",
    "* These nets are proven to **extract meaningful features** in the domain of their training-data\n",
    "* Usually the **topmost layers (classifiers) are removed** and replaced with an untrained classifier network\n",
    "* Then only a **small amount of domain-specific labeled training data** is required to train these classifier layers\n",
    "* Optionally also fine-tuning of other layers"
   ]
  },
  {
   "cell_type": "markdown",
   "metadata": {
    "slideshow": {
     "slide_type": "slide"
    }
   },
   "source": [
    "### Concluding Remark\n",
    "\n",
    "<center><font color=\"red\"><i> $\\Rightarrow$ Before applying Deep Learning you should understand your data and your task. In order to do so application of simple conventional approaches may help</i></font></center> "
   ]
  },
  {
   "cell_type": "markdown",
   "metadata": {
    "slideshow": {
     "slide_type": "fragment"
    }
   },
   "source": [
    "<img src=\"https://maucher.home.hdm-stuttgart.de/Pics/kanonenaufspatzen.jpg\" style=\"width:600px\" align=\"center\">"
   ]
  }
 ],
 "metadata": {
  "celltoolbar": "Slideshow",
  "kernelspec": {
   "display_name": "Python 3",
   "language": "python",
   "name": "python3"
  },
  "language_info": {
   "codemirror_mode": {
    "name": "ipython",
    "version": 3
   },
   "file_extension": ".py",
   "mimetype": "text/x-python",
   "name": "python",
   "nbconvert_exporter": "python",
   "pygments_lexer": "ipython3",
   "version": "3.7.5"
  },
  "nav_menu": {},
  "toc": {
   "base_numbering": 1,
   "nav_menu": {},
   "number_sections": true,
   "sideBar": false,
   "skip_h1_title": false,
   "title_cell": "Table of Contents",
   "title_sidebar": "Contents",
   "toc_cell": false,
   "toc_position": {},
   "toc_section_display": false,
   "toc_window_display": false
  }
 },
 "nbformat": 4,
 "nbformat_minor": 2
}
