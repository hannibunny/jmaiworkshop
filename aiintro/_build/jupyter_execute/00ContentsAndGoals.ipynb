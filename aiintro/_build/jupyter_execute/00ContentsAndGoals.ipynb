{
 "cells": [
  {
   "cell_type": "markdown",
   "metadata": {},
   "source": [
    "# AI Seminar Mahle\n",
    "* Author: Prof. Dr. Johannes Maucher\n",
    "* Date: 09.10.2020\n",
    "* Location: "
   ]
  },
  {
   "cell_type": "markdown",
   "metadata": {},
   "source": [
    "## Overall Goals\n",
    "This workshop consists of 3 blocks, which are described below. The overall goals are: \n",
    "\n",
    "* Artificial Intelligence (AI) is not about creating super-human-science-fiction-creatures. AI, instead provides an extremely flexible and comprehensive toolbox, which can be applied for an almost infinite field of applications. The main goal of this workshop is to provide you a glimpse into the immense AI potential. In the best case you will find out, that some of your daily work or projects can be better solved by **applying AI-tools.**\n",
    "\n",
    "* **Just do it!** - You should not be afraid of AI and it's supposed complexity. Instead immediately start your first project after this seminar by adapting the provided Jupyter-notebooks to your task and data. You will find out, that there are solutions (Jupyter Notebooks) for a vast variety of different problems on GitHub, Bitbucket, etc. If you manage to **abstract your problem**, you will find a solution, which can be adapted to solve your problem.\n",
    " \n"
   ]
  },
  {
   "cell_type": "markdown",
   "metadata": {},
   "source": [
    "## Block 1: AI categories and some sample applications\n",
    "The field of Artificial lIntelligence is usually partitioned into the following 4 categories:\n",
    "\n",
    "* Search and Plan\n",
    "* Knowledge Representation and Inference\n",
    "* Modelling of Uncertainty\n",
    "* Machine Learning\n",
    "\n",
    "In this first block the general concepts of these categories are described. For each of the categories some representative applications are discussed. \n",
    "\n",
    "The first 3 categories will be sketched only on a shallow abstract level. The fourth category **Machine Learning** is currently by far the most important one. Actually, if people speak about AI they almost always mean Machine Leraning and in particular **Deep Learning**. Hence, in the following two blocks we focus only on Machine Learning and Deep Learning."
   ]
  },
  {
   "cell_type": "markdown",
   "metadata": {},
   "source": [
    "## Block 2: Implementation of Data Mining Process in Python\n",
    "\n",
    "Machine Learning algorithms are at the heart of any Data Mining process. However, the entire Data Mining process consists of other modules:\n",
    "1. Data Access\n",
    "2. Data Understanding and Selection\n",
    "3. Data Cleaning\n",
    "4. Data Transformations\n",
    "5. Modelling (<- that's the Machine Learning part)\n",
    "6. Evaluation\n",
    "7. Visualisation and Interpretation\n",
    "\n",
    "In this block the entire Data Mining process chain is implemented in Python and the following Python packages:\n",
    "* [numpy](http://www.numpy.org) and [scipy](https://www.scipy.org) for efficient datastructures and scientific calculations\n",
    "* [pandas](https://pandas.pydata.org) for typical data science tasks, such as data access, descriptive statistics, joining of datasets, correlation analysis, etc.\n",
    "* [matplotlib](https://matplotlib.org) and [Bokeh](https://bokeh.pydata.org/en/latest/)\n",
    "* [scikit-learn](https://scikit-learn.org/stable/) for conventional Machine Learning. I.e. all but Deep Neural Networks\n",
    "* [tensorflow](https://www.tensorflow.org) and [keras](https://keras.io) for Deep Neural Networks"
   ]
  },
  {
   "cell_type": "markdown",
   "metadata": {},
   "source": [
    "## Block 3: Neural Networks and their Implementations and Applications in Python\n",
    "\n",
    "Almost all of the recently popular AI applications, such as AlphaZero, Object Recognition, Speech Recognition, Language Understanding, Automatic Translation, Style-Transfer, Image-Captioning, Automatic generation of text, speech, audio, images, video, ... are Deep Neural Networks. \n",
    "\n",
    "In this block the basics of conventional neural networks are presented. Then the most important concepts, layer-types and architectures of deep neural networks are introduced. Finally it is shown how deep neural network applications can be implemented in a fast and efficient way applying [tensorflow](https://www.tensorflow.org) and [keras](https://keras.io). Jupyter Notebooks, e.g. for Object Recognition, Document Classification and Time Series Prediction are provided.   "
   ]
  }
 ],
 "metadata": {
  "kernelspec": {
   "display_name": "Python 3",
   "language": "python",
   "name": "python3"
  },
  "language_info": {
   "codemirror_mode": {
    "name": "ipython",
    "version": 3
   },
   "file_extension": ".py",
   "mimetype": "text/x-python",
   "name": "python",
   "nbconvert_exporter": "python",
   "pygments_lexer": "ipython3",
   "version": "3.7.5"
  },
  "toc": {
   "base_numbering": 1,
   "nav_menu": {},
   "number_sections": true,
   "sideBar": true,
   "skip_h1_title": false,
   "title_cell": "Table of Contents",
   "title_sidebar": "Contents",
   "toc_cell": false,
   "toc_position": {},
   "toc_section_display": true,
   "toc_window_display": false
  }
 },
 "nbformat": 4,
 "nbformat_minor": 2
}