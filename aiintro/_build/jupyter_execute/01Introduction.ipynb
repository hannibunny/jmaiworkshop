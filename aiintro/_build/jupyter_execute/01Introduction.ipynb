{
 "cells": [
  {
   "cell_type": "markdown",
   "metadata": {
    "slideshow": {
     "slide_type": "slide"
    }
   },
   "source": [
    "# Introduction: What's Artificial Intelligence (AI)\n",
    "* Author: Johannes Maucher\n",
    "* Last Update: 15.10.2020"
   ]
  },
  {
   "cell_type": "markdown",
   "metadata": {
    "slideshow": {
     "slide_type": "slide"
    }
   },
   "source": [
    "## Impact of AI\n",
    "\n",
    "- *Artificial intelligence has reached a new stage of maturity in recent years and, as a basic innovation, is developing into a **driver of digitalization and autonomous systems in all areas of life**. State, society, economy, administration and science are called upon to face the chances and risks of AI.* Source: [Strategiepapier zur Künstlichen Intelligenz der Bundesregierung](https://www.bmbf.de/files/Nationale_KI-Strategie.pdf)\n",
    "- It is supposed that AI will change life, work, economy, communication in a similar extend as the internet did before\n",
    "- AI is a cross-sectional science which\n",
    "    - enables new applications\n",
    "    - improves and optimizes existing applications\n",
    "    - improves and optimizes business processes\n",
    "    \n",
    "  in a wide range of domains. \n",
    "\n",
    "- [Paper on new business models enabled by AI](https://www.plattform-lernende-systeme.de/files/Downloads/Publikationen/AG4_Bericht_231019.pdf)"
   ]
  },
  {
   "cell_type": "markdown",
   "metadata": {
    "slideshow": {
     "slide_type": "slide"
    }
   },
   "source": [
    "### AI is a toolbox for a wide range of problems and applications\n",
    "\n",
    "<img src=\"https://maucher.home.hdm-stuttgart.de/Pics/LoesungsEbenen.PNG\" style=\"width:500px\" align=\"center\">\n",
    "\n",
    "If you manage to translate your problem into the **language of AI**, you may come up with faster and better solutions. Hence everybody should strive to learn this language. "
   ]
  },
  {
   "cell_type": "markdown",
   "metadata": {
    "slideshow": {
     "slide_type": "slide"
    }
   },
   "source": [
    "## What is Artificial Intelligence?\n",
    "### What is intelligence?"
   ]
  },
  {
   "cell_type": "markdown",
   "metadata": {
    "slideshow": {
     "slide_type": "slide"
    }
   },
   "source": [
    "<img src=\"https://maucher.home.hdm-stuttgart.de/Pics/intelligence.png\" style=\"width:500px\" align=\"center\">"
   ]
  },
  {
   "cell_type": "markdown",
   "metadata": {
    "slideshow": {
     "slide_type": "slide"
    }
   },
   "source": [
    "#### Example: Plan Route"
   ]
  },
  {
   "cell_type": "markdown",
   "metadata": {
    "slideshow": {
     "slide_type": "fragment"
    }
   },
   "source": [
    "<img src=\"https://maucher.home.hdm-stuttgart.de/Pics/planRoute.png\" style=\"width:700px\" align=\"center\">"
   ]
  },
  {
   "cell_type": "markdown",
   "metadata": {
    "slideshow": {
     "slide_type": "slide"
    }
   },
   "source": [
    "### From Human Intelligence to Automation ...\n",
    "\n",
    "\n",
    "<img src=\"https://maucher.home.hdm-stuttgart.de/Pics/automatisierungOhneKI.PNG\" width = \"600\" align=\"center\">"
   ]
  },
  {
   "cell_type": "markdown",
   "metadata": {
    "slideshow": {
     "slide_type": "slide"
    }
   },
   "source": [
    "### ... and from Automation to Machine Learning\n",
    "<img src=\"https://maucher.home.hdm-stuttgart.de/Pics/automatisierungMachineLearning.PNG\" width = \"600\" align=\"center\">"
   ]
  },
  {
   "cell_type": "markdown",
   "metadata": {
    "slideshow": {
     "slide_type": "slide"
    }
   },
   "source": [
    "### What is Artificial Intelligence?\n",
    "* **AI tries to integrate cognitive abilities**, such as inference, planning, problem solving, learning etc. in computer systems.\n",
    "* The goal of AI research is to enable modern AI systems (learning systems) such as machines, robots and software systems to **autonomously process and solve abstract tasks and problems even under changed conditions** - without a human being programming an explicit solution. \n",
    "* All AI systems that are technically feasible today enable problem solving in limited contexts (e.g. speech or image recognition) and thus belong to the so-called **weak AI**"
   ]
  },
  {
   "cell_type": "markdown",
   "metadata": {
    "slideshow": {
     "slide_type": "slide"
    }
   },
   "source": [
    "#### Turing Test\n",
    "One of the most famous definitions of AI, the **Turing Test** addresses primarily a Knowledge-based agent: \n",
    "<img src=\"https://maucher.home.hdm-stuttgart.de/Pics/turingtest.jpg\" style=\"width:400px\" align=\"center\">"
   ]
  },
  {
   "cell_type": "markdown",
   "metadata": {
    "slideshow": {
     "slide_type": "slide"
    }
   },
   "source": [
    "#### Categorization of AI-Definitions\n",
    "\n",
    "AI develops ...\n",
    "\n",
    "<img src=\"https://maucher.home.hdm-stuttgart.de/Pics/aiDefinition.png\" style=\"width:700px\">\n",
    "\n",
    "Engineer's definition ([S. Russel and P. Norvig](http://aima.cs.berkeley.edu)): <font color = red>*AI develops rational agents*</font>"
   ]
  },
  {
   "cell_type": "markdown",
   "metadata": {
    "slideshow": {
     "slide_type": "slide"
    }
   },
   "source": [
    "#### Rational Agents\n",
    "\n",
    "![agentGeneral.png](https://maucher.home.hdm-stuttgart.de/Pics/agentGeneral.png)\n",
    "\n",
    "See also [notebook on rational agents](01aWhatsAI.ipynb)."
   ]
  },
  {
   "cell_type": "markdown",
   "metadata": {
    "slideshow": {
     "slide_type": "notes"
    }
   },
   "source": [
    "A rational agent is anything that is\n",
    "1. **perceiving** its environment through sensors\n",
    "2. **thinking** and deciding on the next actions\n",
    "2. **acting** through actuators\n",
    "\n",
    "Rational means, that the agent acts in a way that is expected to maximize its performance measure, given it's\n",
    "* built-in knowledge\n",
    "* perceived experience\n",
    "* acting capabilities "
   ]
  },
  {
   "cell_type": "markdown",
   "metadata": {
    "slideshow": {
     "slide_type": "slide"
    }
   },
   "source": [
    "### AI is not new\n",
    "\n",
    "<img src=\"https://maucher.home.hdm-stuttgart.de/Pics/aiHistory.png\" style=\"width:800px\">"
   ]
  },
  {
   "cell_type": "markdown",
   "metadata": {
    "slideshow": {
     "slide_type": "slide"
    }
   },
   "source": [
    "## Categories of AI\n",
    "\n",
    "\n",
    "<img src=\"https://maucher.home.hdm-stuttgart.de/Pics/KiKategorien.png\" style=\"width:400px\">"
   ]
  },
  {
   "cell_type": "markdown",
   "metadata": {
    "slideshow": {
     "slide_type": "slide"
    }
   },
   "source": [
    "## Some popular AI Applications "
   ]
  },
  {
   "cell_type": "markdown",
   "metadata": {
    "slideshow": {
     "slide_type": "fragment"
    }
   },
   "source": [
    "### Digital Assistant\n",
    "<img src=\"https://maucher.home.hdm-stuttgart.de/Pics/alexa.jpg\" style=\"width:700px\" align=\"middle\">\n",
    "<p style=\"font-size: 8pt\">Copyright Amazon</p>"
   ]
  },
  {
   "cell_type": "markdown",
   "metadata": {
    "slideshow": {
     "slide_type": "slide"
    }
   },
   "source": [
    "### Recommender Systems\n",
    "<img src=\"https://maucher.home.hdm-stuttgart.de/Pics/amazon.png\" style=\"width:400px\" align=\"left\">\n",
    "<img src=\"https://maucher.home.hdm-stuttgart.de/Pics/empfehlungssysteme_spotify.png\" style=\"width:400px\" align=\"right\">"
   ]
  },
  {
   "cell_type": "markdown",
   "metadata": {
    "slideshow": {
     "slide_type": "slide"
    }
   },
   "source": [
    "### Face-, Scene- and Objectrecognition\n",
    "<img src=\"https://maucher.home.hdm-stuttgart.de/Pics/gesichtserkennung_smartphone.PNG\" style=\"width:400px\" align=\"middle\">\n",
    "<p style=\"font-size: 8pt\">Quelle: https://www.heise.de/mac-and-i/tipps/Gesichtserkennung-auf-iPhone-manuell-anpassen-4219849.html</p>"
   ]
  },
  {
   "cell_type": "markdown",
   "metadata": {
    "slideshow": {
     "slide_type": "slide"
    }
   },
   "source": [
    "<img src=\"https://maucher.home.hdm-stuttgart.de/Pics/yoloLocalisationRun.png\" style=\"width:800px\" align=\"center\">"
   ]
  },
  {
   "cell_type": "markdown",
   "metadata": {
    "slideshow": {
     "slide_type": "slide"
    }
   },
   "source": [
    "### Chess, Go, Poker, ...\n",
    "<img src=\"https://maucher.home.hdm-stuttgart.de/Pics/poker.jpg\" style=\"width:500px\" align=\"center\">"
   ]
  },
  {
   "cell_type": "markdown",
   "metadata": {
    "slideshow": {
     "slide_type": "slide"
    }
   },
   "source": [
    "### Early Detection of Diabetic Retinopathie\n",
    "\n",
    "<div>\n",
    "    <img src=\"https://maucher.home.hdm-stuttgart.de/Pics/retinopathie-app.png\" width=\"200\" align=\"left\">\n",
    "    <img src=\"https://maucher.home.hdm-stuttgart.de/Pics/retinopathie-beispiel.png\" width=\"500\" align=\"right\">\n",
    "</div>\n"
   ]
  },
  {
   "cell_type": "markdown",
   "metadata": {
    "slideshow": {
     "slide_type": "slide"
    }
   },
   "source": [
    "\n",
    "### Cancer Detection\n",
    "\n",
    "<img src=\"https://maucher.home.hdm-stuttgart.de/Pics/prostate_cancer.png\" width=\"700\" align=\"center\">\n"
   ]
  },
  {
   "cell_type": "markdown",
   "metadata": {
    "slideshow": {
     "slide_type": "slide"
    }
   },
   "source": [
    "<img src=\"https://maucher.home.hdm-stuttgart.de/Pics/jtHealth.png\" style=\"width:800px\">"
   ]
  },
  {
   "cell_type": "markdown",
   "metadata": {
    "slideshow": {
     "slide_type": "slide"
    }
   },
   "source": [
    "### Crime\n",
    "<img src=\"https://maucher.home.hdm-stuttgart.de/Pics/lkagan.PNG\" style=\"width:600px\" align=\"center\">\n",
    "<p style=\"font-size: 8pt\">Quelle: https://www.sueddeutsche.de/digital/kindesmissbrauch-darknet-kuenstliche-intelligenz-1.4726598</p>"
   ]
  },
  {
   "cell_type": "markdown",
   "metadata": {
    "slideshow": {
     "slide_type": "slide"
    }
   },
   "source": [
    "### Personality Classification\n",
    "<img src=\"https://maucher.home.hdm-stuttgart.de/Pics/zeitAIbewerbung.PNG\" style=\"width:800px\">"
   ]
  },
  {
   "cell_type": "markdown",
   "metadata": {
    "slideshow": {
     "slide_type": "slide"
    }
   },
   "source": [
    "### Automatic Text Generation\n",
    "\n",
    "<img src=\"https://maucher.home.hdm-stuttgart.de/Pics/textGenerationRetresco.png\" style=\"width:600px\">\n",
    "\n",
    "\n",
    "Source: [https://www.retresco.de](https://www.retresco.de)"
   ]
  },
  {
   "cell_type": "markdown",
   "metadata": {
    "slideshow": {
     "slide_type": "slide"
    }
   },
   "source": [
    "### Image Generation and Manipulation\n",
    "<img src=\"https://maucher.home.hdm-stuttgart.de/Pics/jtGan.png\" style=\"width:800px\">"
   ]
  },
  {
   "cell_type": "markdown",
   "metadata": {
    "slideshow": {
     "slide_type": "slide"
    }
   },
   "source": [
    "### Style Transfer\n",
    "<img src=\"https://maucher.home.hdm-stuttgart.de/Pics/styleTransfer.png\" style=\"width:800px\">\n",
    "\n",
    "Source: [https://deepart.io](https://deepart.io)"
   ]
  },
  {
   "cell_type": "markdown",
   "metadata": {
    "slideshow": {
     "slide_type": "slide"
    }
   },
   "source": [
    "### Drawing\n",
    "<img src=\"https://maucher.home.hdm-stuttgart.de/Pics/gauGanDemo.png\" style=\"width:800px\">\n",
    "\n",
    "Source: [http://nvidia-research-mingyuliu.com/gaugan/](http://nvidia-research-mingyuliu.com/gaugan/)"
   ]
  },
  {
   "cell_type": "markdown",
   "metadata": {
    "slideshow": {
     "slide_type": "slide"
    }
   },
   "source": [
    "## Some final words to AI compared to Human Intelligence\n",
    "\n",
    "<img src=\"https://maucher.home.hdm-stuttgart.de/Pics/captionbotexample.png\" style=\"width:600px\">\n",
    "\n",
    "Source: [https://www.captionbot.ai](https://www.captionbot.ai)\n"
   ]
  }
 ],
 "metadata": {
  "celltoolbar": "Slideshow",
  "kernelspec": {
   "display_name": "Python 3",
   "language": "python",
   "name": "python3"
  },
  "language_info": {
   "codemirror_mode": {
    "name": "ipython",
    "version": 3
   },
   "file_extension": ".py",
   "mimetype": "text/x-python",
   "name": "python",
   "nbconvert_exporter": "python",
   "pygments_lexer": "ipython3",
   "version": "3.7.5"
  },
  "nav_menu": {},
  "toc": {
   "base_numbering": 1,
   "nav_menu": {},
   "number_sections": true,
   "sideBar": true,
   "skip_h1_title": false,
   "title_cell": "Table of Contents",
   "title_sidebar": "Contents",
   "toc_cell": false,
   "toc_position": {
    "height": "calc(100% - 180px)",
    "left": "10px",
    "top": "150px",
    "width": "256px"
   },
   "toc_section_display": true,
   "toc_window_display": false
  }
 },
 "nbformat": 4,
 "nbformat_minor": 4
}