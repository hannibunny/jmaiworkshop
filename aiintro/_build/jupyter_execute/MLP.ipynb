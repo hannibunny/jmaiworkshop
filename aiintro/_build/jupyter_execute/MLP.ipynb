{
 "cells": [
  {
   "cell_type": "markdown",
   "metadata": {
    "toc": "true"
   },
   "source": [
    "<h1>Table of Contents<span class=\"tocSkip\"></span></h1>\n",
    "<div class=\"toc\"><ul class=\"toc-item\"><li><span><a href=\"#Multi-Layer-Perceptron\" data-toc-modified-id=\"Multi-Layer-Perceptron-1\"><span class=\"toc-item-num\">1&nbsp;&nbsp;</span>Multi Layer Perceptron</a></span><ul class=\"toc-item\"><li><span><a href=\"#Notations-and-Basic-Characteristics\" data-toc-modified-id=\"Notations-and-Basic-Characteristics-1.1\"><span class=\"toc-item-num\">1.1&nbsp;&nbsp;</span>Notations and Basic Characteristics</a></span></li><li><span><a href=\"#Early-MLP-Example:-Autonomos-Driving\" data-toc-modified-id=\"Early-MLP-Example:-Autonomos-Driving-1.2\"><span class=\"toc-item-num\">1.2&nbsp;&nbsp;</span>Early MLP Example: Autonomos Driving</a></span></li><li><span><a href=\"#Architecture\" data-toc-modified-id=\"Architecture-1.3\"><span class=\"toc-item-num\">1.3&nbsp;&nbsp;</span>Architecture</a></span><ul class=\"toc-item\"><li><span><a href=\"#Number-of-hidden-layers\" data-toc-modified-id=\"Number-of-hidden-layers-1.3.1\"><span class=\"toc-item-num\">1.3.1&nbsp;&nbsp;</span>Number of hidden layers</a></span></li><li><span><a href=\"#Activation--and-Loss-functions\" data-toc-modified-id=\"Activation--and-Loss-functions-1.3.2\"><span class=\"toc-item-num\">1.3.2&nbsp;&nbsp;</span>Activation- and Loss-functions</a></span><ul class=\"toc-item\"><li><span><a href=\"#Activation-functions-in-hidden-layers\" data-toc-modified-id=\"Activation-functions-in-hidden-layers-1.3.2.1\"><span class=\"toc-item-num\">1.3.2.1&nbsp;&nbsp;</span>Activation functions in hidden layers</a></span></li><li><span><a href=\"#Activation-functions-in-the-output-layer-and-loss-functions\" data-toc-modified-id=\"Activation-functions-in-the-output-layer-and-loss-functions-1.3.2.2\"><span class=\"toc-item-num\">1.3.2.2&nbsp;&nbsp;</span>Activation functions in the output layer and loss functions</a></span></li></ul></li></ul></li><li><span><a href=\"#Gradient-Descent-Learning\" data-toc-modified-id=\"Gradient-Descent-Learning-1.4\"><span class=\"toc-item-num\">1.4&nbsp;&nbsp;</span>Gradient Descent Learning</a></span></li></ul></li><li><span><a href=\"#MLP-Implementation-and-Demonstration\" data-toc-modified-id=\"MLP-Implementation-and-Demonstration-2\"><span class=\"toc-item-num\">2&nbsp;&nbsp;</span>MLP Implementation and Demonstration</a></span><ul class=\"toc-item\"><li><span><a href=\"#Definition-of-helper-functions\" data-toc-modified-id=\"Definition-of-helper-functions-2.1\"><span class=\"toc-item-num\">2.1&nbsp;&nbsp;</span>Definition of helper functions</a></span></li><li><span><a href=\"#Implementation-of-Single-Forward--and-Backward-Pass-in-MLP\" data-toc-modified-id=\"Implementation-of-Single-Forward--and-Backward-Pass-in-MLP-2.2\"><span class=\"toc-item-num\">2.2&nbsp;&nbsp;</span>Implementation of Single Forward- and Backward Pass in MLP</a></span><ul class=\"toc-item\"><li><span><a href=\"#Classification-into-$K=3$-classes\" data-toc-modified-id=\"Classification-into-$K=3$-classes-2.2.1\"><span class=\"toc-item-num\">2.2.1&nbsp;&nbsp;</span>Classification into $K=3$ classes</a></span><ul class=\"toc-item\"><li><span><a href=\"#Forward-Pass:\" data-toc-modified-id=\"Forward-Pass:-2.2.1.1\"><span class=\"toc-item-num\">2.2.1.1&nbsp;&nbsp;</span>Forward-Pass:</a></span></li><li><span><a href=\"#Contribution-to-Loss-Function\" data-toc-modified-id=\"Contribution-to-Loss-Function-2.2.1.2\"><span class=\"toc-item-num\">2.2.1.2&nbsp;&nbsp;</span>Contribution to Loss Function</a></span></li><li><span><a href=\"#Backward-Pass\" data-toc-modified-id=\"Backward-Pass-2.2.1.3\"><span class=\"toc-item-num\">2.2.1.3&nbsp;&nbsp;</span>Backward Pass</a></span></li><li><span><a href=\"#Forward-Pass-with-adapted-weights\" data-toc-modified-id=\"Forward-Pass-with-adapted-weights-2.2.1.4\"><span class=\"toc-item-num\">2.2.1.4&nbsp;&nbsp;</span>Forward-Pass with adapted weights</a></span></li><li><span><a href=\"#New-Contribution-to-Loss-Function\" data-toc-modified-id=\"New-Contribution-to-Loss-Function-2.2.1.5\"><span class=\"toc-item-num\">2.2.1.5&nbsp;&nbsp;</span>New Contribution to Loss Function</a></span></li></ul></li></ul></li></ul></li><li><span><a href=\"#Multilayer-Perceptron-(MLP)-for-handwritten-digit-recognition\" data-toc-modified-id=\"Multilayer-Perceptron-(MLP)-for-handwritten-digit-recognition-3\"><span class=\"toc-item-num\">3&nbsp;&nbsp;</span>Multilayer Perceptron (MLP) for handwritten digit recognition</a></span><ul class=\"toc-item\"><li><span><a href=\"#Class-MLP\" data-toc-modified-id=\"Class-MLP-3.1\"><span class=\"toc-item-num\">3.1&nbsp;&nbsp;</span>Class MLP</a></span></li><li><span><a href=\"#Load-labeled-data\" data-toc-modified-id=\"Load-labeled-data-3.2\"><span class=\"toc-item-num\">3.2&nbsp;&nbsp;</span>Load labeled data</a></span></li><li><span><a href=\"#Split-labeled-dataset-into-training--and-test-partition\" data-toc-modified-id=\"Split-labeled-dataset-into-training--and-test-partition-3.3\"><span class=\"toc-item-num\">3.3&nbsp;&nbsp;</span>Split labeled dataset into training- and test-partition</a></span></li><li><span><a href=\"#Generate,-configure,-train-and-test-MLP\" data-toc-modified-id=\"Generate,-configure,-train-and-test-MLP-3.4\"><span class=\"toc-item-num\">3.4&nbsp;&nbsp;</span>Generate, configure, train and test MLP</a></span></li></ul></li></ul></div>"
   ]
  },
  {
   "cell_type": "markdown",
   "metadata": {},
   "source": [
    "# Multi Layer Perceptron\n",
    "This notebook is based on the theory on Neural Networks as described in [notebook SLP](SLP.ipynb). Since Multi Layer Perceptrons (MLPs) are an extension of SLPs, it is strongly recommended to first read [notebook SLP](SLP.ipynb).\n",
    "\n",
    "## Notations and Basic Characteristics\n",
    "A Multi Layer Perceptron (MLP) with $L\\geq 2$ layers is a Feedforward Neural Network (FNN), which consists of \n",
    "* an input-layer (which is actually not counted as *layer*)\n",
    "* an output layer \n",
    "* a sequence of $L-1$ hidden layers inbetween the input- and output-layer\n",
    "\n",
    "Usually the number of hidden layers is 1,2 or 3. All neurons of a layer are connected to all neurons of the successive layer. A layer with this property is also called a **fully-connected layer** or a **dense layer**. \n",
    "\n",
    "An example of a $L=3$ layer MLP is shown in the following picture. \n",
    "\n",
    "<img src=\"https://maucher.home.hdm-stuttgart.de/Pics/mlpL3.png\" alt=\"Drawing\" style=\"width: 600px;\"/>\n",
    "\n"
   ]
  },
  {
   "cell_type": "markdown",
   "metadata": {},
   "source": [
    "As in the case of SLPs, the biases in MLP can be modelled implicitily by including to all non-output-layers a constant neuron $x_0=1$, or by the explicit bias-vector $\\mathbf{b^l}$ in layer $l$. In the picture above, the latter option is applied.\n",
    "\n",
    "In order to provide a unified description the following notation is used:\n",
    "* the number of neurons in layer $l$ is denoted by $z_l$.\n",
    "* the output of the layer in depth $l$ is denoted by the vector $\\mathbf{h^l}=(h_1^l,h_2^l,\\ldots,h_{z_l}^l)$, \n",
    "* $\\mathbf{x}=\\mathbf{h^0}$ is the input to the network,\n",
    "* $\\mathbf{y}=\\mathbf{h^L}$ is the network's output,\n",
    "* $\\mathbf{b^l}$ is the bias-vector of layer $l$,\n",
    "* $W^l$ is the weight-matrix of layer $l$. It's entry $W_{ij}^l$ is the weight from the j.th neuron in layer $l-1$ to the i.th neuron in layer $l$. Hence, the weight-matrix $W^l$ has $z_l$ rows and $z_{l-1}$ columns.\n",
    "\n",
    "With this notation the **Forward-Pass** of the MLP in the picture above can be calculated as follows:\n",
    "\n",
    "**Output of first hidden-layer:**\n",
    "$$\\left( \\begin{array}{c} h_1^1 \\\\ h_2^1 \\\\ h_3^1 \\\\ h_4^1 \\end{array} \\right) = g\\left( \\left( \\begin{array}{ccc} W_{11}^1 & W_{12}^1 & W_{13}^1 \\\\ W_{21}^1 & W_{22}^1 & W_{23}^1 \\\\ W_{31}^1 & W_{32}^1 & W_{33}^1 \\\\ W_{41}^1 & W_{42}^1 & W_{43}^1 \\end{array} \\right) \\left( \\begin{array}{c} x_1 \\\\ x_2 \\\\ x_3 \\end{array} \\right) + \\left( \\begin{array}{c} b_1^1 \\\\ b_2^1 \\\\ b_3^1 \\\\ b_4^1 \\end{array} \\right) \\right)$$\n",
    "\n",
    "\n",
    "\n",
    "**Output of second hidden-layer:**\n",
    "\n",
    "$$\\left( \\begin{array}{c} h_1^2 \\\\ h_2^2 \\\\ h_3^2 \\end{array} \\right) = g\\left( \\left( \\begin{array}{cccc} W_{11}^2 & W_{12}^2 & W_{13}^2 & W_{14}^2\\\\ W_{21}^2 & W_{22}^2 & W_{23}^2 & W_{24}^2\\\\ W_{31}^2 & W_{32}^2 & W_{33}^2 & W_{34}^2 \\end{array} \\right) \\left( \\begin{array}{c} h^1_1 \\\\ h^1_2 \\\\ h^1_3 \\\\ h^1_4 \\end{array} \\right) + \\left( \\begin{array}{c} b_1^2 \\\\ b_2^2 \\\\ b_3^2 \\end{array} \\right) \\right)$$\n",
    "\n",
    "**Output of the network:**\n",
    "\n",
    "$$y = \\left( \\begin{array}{c} h_1^3 \\\\ \\end{array} \\right) = g\\left( \\left( \\begin{array}{ccc} W_{11}^3 & W_{12}^3 & W_{13}^3 \\end{array} \\right) \\left( \\begin{array}{c} h^2_1 \\\\ h^2_2 \\\\ h^2_3 \\end{array} \\right) + \\left( \\begin{array}{c} b_1^3 \\end{array} \\right) \\right)$$\n",
    "\n",
    "As in the case of [Single Layer Perceptrons](SLP.ipynb) the three categories regression, binary- and $K$-ary classification are distinguished. In contrast to SLPs, MLPs are able to **learn non-linear** models. This difference is depicted below: The left hand side shows the linear classification-boundary, as learned by a SLP, whereas on the right-hand side the non-linear boundary, as learned by a MLP from the same training data, is plotted.  \n",
    "\n",
    "<img src=\"https://maucher.home.hdm-stuttgart.de/Pics/nonlinearClassification.png\" alt=\"Drawing\" style=\"width: 800px;\"/>"
   ]
  },
  {
   "cell_type": "markdown",
   "metadata": {},
   "source": [
    "## Early MLP Example: Autonomos Driving\n",
    "The ALVINN net is a MLP with one hidden layer. It has been designed and trained for *road following* in autonomous driving. The input has been provided by a simple $30 \\times 32$ greyscale camera. As shown in the picture below, the hidden layer contains only 4 neurons. In the output-layer each of the 30 neurons belongs to one \"steering-wheel-direction\". The training data has been collected by recording videos while an expert driver steers the car. For each frame (input) the steering-wheel-direction (label) has been tracked. \n",
    "\n",
    "<img src=\"https://maucher.home.hdm-stuttgart.de/Pics/alvinnNN.jpg\" style=\"height:400px\"/>\n",
    "\n",
    "After training the vehicle cruised autonomously for 90 miles on a highway at a speed of up to 70mph. The test-highway has not been included in the training cruises. "
   ]
  },
  {
   "cell_type": "markdown",
   "metadata": {},
   "source": [
    "## Architecture\n",
    "### Number of hidden layers\n",
    "In the design of MLPs, the number of required hidden layers and the number of neurons per hidden layer are crucial hyperparameters, which strongly influence the network's performance. Appropriate values for these parameters strongly depend on the application and data at hand. They can not be calculated analytically, but have to be determined in corresponding evaluation- and optimization experiments.\n",
    "\n",
    "In order to roughly determine ranges for a suitable number of hidden neurons, one should consider, that an increasing number of hidden neurons \n",
    "\n",
    "* requires more training data to learn a robust model, since more parameters must be learned,\n",
    "* allows to learn more complex models,\n",
    "* increases the risk of overfitting.\n",
    "\n",
    "### Activation- and Loss-functions\n",
    "#### Activation functions in hidden layers\n",
    "The type of activation function to be used in the hidden-layers of a MLP is an hyperparameter, which must be configured by the user, i.e. it is not determined by e.g. the application category. Typical activations for the hidden-layers are:\n",
    "\n",
    "* sigmoid\n",
    "* tanh\n",
    "* relu\n",
    "* leaky relu\n",
    "\n",
    "Finding the best, or at least an appropriate, activation function for the application and data at hand requires empirical analysis.\n",
    "#### Activation functions in the output layer and loss functions\n",
    "The configuration of the activation function in the output-layer and the loss function, which is minimized in the training-stage, depend on the application-category in the same way as in the [SLP](SLP.ipynb):\n",
    "\n",
    "**Regression:**\n",
    "* Number of neurons in the output-layer: 1\n",
    "* Activation function in the output-layer: identity \n",
    "* Loss Function: Sum of Squared Errors (SSE)\n",
    "\n",
    "**Binary Classification:**\n",
    "* Number of neurons in the output-layer: 1\n",
    "* Activation function in the output-layer: sigmoid \n",
    "* Loss Function: binary Cross-Entropy\n",
    "\n",
    "**$K$-ary Classification:**\n",
    "* Number of neurons in the output-layer: K\n",
    "* Activation function in the output-layer: softmax \n",
    "* Loss Function: Cross-Entropy"
   ]
  },
  {
   "cell_type": "markdown",
   "metadata": {},
   "source": [
    "## Gradient Descent Learning\n",
    "For training, MLPs apply the same approach as SLPs: Gradient Descent. The general consept of Gradient Descent learning is:\n",
    "1. Define a **Loss Function** $E(T,\\Theta)$, which somehow measures the deviation between the current network $\\mathbf{y}$ output and the target output $\\mathbf{r}$.\n",
    "2. Calculate the gradient of the Loss Function: $$\\nabla E(T,\\Theta) = \\left( \\begin{array}{c}  \\frac{\\partial E}{\\partial W^l_{1,0}} \\\\ \\frac{\\partial E}{\\partial W_{1,1}^l} \\\\ \\vdots \\\\  \\frac{\\partial E}{\\partial W^l_{K,d+1}} \\end{array} \\right). $$\n",
    "3. Adapt all parameters into the direction of the negative gradient. This weight adaptation guarantees that the Loss Function is iteratively minimized.: $$W^l_{i,j}=W^l_{i,j}+\\Delta W^l_{i,j} = W^l_{i,j}+\\eta \\cdot -\\frac{\\partial E}{\\partial W^l_{i,j}},$$ where $\\eta$ is the important hyperparameter **learning rate**. \n",
    "\n",
    "This approach is described in detail in [notebook SLP](SLP.ipynb). For the MLP, here we just present the *Backward Pass* weight adaptation-rule, resulting from the aforementioned Gradient Descent approach. The algorithm is denoted **Backpropagation Algorithm**.\n",
    "\n",
    "The weight-matrix $W^l$ in layer $l$, with $l \\in \\lbrace 1,\\ldots,L\\rbrace$, is adapted in each iteration by \n",
    "$$W^l=W^l+ \\Delta W^l,$$\n",
    "where\n",
    "$$\n",
    "\\Delta W^l = \\eta \\sum\\limits_{t=1}^N \\boldsymbol{D}_t^l * (\\mathbf{h}_t^{l-1})^T\n",
    "$$\n",
    "for Gradient Descent Batch-Learning, and\n",
    "$$\n",
    "\\Delta W^l = \\eta \\boldsymbol{D}_t^l * (\\mathbf{h}_t^{l-1})^T\n",
    "$$\n",
    "for Stochastic Gradient Descent (SGD) Online-Learning. In this adaptation formulas\n",
    "\n",
    "* $\\mathbf{h}_t^{l-1}$ is the output-vector at layer $l-1$, if the t.th training-element $\\mathbf{x}_t$ is at the input of the MLP,\n",
    "* the matrix $\\boldsymbol{D}_t^l$ is calculated recursively as follows:\n",
    "\n",
    "$$\n",
    "\\begin{array}{|c|c|}\n",
    "\t\t\\hline\n",
    "\t\tlayer \\; l & \\boldsymbol{D}_t^l \\\\\n",
    "\t\t\\hline\n",
    "\t\tL & \\boldsymbol{\\Delta}_t \\\\\n",
    "\t\tL-1 & \\left( (W^{L})^T * \\boldsymbol{\\Delta}_t \\right) \\cdot g'(W^{L-1}\\mathbf{h}_t^{L-2}) \\\\\n",
    "\t\tL-2 & \\left((W^{L-1})^T * \\boldsymbol{D}_t^{L-1} \\right) \\cdot g'(W^{L-2}\\mathbf{h}_t^{L-3}) \\\\\n",
    "\t\t\\vdots & \\vdots \\\\\n",
    "\t\tl & \\left((W^{l+1})^T * \\boldsymbol{D}_t^{l+1} \\right) \\cdot g'(W^{l}\\mathbf{h}_t^{l-1}) \\\\\n",
    "        \\hline\n",
    "\\end{array}\n",
    "$$\n",
    "where:\n",
    "* $*$ denotes matrix-multiplication\n",
    "* $\\cdot$ denotes elementwise-multiplication\n",
    "* $g'()$ is the first derivation of the activation function applied in layer $l$.\n",
    "* the error-vector $\\Delta_t$ is as defined in [notebook SLP](SLP.ipynb):\n",
    "\n",
    "$$\\boldsymbol{\\Delta}_t=\\left( \\begin{array}{c} \\Delta_{t,1} \\\\ \\Delta_{t,2} \\\\ \\vdots \\\\ \\Delta_{t,z_L} \\end{array} \\right) = \\left( \\begin{array}{c} r_{t,1} - h^L_{t,1} \\\\ r_{t,2} - h^L_{t,2} \\\\ \\vdots \\\\ r_{t,z_L} - h^L_{t,z_L} \\end{array} \\right)$$\n",
    "\n",
    "Note that in the calculation of $\\boldsymbol{D}_t^l$ depends on the weight-matrices $W^{l+1},\\ldots W^{L}$. It is important that for this the old weight-matrices (before the update in the current iteration) are used.\n"
   ]
  },
  {
   "cell_type": "markdown",
   "metadata": {},
   "source": [
    "# MLP Implementation and Demonstration"
   ]
  },
  {
   "cell_type": "code",
   "execution_count": 1,
   "metadata": {
    "ExecuteTime": {
     "end_time": "2017-12-06T17:09:06.442000Z",
     "start_time": "2017-12-06T18:08:59.762000+01:00"
    }
   },
   "outputs": [],
   "source": [
    "%matplotlib inline\n",
    "import numpy as np\n",
    "np.set_printoptions(precision=4,suppress=True)\n",
    "import random\n",
    "from matplotlib import pyplot as plt"
   ]
  },
  {
   "cell_type": "markdown",
   "metadata": {},
   "source": [
    "## Definition of helper functions"
   ]
  },
  {
   "cell_type": "code",
   "execution_count": 2,
   "metadata": {
    "ExecuteTime": {
     "end_time": "2017-12-06T17:09:06.454000Z",
     "start_time": "2017-12-06T18:09:06.444000+01:00"
    },
    "hide_input": false
   },
   "outputs": [],
   "source": [
    "#Activation functions\n",
    "def sigmoid(z):\n",
    "    \"\"\"Sigmoid activation function.\"\"\"\n",
    "    return 1.0/(1.0+np.exp(-z))\n",
    "\n",
    "def softmax(z):\n",
    "    \"\"\"Softmax activation function.\"\"\"\n",
    "    return np.exp(z)/np.sum(np.exp(z),axis=0)\n",
    "\n",
    "def identity(z):\n",
    "    \"\"\"Identity activation function.\"\"\"\n",
    "    return z\n",
    "\n",
    "#Derivative of sigmoid function\n",
    "def sigmoid_prime(z):\n",
    "    \"\"\"Derivative of the sigmoid function.\"\"\"\n",
    "    return sigmoid(z)*(1-sigmoid(z))\n",
    "\n",
    "def oneToMany(j,d=10):\n",
    "    \"\"\"Return a d-dimensional unit vector with a 1.0 in the jth\n",
    "    position and zeroes elsewhere.  This is used to convert a digit\n",
    "    (0...9) into a corresponding desired output from the neural\n",
    "    network.\"\"\"\n",
    "    e = np.zeros((d, 1))\n",
    "    e[j] = 1.0\n",
    "    return e\n",
    "\n",
    "#Loss functions and performance metrics\n",
    "def mse(r,y):\n",
    "    return 1.0/len(r)*np.sqrt((r-y)**2)\n",
    "\n",
    "def accuracy(r,y):\n",
    "    return np.count_nonzero(r==y)/float(len(r))\n",
    "\n",
    "def crossEntropy(r,y):\n",
    "    return np.sum(np.sum(r*np.log2(y)))"
   ]
  },
  {
   "cell_type": "markdown",
   "metadata": {},
   "source": [
    "## Implementation of Single Forward- and Backward Pass in MLP\n",
    "As in the corresponding section of the [SLP notebook](SLP.ipynb), this subsection demonstrates\n",
    "* the forward-pass, i.e. the calculation of the MLP-output from a given input and given weight-matrices\n",
    "* the backward-pass, i.e the adaptation of the weight-matrices in dependence of the current error-vector at the output of the MLP.\n",
    "\n",
    "In order to keep this demo as simple as possible only one training element is applied.\n",
    "\n",
    "### Classification into $K=3$ classes\n",
    "\n",
    "For this demonstration the MLP architecture of the following picture is applied. The task of this network is to classify input observations with $d=3$ features into one of $K=3$ classes.\n",
    "\n",
    "<img src=\"https://maucher.home.hdm-stuttgart.de/Pics/mlpL2K3.png\" alt=\"Drawing\" style=\"width: 600px;\"/>\n",
    "\n",
    "The single hidden layer applies a sigmoid- and the output-layer a softmax-activation. In the picture above explicit biases are drawn. In the following demonstrations, the biases are implemented by the constant $x_0=1$ and the first column of the weight-matrices.\n",
    "\n",
    "Define an input-vector with 4 elements (the first element is the constant bias $x_0=1$). The target of this input shall be class 3, i.e. $r=(0,0,1)$. Moreover, an arbitrary \n",
    "* weight-matrix W1 of size $(4\\times4)$ is generated. These are the weight of the first hidden layer, including the biases (first column)\n",
    "* weight-matrix W2 of size $(3\\times5)$ is generated. These are the weight of the output-layer, including the biases (first column)"
   ]
  },
  {
   "cell_type": "code",
   "execution_count": 3,
   "metadata": {},
   "outputs": [
    {
     "name": "stdout",
     "output_type": "stream",
     "text": [
      "Current input x=\n",
      "[1 1 2 3]\n",
      "Current target r=\n",
      "[0, 0, 1]\n",
      "Current matrix W1=\n",
      "[[-0.2  0.1  0.  -0.1]\n",
      " [ 0.3  0.4 -0.4  0.2]\n",
      " [ 0.4  0.1  0.3 -0.5]\n",
      " [ 0.  -0.5  0.4  0.1]]\n",
      "Current matrix W2=\n",
      "[[-0.3 -0.5  0.  -0.3  0.1]\n",
      " [-0.2  0.2 -0.5  0.4 -0.5]\n",
      " [-0.2 -0.3 -0.2 -0.4 -0.2]]\n"
     ]
    }
   ],
   "source": [
    "np.random.seed(1234)\n",
    "x=np.array([1,1,2,3]) # Training-Element with d=3 features plus the bias x_0=1 (first element in this vector)\n",
    "print(\"Current input x=\")\n",
    "print(x)\n",
    "r=[0,0,1] #Current class is 3. \n",
    "print(\"Current target r=\")\n",
    "print(r)\n",
    "W1=0.1*(np.random.randint(0,10,(4,4))-5) #Assumed current weight-matrix W1. First column refers to biases in layer 1\n",
    "print(\"Current matrix W1=\")\n",
    "print(W1)\n",
    "W2=0.1*(np.random.randint(0,10,(3,5))-5) #Assumed current weight-matrix W2. first column referst to biases in output layer\n",
    "print(\"Current matrix W2=\")\n",
    "print(W2)"
   ]
  },
  {
   "cell_type": "markdown",
   "metadata": {},
   "source": [
    "#### Forward-Pass:\n",
    "Calculate for the given input the current output of the MLP:"
   ]
  },
  {
   "cell_type": "code",
   "execution_count": 4,
   "metadata": {},
   "outputs": [
    {
     "name": "stdout",
     "output_type": "stream",
     "text": [
      "Current output at layer 1 h1=\n",
      "[0.4013 0.6225 0.4013 0.6457]\n"
     ]
    }
   ],
   "source": [
    "in1=np.dot(W1,x)\n",
    "h1=sigmoid(in1)\n",
    "print(\"Current output at layer 1 h1=\")\n",
    "print(h1)"
   ]
  },
  {
   "cell_type": "code",
   "execution_count": 5,
   "metadata": {},
   "outputs": [
    {
     "name": "stdout",
     "output_type": "stream",
     "text": [
      "[1.     0.4013 0.6225 0.4013 0.6457]\n",
      "Current output at otuput layer:\n",
      "y = h2=\n",
      "[0.357  0.3441 0.2988]\n"
     ]
    }
   ],
   "source": [
    "h1ext=np.append([1],h1) # input to layer 2 is output of layer 1 + the constant 1 for the bias\n",
    "print(h1ext)\n",
    "in2=np.dot(W2,h1ext)\n",
    "y=h2=softmax(in2)\n",
    "print(\"Current output at otuput layer:\\ny = h2=\")\n",
    "print(y)"
   ]
  },
  {
   "cell_type": "markdown",
   "metadata": {},
   "source": [
    "#### Contribution to Loss Function\n",
    "The current contribution of this training-element to the cross-entropy error-function is:"
   ]
  },
  {
   "cell_type": "code",
   "execution_count": 6,
   "metadata": {},
   "outputs": [
    {
     "name": "stdout",
     "output_type": "stream",
     "text": [
      "-1.74270956764372\n"
     ]
    }
   ],
   "source": [
    "print(crossEntropy(r,y))"
   ]
  },
  {
   "cell_type": "markdown",
   "metadata": {},
   "source": [
    "#### Backward Pass\n",
    "Next, the weight-matrices are adapted according to Stochastic Gradient Descent and the Backpropagation algorithm."
   ]
  },
  {
   "cell_type": "code",
   "execution_count": 7,
   "metadata": {},
   "outputs": [
    {
     "name": "stdout",
     "output_type": "stream",
     "text": [
      "Current error vector at output:\n",
      " Delta=\n",
      "[[-0.357 ]\n",
      " [-0.3441]\n",
      " [ 0.7012]]\n",
      "Weight adaptation for otuput layer:\n",
      " dW2=\n",
      "[[-0.0357 -0.0143 -0.0222 -0.0143 -0.0231]\n",
      " [-0.0344 -0.0138 -0.0214 -0.0138 -0.0222]\n",
      " [ 0.0701  0.0281  0.0436  0.0281  0.0453]]\n"
     ]
    }
   ],
   "source": [
    "learnrate=0.1\n",
    "Delta=np.transpose(np.atleast_2d(r-y))\n",
    "print(\"Current error vector at output:\\n Delta=\")\n",
    "print(Delta)\n",
    "dW2=learnrate*np.dot(Delta,np.atleast_2d(h1ext))\n",
    "print(\"Weight adaptation for otuput layer:\\n dW2=\")\n",
    "print(dW2)"
   ]
  },
  {
   "cell_type": "code",
   "execution_count": 8,
   "metadata": {
    "scrolled": true
   },
   "outputs": [
    {
     "name": "stdout",
     "output_type": "stream",
     "text": [
      "[[0.2403]\n",
      " [0.235 ]\n",
      " [0.2403]\n",
      " [0.2288]]\n",
      "Current matrix D1:\n",
      " D1=\n",
      "[[-0.0242]\n",
      " [ 0.0075]\n",
      " [-0.0747]\n",
      " [-0.0009]]\n",
      "Weight adaptation for hidden layer 1:\n",
      " dW1=\n",
      "[[-0.0024 -0.0024 -0.0048 -0.0073]\n",
      " [ 0.0007  0.0007  0.0015  0.0022]\n",
      " [-0.0075 -0.0075 -0.0149 -0.0224]\n",
      " [-0.0001 -0.0001 -0.0002 -0.0003]]\n"
     ]
    }
   ],
   "source": [
    "print(np.transpose(np.atleast_2d(sigmoid_prime(in1))))\n",
    "D1=np.dot(np.transpose(W2[:,1:]),Delta)*np.transpose(np.atleast_2d(sigmoid_prime(in1)))#Note that the first column from W2 (biases) have to be excluded!\n",
    "print(\"Current matrix D1:\\n D1=\")\n",
    "print(D1)\n",
    "dW1=learnrate*np.dot(D1,np.atleast_2d(x))\n",
    "print(\"Weight adaptation for hidden layer 1:\\n dW1=\")\n",
    "print(dW1)"
   ]
  },
  {
   "cell_type": "code",
   "execution_count": 9,
   "metadata": {},
   "outputs": [
    {
     "name": "stdout",
     "output_type": "stream",
     "text": [
      "New weight matrix in hidden layer:\n",
      " W1=\n",
      "[[-0.2024  0.0976 -0.0048 -0.1073]\n",
      " [ 0.3007  0.4007 -0.3985  0.2022]\n",
      " [ 0.3925  0.0925  0.2851 -0.5224]\n",
      " [-0.0001 -0.5001  0.3998  0.0997]]\n",
      "New weight matrix in output layer:\n",
      " W2=\n",
      "[[-0.3357 -0.5143 -0.0222 -0.3143  0.0769]\n",
      " [-0.2344  0.1862 -0.5214  0.3862 -0.5222]\n",
      " [-0.1299 -0.2719 -0.1564 -0.3719 -0.1547]]\n"
     ]
    }
   ],
   "source": [
    "newW1=W1+dW1\n",
    "print(\"New weight matrix in hidden layer:\\n W1=\")\n",
    "print(newW1)\n",
    "newW2=W2+dW2\n",
    "print(\"New weight matrix in output layer:\\n W2=\")\n",
    "print(newW2)"
   ]
  },
  {
   "cell_type": "markdown",
   "metadata": {},
   "source": [
    "#### Forward-Pass with adapted weights\n",
    "Now, the adapted MLP's output for the same input vector is calculated:"
   ]
  },
  {
   "cell_type": "code",
   "execution_count": 10,
   "metadata": {},
   "outputs": [
    {
     "name": "stdout",
     "output_type": "stream",
     "text": [
      "Current output at layer 1 after weight adaptation h1=\n",
      "[0.3926 0.6251 0.3747 0.6454]\n"
     ]
    }
   ],
   "source": [
    "in1=np.dot(newW1,x)\n",
    "h1=sigmoid(in1)\n",
    "print(\"Current output at layer 1 after weight adaptation h1=\")\n",
    "print(h1)"
   ]
  },
  {
   "cell_type": "code",
   "execution_count": 11,
   "metadata": {},
   "outputs": [
    {
     "name": "stdout",
     "output_type": "stream",
     "text": [
      "Current output of output layer after weight adaptation:\n",
      "y = h2=\n",
      "[0.3346 0.3151 0.3503]\n"
     ]
    }
   ],
   "source": [
    "h1ext=np.append([1],h1)\n",
    "in2=np.dot(newW2,h1ext)\n",
    "y=h2=softmax(in2)\n",
    "print(\"Current output of output layer after weight adaptation:\\ny = h2=\")\n",
    "print(y)"
   ]
  },
  {
   "cell_type": "markdown",
   "metadata": {},
   "source": [
    "#### New Contribution to Loss Function\n",
    "As can be seen, the new output has a lower contribution to the cross-entropy error-function, than before the weight-adaptation:"
   ]
  },
  {
   "cell_type": "code",
   "execution_count": 12,
   "metadata": {},
   "outputs": [
    {
     "name": "stdout",
     "output_type": "stream",
     "text": [
      "-1.513162303907582\n"
     ]
    }
   ],
   "source": [
    "print(crossEntropy(r,y))"
   ]
  },
  {
   "cell_type": "markdown",
   "metadata": {},
   "source": [
    "# Multilayer Perceptron (MLP) for handwritten digit recognition\n",
    "\n",
    "This example demonstrates the application of a MLP classifier to recognize handwritten digits between 0 and 9. Each handwritten digit is represented as a $8 \\times 8$-greyscale image of 4 Bit depth. An image displaying digit $i$ is labeled by the class index $i$ with $i \\in \\lbrace 0,1,2,\\ldots,9\\rbrace$. The entire dataset contains 1797 labeled images. This dataset is often applied as a benchmark for evaluating and comparing machine learning algorithms. The dataset is available from different sources. E.g. it is contained in the *scikits-learn* datasets directory. "
   ]
  },
  {
   "cell_type": "markdown",
   "metadata": {},
   "source": [
    "## Class MLP\n",
    "This class implements a Multilayer Perceptron (MLP) with Stochastic Gradient Descent (SGD) learning.\n",
    "Gradients are calculated using backpropagation.  \n"
   ]
  },
  {
   "cell_type": "code",
   "execution_count": 13,
   "metadata": {
    "ExecuteTime": {
     "end_time": "2017-12-06T17:12:17.782000Z",
     "start_time": "2017-12-06T18:12:17.629000+01:00"
    }
   },
   "outputs": [],
   "source": [
    "class MLP(object):\n",
    "\n",
    "    def __init__(self, layerlist):\n",
    "        \"\"\"The list ``layerlist`` contains the number of neurons in the\n",
    "        respective layers of the network.  For example, if the list\n",
    "        was [2, 3, 1] then it would be a three-layer network, with the\n",
    "        first layer containing 2 neurons, the second layer 3 neurons,\n",
    "        and the third layer 1 neuron.  The biases and weights for the\n",
    "        network are initialized randomly, using a Gaussian\n",
    "        distribution with mean 0, and variance 1.\"\"\"\n",
    "        \n",
    "        self.num_layers = len(layerlist)\n",
    "        self.layerlist = layerlist\n",
    "        self.biases = [np.random.randn(y, 1) for y in layerlist[1:]]\n",
    "        self.weights = [np.random.randn(y, x)\n",
    "                        for x, y in zip(layerlist[:-1], layerlist[1:])]\n",
    "        self.testCorrect=[]\n",
    "\n",
    "    def feedforward(self, a):\n",
    "        \"\"\"Return the output of the network if ``a`` is input.\"\"\"\n",
    "        for b, w in zip(self.biases[:-1], self.weights[:-1]):\n",
    "            a = sigmoid(np.dot(w, a)+b)\n",
    "        #softmax activation in output-layer    \n",
    "        b=self.biases[-1]\n",
    "        w=self.weights[-1]    \n",
    "        a = softmax(np.dot(w, a)+b)\n",
    "        return a\n",
    "\n",
    "    def SGD(self, training_data, epochs, mini_batch_size, eta,\n",
    "            test_data=None):\n",
    "        \"\"\"Train the neural network using mini-batch stochastic\n",
    "        gradient descent.  The ``training_data`` is a list of tuples\n",
    "        ``(x, y)`` representing the training inputs and the desired\n",
    "        outputs.  The other non-optional parameters are\n",
    "        self-explanatory.  If ``test_data`` is provided then the\n",
    "        network will be evaluated against the test data after each\n",
    "        epoch, and partial progress printed out.  This is useful for\n",
    "        tracking progress, but slows things down substantially.\"\"\"\n",
    "        if test_data: n_test = len(test_data)\n",
    "        n = len(training_data)\n",
    "        for j in range(epochs):\n",
    "            random.shuffle(training_data)\n",
    "            mini_batches = [\n",
    "                training_data[k:k+mini_batch_size]\n",
    "                for k in range(0, n, mini_batch_size)]\n",
    "            for mini_batch in mini_batches:\n",
    "                self.update_mini_batch(mini_batch, eta)\n",
    "            if test_data:\n",
    "                numCorrect=self.evaluate(test_data)\n",
    "                self.testCorrect.append(numCorrect)\n",
    "                print(\"Epoch {0}: {1} / {2}\".format(j, numCorrect, n_test))     \n",
    "            else:\n",
    "                print(\"Epoch {0} complete\".format(j))\n",
    "\n",
    "    def update_mini_batch(self, mini_batch, eta):\n",
    "        \"\"\"Update the network's weights and biases by applying\n",
    "        gradient descent using backpropagation to a single mini batch.\n",
    "        The ``mini_batch`` is a list of tuples ``(x, y)``, and ``eta``\n",
    "        is the learning rate.\"\"\"\n",
    "        nabla_b = [np.zeros(b.shape) for b in self.biases]\n",
    "        nabla_w = [np.zeros(w.shape) for w in self.weights]\n",
    "        for x, y in mini_batch:\n",
    "            delta_nabla_b, delta_nabla_w = self.backprop(x, y)\n",
    "            nabla_b = [nb+dnb for nb, dnb in zip(nabla_b, delta_nabla_b)]\n",
    "            nabla_w = [nw+dnw for nw, dnw in zip(nabla_w, delta_nabla_w)]\n",
    "        self.weights = [w-(eta/len(mini_batch))*nw\n",
    "                        for w, nw in zip(self.weights, nabla_w)]\n",
    "        self.biases = [b-(eta/len(mini_batch))*nb\n",
    "                       for b, nb in zip(self.biases, nabla_b)]\n",
    "\n",
    "    def backprop(self, x, y):\n",
    "        \"\"\"Return a tuple ``(nabla_b, nabla_w)`` representing the\n",
    "        gradient for the cost function C_x.  ``nabla_b`` and\n",
    "        ``nabla_w`` are layer-by-layer lists of numpy arrays, similar\n",
    "        to ``self.biases`` and ``self.weights``.\"\"\"\n",
    "        nabla_b = [np.zeros(b.shape) for b in self.biases]\n",
    "        nabla_w = [np.zeros(w.shape) for w in self.weights]\n",
    "        # feedforward\n",
    "        activation = x\n",
    "        activations = [x] # list to store all the activations, layer by layer\n",
    "        zs = [] # list to store all the z vectors, layer by layer\n",
    "        for b, w in zip(self.biases[:-1], self.weights[:-1]):\n",
    "            z = np.dot(w, activation)+b\n",
    "            zs.append(z)\n",
    "            activation = sigmoid(z)\n",
    "            activations.append(activation)\n",
    "        b=self.biases[-1]\n",
    "        w=self.weights[-1]    \n",
    "        z = np.dot(w, activation)+b\n",
    "        zs.append(z)\n",
    "        activation = softmax(z)\n",
    "        activations.append(activation)\n",
    "        # Weight adaptations in output layer\n",
    "        delta = self.cost_derivative(activations[-1], y)\n",
    "        nabla_b[-1] = delta\n",
    "        nabla_w[-1] = np.dot(delta, activations[-2].transpose())\n",
    "        \n",
    "        # Weight adaptations in all other layers\n",
    "        for l in range(2, self.num_layers):\n",
    "            z = zs[-l]\n",
    "            sp = sigmoid_prime(z)\n",
    "            delta = np.dot(self.weights[-l+1].transpose(), delta) * sp\n",
    "            nabla_b[-l] = delta\n",
    "            nabla_w[-l] = np.dot(delta, activations[-l-1].transpose())\n",
    "        return (nabla_b, nabla_w)\n",
    "\n",
    "    def evaluate(self, test_data):\n",
    "        \"\"\"Return the number of test inputs for which the neural\n",
    "        network outputs the correct result. Note that the neural\n",
    "        network's output is assumed to be the index of whichever\n",
    "        neuron in the final layer has the highest activation.\"\"\"\n",
    "        test_results = [(np.argmax(self.feedforward(x)), y)\n",
    "                        for (x, y) in test_data]\n",
    "        return sum(int(x == y) for (x, y) in test_results)\n",
    "\n",
    "    def cost_derivative(self, output_activations, y):\n",
    "        \"\"\"Return the vector of partial derivatives \\partial C_x /\n",
    "        \\partial a for the output activations.\"\"\"\n",
    "        return (output_activations-y)"
   ]
  },
  {
   "cell_type": "markdown",
   "metadata": {},
   "source": [
    "## Load labeled data\n",
    "\n",
    "The image _handwritten digits_ dataset is loaded from the scikits-learn *datasets* directory. The *load_digits()* function returns a so called *Bunch*, which contains 2 numpy arrays - the images and the corresponding labeles:"
   ]
  },
  {
   "cell_type": "code",
   "execution_count": 14,
   "metadata": {
    "ExecuteTime": {
     "end_time": "2017-12-06T17:12:29.016000Z",
     "start_time": "2017-12-06T18:12:22.856000+01:00"
    }
   },
   "outputs": [
    {
     "name": "stdout",
     "output_type": "stream",
     "text": [
      "<class 'sklearn.utils.Bunch'>\n",
      "<class 'numpy.ndarray'>\n",
      "<class 'numpy.ndarray'>\n",
      "Number of labeled images:  1797\n",
      "[[ 0.  0.  5. 13.  9.  1.  0.  0.]\n",
      " [ 0.  0. 13. 15. 10. 15.  5.  0.]\n",
      " [ 0.  3. 15.  2.  0. 11.  8.  0.]\n",
      " [ 0.  4. 12.  0.  0.  8.  8.  0.]\n",
      " [ 0.  5.  8.  0.  0.  9.  8.  0.]\n",
      " [ 0.  4. 11.  0.  1. 12.  7.  0.]\n",
      " [ 0.  2. 14.  5. 10. 12.  0.  0.]\n",
      " [ 0.  0.  6. 13. 10.  0.  0.  0.]]\n",
      "0\n"
     ]
    }
   ],
   "source": [
    "from sklearn import datasets\n",
    "digits = datasets.load_digits()\n",
    "n_samples = len(digits.images)\n",
    "print(type(digits))\n",
    "print(type(digits.images))\n",
    "print(type(digits.target))\n",
    "print(\"Number of labeled images: \",n_samples)\n",
    "training_data=digits\n",
    "print(digits.images[0])\n",
    "print(digits.target[0])"
   ]
  },
  {
   "cell_type": "markdown",
   "metadata": {},
   "source": [
    "In order to understand the representation of the digits the first 4 images are dispayed in a *matplotlib*-figure. Moreover, the contents of the first image are printed. Each image is a $8 \\times 8$-numpy array with integer entries between $0$ (white) and $15$ (black). "
   ]
  },
  {
   "cell_type": "code",
   "execution_count": 15,
   "metadata": {
    "ExecuteTime": {
     "end_time": "2017-12-06T17:12:38.395000Z",
     "start_time": "2017-12-06T18:12:37.509000+01:00"
    }
   },
   "outputs": [
    {
     "data": {
      "image/png": "[encoded data removed]",
      "text/plain": [
       "<Figure size 864x720 with 4 Axes>"
      ]
     },
     "metadata": {
      "filenames": {
       "image/png": "/Users/johannes/gitprojects/jmaiworkshop/aiintro/_build/jupyter_execute/MLP_32_0.png"
      },
      "needs_background": "light"
     },
     "output_type": "display_data"
    }
   ],
   "source": [
    "plt.figure(figsize=(12, 10))\n",
    "NIMAGES=4\n",
    "for index in range(NIMAGES):\n",
    "    plt.subplot(1,NIMAGES, index+1)\n",
    "    plt.imshow(digits.images[index,:], cmap=plt.cm.gray_r)\n",
    "    plt.title('Training sample of class: %i' % digits.target[index])"
   ]
  },
  {
   "cell_type": "markdown",
   "metadata": {},
   "source": [
    "## Split labeled dataset into training- and test-partition"
   ]
  },
  {
   "cell_type": "code",
   "execution_count": 16,
   "metadata": {
    "ExecuteTime": {
     "end_time": "2017-12-06T17:13:00.641000Z",
     "start_time": "2017-12-06T18:13:00.625000+01:00"
    }
   },
   "outputs": [
    {
     "name": "stdout",
     "output_type": "stream",
     "text": [
      "<class 'numpy.ndarray'>\n",
      "1000\n"
     ]
    }
   ],
   "source": [
    "NUMTRAIN=1000\n",
    "training_inputs = [np.reshape(x, (64, 1)) for x in digits.images[:NUMTRAIN]]\n",
    "training_results = [oneToMany(y) for y in digits.target[:NUMTRAIN]]\n",
    "training_data = list(zip(training_inputs, training_results))\n",
    "#test_data = zip(test_inputs, test_results)\n",
    "test_inputs = [np.reshape(x, (64, 1)) for x in digits.images[NUMTRAIN:]]\n",
    "test_data = list(zip(test_inputs, digits.target[NUMTRAIN:]))\n",
    "print(type(training_data[0][0]))\n",
    "print(len(training_data))\n",
    "#print training_data[0]"
   ]
  },
  {
   "cell_type": "markdown",
   "metadata": {},
   "source": [
    "## Generate, configure, train and test MLP"
   ]
  },
  {
   "cell_type": "code",
   "execution_count": 17,
   "metadata": {
    "ExecuteTime": {
     "end_time": "2017-12-06T17:14:14.633000Z",
     "start_time": "2017-12-06T18:13:13.667000+01:00"
    }
   },
   "outputs": [
    {
     "name": "stdout",
     "output_type": "stream",
     "text": [
      "Epoch 0: 117 / 797\n",
      "Epoch 1: 132 / 797\n",
      "Epoch 2: 192 / 797\n"
     ]
    },
    {
     "name": "stdout",
     "output_type": "stream",
     "text": [
      "Epoch 3: 232 / 797\n"
     ]
    },
    {
     "name": "stdout",
     "output_type": "stream",
     "text": [
      "Epoch 4: 193 / 797\n",
      "Epoch 5: 266 / 797\n",
      "Epoch 6: 282 / 797\n"
     ]
    },
    {
     "name": "stdout",
     "output_type": "stream",
     "text": [
      "Epoch 7: 311 / 797\n"
     ]
    },
    {
     "name": "stdout",
     "output_type": "stream",
     "text": [
      "Epoch 8: 316 / 797\n",
      "Epoch 9: 352 / 797\n",
      "Epoch 10: 360 / 797\n"
     ]
    },
    {
     "name": "stdout",
     "output_type": "stream",
     "text": [
      "Epoch 11: 371 / 797\n"
     ]
    },
    {
     "name": "stdout",
     "output_type": "stream",
     "text": [
      "Epoch 12: 361 / 797\n",
      "Epoch 13: 386 / 797\n",
      "Epoch 14: 394 / 797\n"
     ]
    },
    {
     "name": "stdout",
     "output_type": "stream",
     "text": [
      "Epoch 15: 419 / 797\n"
     ]
    },
    {
     "name": "stdout",
     "output_type": "stream",
     "text": [
      "Epoch 16: 420 / 797\n",
      "Epoch 17: 428 / 797\n",
      "Epoch 18: 452 / 797\n"
     ]
    },
    {
     "name": "stdout",
     "output_type": "stream",
     "text": [
      "Epoch 19: 456 / 797\n"
     ]
    },
    {
     "name": "stdout",
     "output_type": "stream",
     "text": [
      "Epoch 20: 447 / 797\n",
      "Epoch 21: 479 / 797\n",
      "Epoch 22: 465 / 797\n"
     ]
    },
    {
     "name": "stdout",
     "output_type": "stream",
     "text": [
      "Epoch 23: 470 / 797\n"
     ]
    },
    {
     "name": "stdout",
     "output_type": "stream",
     "text": [
      "Epoch 24: 493 / 797\n",
      "Epoch 25: 493 / 797\n",
      "Epoch 26: 500 / 797\n"
     ]
    },
    {
     "name": "stdout",
     "output_type": "stream",
     "text": [
      "Epoch 27: 508 / 797\n"
     ]
    },
    {
     "name": "stdout",
     "output_type": "stream",
     "text": [
      "Epoch 28: 515 / 797\n",
      "Epoch 29: 521 / 797\n",
      "Epoch 30: 531 / 797\n"
     ]
    },
    {
     "name": "stdout",
     "output_type": "stream",
     "text": [
      "Epoch 31: 538 / 797\n"
     ]
    },
    {
     "name": "stdout",
     "output_type": "stream",
     "text": [
      "Epoch 32: 527 / 797\n",
      "Epoch 33: 535 / 797\n",
      "Epoch 34: 547 / 797\n"
     ]
    },
    {
     "name": "stdout",
     "output_type": "stream",
     "text": [
      "Epoch 35: 551 / 797\n"
     ]
    },
    {
     "name": "stdout",
     "output_type": "stream",
     "text": [
      "Epoch 36: 540 / 797\n",
      "Epoch 37: 551 / 797\n",
      "Epoch 38: 565 / 797\n"
     ]
    },
    {
     "name": "stdout",
     "output_type": "stream",
     "text": [
      "Epoch 39: 560 / 797\n"
     ]
    },
    {
     "name": "stdout",
     "output_type": "stream",
     "text": [
      "Epoch 40: 557 / 797\n",
      "Epoch 41: 564 / 797\n",
      "Epoch 42: 573 / 797\n"
     ]
    },
    {
     "name": "stdout",
     "output_type": "stream",
     "text": [
      "Epoch 43: 578 / 797\n"
     ]
    },
    {
     "name": "stdout",
     "output_type": "stream",
     "text": [
      "Epoch 44: 574 / 797\n",
      "Epoch 45: 590 / 797\n",
      "Epoch 46: 591 / 797\n"
     ]
    },
    {
     "name": "stdout",
     "output_type": "stream",
     "text": [
      "Epoch 47: 594 / 797\n"
     ]
    },
    {
     "name": "stdout",
     "output_type": "stream",
     "text": [
      "Epoch 48: 602 / 797\n",
      "Epoch 49: 604 / 797\n",
      "Epoch 50: 612 / 797\n"
     ]
    },
    {
     "name": "stdout",
     "output_type": "stream",
     "text": [
      "Epoch 51: 605 / 797\n"
     ]
    },
    {
     "name": "stdout",
     "output_type": "stream",
     "text": [
      "Epoch 52: 612 / 797\n",
      "Epoch 53: 614 / 797\n",
      "Epoch 54: 616 / 797\n"
     ]
    },
    {
     "name": "stdout",
     "output_type": "stream",
     "text": [
      "Epoch 55: 615 / 797\n"
     ]
    },
    {
     "name": "stdout",
     "output_type": "stream",
     "text": [
      "Epoch 56: 619 / 797\n",
      "Epoch 57: 620 / 797\n",
      "Epoch 58: 625 / 797\n"
     ]
    },
    {
     "name": "stdout",
     "output_type": "stream",
     "text": [
      "Epoch 59: 622 / 797\n"
     ]
    },
    {
     "name": "stdout",
     "output_type": "stream",
     "text": [
      "Epoch 60: 627 / 797\n",
      "Epoch 61: 629 / 797\n",
      "Epoch 62: 624 / 797\n"
     ]
    },
    {
     "name": "stdout",
     "output_type": "stream",
     "text": [
      "Epoch 63: 624 / 797\n"
     ]
    },
    {
     "name": "stdout",
     "output_type": "stream",
     "text": [
      "Epoch 64: 627 / 797\n",
      "Epoch 65: 630 / 797\n",
      "Epoch 66: 634 / 797\n"
     ]
    },
    {
     "name": "stdout",
     "output_type": "stream",
     "text": [
      "Epoch 67: 635 / 797\n"
     ]
    },
    {
     "name": "stdout",
     "output_type": "stream",
     "text": [
      "Epoch 68: 638 / 797\n",
      "Epoch 69: 639 / 797\n",
      "Epoch 70: 643 / 797\n"
     ]
    },
    {
     "name": "stdout",
     "output_type": "stream",
     "text": [
      "Epoch 71: 642 / 797\n"
     ]
    },
    {
     "name": "stdout",
     "output_type": "stream",
     "text": [
      "Epoch 72: 642 / 797\n",
      "Epoch 73: 647 / 797\n",
      "Epoch 74: 646 / 797\n"
     ]
    },
    {
     "name": "stdout",
     "output_type": "stream",
     "text": [
      "Epoch 75: 651 / 797\n"
     ]
    },
    {
     "name": "stdout",
     "output_type": "stream",
     "text": [
      "Epoch 76: 653 / 797\n",
      "Epoch 77: 650 / 797\n",
      "Epoch 78: 645 / 797\n"
     ]
    },
    {
     "name": "stdout",
     "output_type": "stream",
     "text": [
      "Epoch 79: 654 / 797\n"
     ]
    },
    {
     "name": "stdout",
     "output_type": "stream",
     "text": [
      "Epoch 80: 647 / 797\n",
      "Epoch 81: 653 / 797\n",
      "Epoch 82: 647 / 797\n"
     ]
    },
    {
     "name": "stdout",
     "output_type": "stream",
     "text": [
      "Epoch 83: 657 / 797\n"
     ]
    },
    {
     "name": "stdout",
     "output_type": "stream",
     "text": [
      "Epoch 84: 656 / 797\n",
      "Epoch 85: 651 / 797\n",
      "Epoch 86: 655 / 797\n"
     ]
    },
    {
     "name": "stdout",
     "output_type": "stream",
     "text": [
      "Epoch 87: 650 / 797\n"
     ]
    },
    {
     "name": "stdout",
     "output_type": "stream",
     "text": [
      "Epoch 88: 652 / 797\n",
      "Epoch 89: 651 / 797\n",
      "Epoch 90: 652 / 797\n"
     ]
    },
    {
     "name": "stdout",
     "output_type": "stream",
     "text": [
      "Epoch 91: 645 / 797\n"
     ]
    },
    {
     "name": "stdout",
     "output_type": "stream",
     "text": [
      "Epoch 92: 653 / 797\n",
      "Epoch 93: 652 / 797\n",
      "Epoch 94: 655 / 797\n"
     ]
    },
    {
     "name": "stdout",
     "output_type": "stream",
     "text": [
      "Epoch 95: 652 / 797\n"
     ]
    },
    {
     "name": "stdout",
     "output_type": "stream",
     "text": [
      "Epoch 96: 655 / 797\n",
      "Epoch 97: 653 / 797\n",
      "Epoch 98: 648 / 797\n"
     ]
    },
    {
     "name": "stdout",
     "output_type": "stream",
     "text": [
      "Epoch 99: 655 / 797\n"
     ]
    },
    {
     "name": "stdout",
     "output_type": "stream",
     "text": [
      "Epoch 100: 655 / 797\n",
      "Epoch 101: 650 / 797\n",
      "Epoch 102: 651 / 797\n"
     ]
    },
    {
     "name": "stdout",
     "output_type": "stream",
     "text": [
      "Epoch 103: 651 / 797\n"
     ]
    },
    {
     "name": "stdout",
     "output_type": "stream",
     "text": [
      "Epoch 104: 657 / 797\n",
      "Epoch 105: 653 / 797\n",
      "Epoch 106: 651 / 797\n"
     ]
    },
    {
     "name": "stdout",
     "output_type": "stream",
     "text": [
      "Epoch 107: 650 / 797\n"
     ]
    },
    {
     "name": "stdout",
     "output_type": "stream",
     "text": [
      "Epoch 108: 655 / 797\n",
      "Epoch 109: 649 / 797\n",
      "Epoch 110: 652 / 797\n"
     ]
    },
    {
     "name": "stdout",
     "output_type": "stream",
     "text": [
      "Epoch 111: 651 / 797\n"
     ]
    },
    {
     "name": "stdout",
     "output_type": "stream",
     "text": [
      "Epoch 112: 651 / 797\n",
      "Epoch 113: 653 / 797\n",
      "Epoch 114: 653 / 797\n"
     ]
    },
    {
     "name": "stdout",
     "output_type": "stream",
     "text": [
      "Epoch 115: 652 / 797\n"
     ]
    },
    {
     "name": "stdout",
     "output_type": "stream",
     "text": [
      "Epoch 116: 651 / 797\n",
      "Epoch 117: 648 / 797\n",
      "Epoch 118: 649 / 797\n"
     ]
    },
    {
     "name": "stdout",
     "output_type": "stream",
     "text": [
      "Epoch 119: 652 / 797\n"
     ]
    },
    {
     "name": "stdout",
     "output_type": "stream",
     "text": [
      "Epoch 120: 653 / 797\n",
      "Epoch 121: 654 / 797\n",
      "Epoch 122: 653 / 797\n"
     ]
    },
    {
     "name": "stdout",
     "output_type": "stream",
     "text": [
      "Epoch 123: 656 / 797\n"
     ]
    },
    {
     "name": "stdout",
     "output_type": "stream",
     "text": [
      "Epoch 124: 656 / 797\n",
      "Epoch 125: 654 / 797\n",
      "Epoch 126: 654 / 797\n"
     ]
    },
    {
     "name": "stdout",
     "output_type": "stream",
     "text": [
      "Epoch 127: 651 / 797\n"
     ]
    },
    {
     "name": "stdout",
     "output_type": "stream",
     "text": [
      "Epoch 128: 653 / 797\n",
      "Epoch 129: 651 / 797\n",
      "Epoch 130: 651 / 797\n"
     ]
    },
    {
     "name": "stdout",
     "output_type": "stream",
     "text": [
      "Epoch 131: 650 / 797\n"
     ]
    },
    {
     "name": "stdout",
     "output_type": "stream",
     "text": [
      "Epoch 132: 650 / 797\n",
      "Epoch 133: 652 / 797\n",
      "Epoch 134: 648 / 797\n"
     ]
    },
    {
     "name": "stdout",
     "output_type": "stream",
     "text": [
      "Epoch 135: 648 / 797\n"
     ]
    },
    {
     "name": "stdout",
     "output_type": "stream",
     "text": [
      "Epoch 136: 653 / 797\n",
      "Epoch 137: 649 / 797\n",
      "Epoch 138: 654 / 797\n"
     ]
    },
    {
     "name": "stdout",
     "output_type": "stream",
     "text": [
      "Epoch 139: 648 / 797\n"
     ]
    },
    {
     "name": "stdout",
     "output_type": "stream",
     "text": [
      "Epoch 140: 655 / 797\n",
      "Epoch 141: 653 / 797\n",
      "Epoch 142: 656 / 797\n"
     ]
    },
    {
     "name": "stdout",
     "output_type": "stream",
     "text": [
      "Epoch 143: 652 / 797\n"
     ]
    },
    {
     "name": "stdout",
     "output_type": "stream",
     "text": [
      "Epoch 144: 658 / 797\n",
      "Epoch 145: 652 / 797\n",
      "Epoch 146: 651 / 797\n"
     ]
    },
    {
     "name": "stdout",
     "output_type": "stream",
     "text": [
      "Epoch 147: 653 / 797\n"
     ]
    },
    {
     "name": "stdout",
     "output_type": "stream",
     "text": [
      "Epoch 148: 654 / 797\n",
      "Epoch 149: 652 / 797\n",
      "Epoch 150: 652 / 797\n"
     ]
    },
    {
     "name": "stdout",
     "output_type": "stream",
     "text": [
      "Epoch 151: 654 / 797\n"
     ]
    },
    {
     "name": "stdout",
     "output_type": "stream",
     "text": [
      "Epoch 152: 657 / 797\n",
      "Epoch 153: 654 / 797\n",
      "Epoch 154: 655 / 797\n"
     ]
    },
    {
     "name": "stdout",
     "output_type": "stream",
     "text": [
      "Epoch 155: 652 / 797\n"
     ]
    },
    {
     "name": "stdout",
     "output_type": "stream",
     "text": [
      "Epoch 156: 655 / 797\n",
      "Epoch 157: 652 / 797\n",
      "Epoch 158: 650 / 797\n"
     ]
    },
    {
     "name": "stdout",
     "output_type": "stream",
     "text": [
      "Epoch 159: 654 / 797\n"
     ]
    },
    {
     "name": "stdout",
     "output_type": "stream",
     "text": [
      "Epoch 160: 655 / 797\n",
      "Epoch 161: 655 / 797\n",
      "Epoch 162: 658 / 797\n"
     ]
    },
    {
     "name": "stdout",
     "output_type": "stream",
     "text": [
      "Epoch 163: 653 / 797\n"
     ]
    },
    {
     "name": "stdout",
     "output_type": "stream",
     "text": [
      "Epoch 164: 653 / 797\n",
      "Epoch 165: 652 / 797\n",
      "Epoch 166: 656 / 797\n"
     ]
    },
    {
     "name": "stdout",
     "output_type": "stream",
     "text": [
      "Epoch 167: 657 / 797\n"
     ]
    },
    {
     "name": "stdout",
     "output_type": "stream",
     "text": [
      "Epoch 168: 655 / 797\n",
      "Epoch 169: 656 / 797\n",
      "Epoch 170: 655 / 797\n"
     ]
    },
    {
     "name": "stdout",
     "output_type": "stream",
     "text": [
      "Epoch 171: 654 / 797\n"
     ]
    },
    {
     "name": "stdout",
     "output_type": "stream",
     "text": [
      "Epoch 172: 655 / 797\n",
      "Epoch 173: 655 / 797\n",
      "Epoch 174: 654 / 797\n"
     ]
    },
    {
     "name": "stdout",
     "output_type": "stream",
     "text": [
      "Epoch 175: 657 / 797\n"
     ]
    },
    {
     "name": "stdout",
     "output_type": "stream",
     "text": [
      "Epoch 176: 654 / 797\n",
      "Epoch 177: 657 / 797\n",
      "Epoch 178: 655 / 797\n"
     ]
    },
    {
     "name": "stdout",
     "output_type": "stream",
     "text": [
      "Epoch 179: 659 / 797\n"
     ]
    },
    {
     "name": "stdout",
     "output_type": "stream",
     "text": [
      "Epoch 180: 655 / 797\n",
      "Epoch 181: 657 / 797\n",
      "Epoch 182: 659 / 797\n"
     ]
    },
    {
     "name": "stdout",
     "output_type": "stream",
     "text": [
      "Epoch 183: 660 / 797\n"
     ]
    },
    {
     "name": "stdout",
     "output_type": "stream",
     "text": [
      "Epoch 184: 659 / 797\n",
      "Epoch 185: 663 / 797\n",
      "Epoch 186: 659 / 797\n"
     ]
    },
    {
     "name": "stdout",
     "output_type": "stream",
     "text": [
      "Epoch 187: 658 / 797\n"
     ]
    },
    {
     "name": "stdout",
     "output_type": "stream",
     "text": [
      "Epoch 188: 656 / 797\n",
      "Epoch 189: 657 / 797\n",
      "Epoch 190: 656 / 797\n"
     ]
    },
    {
     "name": "stdout",
     "output_type": "stream",
     "text": [
      "Epoch 191: 656 / 797\n"
     ]
    },
    {
     "name": "stdout",
     "output_type": "stream",
     "text": [
      "Epoch 192: 659 / 797\n",
      "Epoch 193: 658 / 797\n",
      "Epoch 194: 658 / 797\n"
     ]
    },
    {
     "name": "stdout",
     "output_type": "stream",
     "text": [
      "Epoch 195: 657 / 797\n"
     ]
    },
    {
     "name": "stdout",
     "output_type": "stream",
     "text": [
      "Epoch 196: 658 / 797\n",
      "Epoch 197: 659 / 797\n",
      "Epoch 198: 661 / 797\n"
     ]
    },
    {
     "name": "stdout",
     "output_type": "stream",
     "text": [
      "Epoch 199: 659 / 797\n"
     ]
    },
    {
     "name": "stdout",
     "output_type": "stream",
     "text": [
      "Epoch 200: 661 / 797\n",
      "Epoch 201: 659 / 797\n",
      "Epoch 202: 663 / 797\n"
     ]
    },
    {
     "name": "stdout",
     "output_type": "stream",
     "text": [
      "Epoch 203: 662 / 797\n"
     ]
    },
    {
     "name": "stdout",
     "output_type": "stream",
     "text": [
      "Epoch 204: 660 / 797\n",
      "Epoch 205: 660 / 797\n",
      "Epoch 206: 661 / 797\n"
     ]
    },
    {
     "name": "stdout",
     "output_type": "stream",
     "text": [
      "Epoch 207: 659 / 797\n"
     ]
    },
    {
     "name": "stdout",
     "output_type": "stream",
     "text": [
      "Epoch 208: 664 / 797\n",
      "Epoch 209: 660 / 797\n",
      "Epoch 210: 659 / 797\n"
     ]
    },
    {
     "name": "stdout",
     "output_type": "stream",
     "text": [
      "Epoch 211: 662 / 797\n"
     ]
    },
    {
     "name": "stdout",
     "output_type": "stream",
     "text": [
      "Epoch 212: 661 / 797\n",
      "Epoch 213: 661 / 797\n",
      "Epoch 214: 660 / 797\n"
     ]
    },
    {
     "name": "stdout",
     "output_type": "stream",
     "text": [
      "Epoch 215: 662 / 797\n"
     ]
    },
    {
     "name": "stdout",
     "output_type": "stream",
     "text": [
      "Epoch 216: 658 / 797\n",
      "Epoch 217: 661 / 797\n",
      "Epoch 218: 665 / 797\n"
     ]
    },
    {
     "name": "stdout",
     "output_type": "stream",
     "text": [
      "Epoch 219: 660 / 797\n"
     ]
    },
    {
     "name": "stdout",
     "output_type": "stream",
     "text": [
      "Epoch 220: 661 / 797\n",
      "Epoch 221: 662 / 797\n",
      "Epoch 222: 662 / 797\n"
     ]
    },
    {
     "name": "stdout",
     "output_type": "stream",
     "text": [
      "Epoch 223: 659 / 797\n"
     ]
    },
    {
     "name": "stdout",
     "output_type": "stream",
     "text": [
      "Epoch 224: 661 / 797\n",
      "Epoch 225: 660 / 797\n",
      "Epoch 226: 661 / 797\n"
     ]
    },
    {
     "name": "stdout",
     "output_type": "stream",
     "text": [
      "Epoch 227: 663 / 797\n"
     ]
    },
    {
     "name": "stdout",
     "output_type": "stream",
     "text": [
      "Epoch 228: 661 / 797\n",
      "Epoch 229: 663 / 797\n",
      "Epoch 230: 664 / 797\n"
     ]
    },
    {
     "name": "stdout",
     "output_type": "stream",
     "text": [
      "Epoch 231: 660 / 797\n"
     ]
    },
    {
     "name": "stdout",
     "output_type": "stream",
     "text": [
      "Epoch 232: 661 / 797\n",
      "Epoch 233: 659 / 797\n",
      "Epoch 234: 660 / 797\n"
     ]
    },
    {
     "name": "stdout",
     "output_type": "stream",
     "text": [
      "Epoch 235: 658 / 797\n"
     ]
    },
    {
     "name": "stdout",
     "output_type": "stream",
     "text": [
      "Epoch 236: 659 / 797\n",
      "Epoch 237: 660 / 797\n",
      "Epoch 238: 660 / 797\n"
     ]
    },
    {
     "name": "stdout",
     "output_type": "stream",
     "text": [
      "Epoch 239: 659 / 797\n"
     ]
    },
    {
     "name": "stdout",
     "output_type": "stream",
     "text": [
      "Epoch 240: 656 / 797\n",
      "Epoch 241: 658 / 797\n",
      "Epoch 242: 660 / 797\n"
     ]
    },
    {
     "name": "stdout",
     "output_type": "stream",
     "text": [
      "Epoch 243: 658 / 797\n"
     ]
    },
    {
     "name": "stdout",
     "output_type": "stream",
     "text": [
      "Epoch 244: 657 / 797\n",
      "Epoch 245: 657 / 797\n",
      "Epoch 246: 658 / 797\n"
     ]
    },
    {
     "name": "stdout",
     "output_type": "stream",
     "text": [
      "Epoch 247: 659 / 797\n"
     ]
    },
    {
     "name": "stdout",
     "output_type": "stream",
     "text": [
      "Epoch 248: 657 / 797\n",
      "Epoch 249: 658 / 797\n",
      "Epoch 250: 657 / 797\n"
     ]
    },
    {
     "name": "stdout",
     "output_type": "stream",
     "text": [
      "Epoch 251: 660 / 797\n"
     ]
    },
    {
     "name": "stdout",
     "output_type": "stream",
     "text": [
      "Epoch 252: 663 / 797\n",
      "Epoch 253: 657 / 797\n",
      "Epoch 254: 656 / 797\n"
     ]
    },
    {
     "name": "stdout",
     "output_type": "stream",
     "text": [
      "Epoch 255: 657 / 797\n"
     ]
    },
    {
     "name": "stdout",
     "output_type": "stream",
     "text": [
      "Epoch 256: 656 / 797\n",
      "Epoch 257: 662 / 797\n",
      "Epoch 258: 658 / 797\n"
     ]
    },
    {
     "name": "stdout",
     "output_type": "stream",
     "text": [
      "Epoch 259: 659 / 797\n"
     ]
    },
    {
     "name": "stdout",
     "output_type": "stream",
     "text": [
      "Epoch 260: 662 / 797\n",
      "Epoch 261: 660 / 797\n",
      "Epoch 262: 660 / 797\n"
     ]
    },
    {
     "name": "stdout",
     "output_type": "stream",
     "text": [
      "Epoch 263: 660 / 797\n"
     ]
    },
    {
     "name": "stdout",
     "output_type": "stream",
     "text": [
      "Epoch 264: 658 / 797\n",
      "Epoch 265: 663 / 797\n",
      "Epoch 266: 661 / 797\n"
     ]
    },
    {
     "name": "stdout",
     "output_type": "stream",
     "text": [
      "Epoch 267: 661 / 797\n"
     ]
    },
    {
     "name": "stdout",
     "output_type": "stream",
     "text": [
      "Epoch 268: 661 / 797\n",
      "Epoch 269: 663 / 797\n",
      "Epoch 270: 663 / 797\n"
     ]
    },
    {
     "name": "stdout",
     "output_type": "stream",
     "text": [
      "Epoch 271: 663 / 797\n"
     ]
    },
    {
     "name": "stdout",
     "output_type": "stream",
     "text": [
      "Epoch 272: 663 / 797\n",
      "Epoch 273: 664 / 797\n",
      "Epoch 274: 663 / 797\n"
     ]
    },
    {
     "name": "stdout",
     "output_type": "stream",
     "text": [
      "Epoch 275: 661 / 797\n"
     ]
    },
    {
     "name": "stdout",
     "output_type": "stream",
     "text": [
      "Epoch 276: 664 / 797\n",
      "Epoch 277: 663 / 797\n",
      "Epoch 278: 664 / 797\n"
     ]
    },
    {
     "name": "stdout",
     "output_type": "stream",
     "text": [
      "Epoch 279: 665 / 797\n"
     ]
    },
    {
     "name": "stdout",
     "output_type": "stream",
     "text": [
      "Epoch 280: 664 / 797\n",
      "Epoch 281: 666 / 797\n",
      "Epoch 282: 664 / 797\n"
     ]
    },
    {
     "name": "stdout",
     "output_type": "stream",
     "text": [
      "Epoch 283: 663 / 797\n"
     ]
    },
    {
     "name": "stdout",
     "output_type": "stream",
     "text": [
      "Epoch 284: 666 / 797\n",
      "Epoch 285: 664 / 797\n",
      "Epoch 286: 663 / 797\n"
     ]
    },
    {
     "name": "stdout",
     "output_type": "stream",
     "text": [
      "Epoch 287: 665 / 797\n"
     ]
    },
    {
     "name": "stdout",
     "output_type": "stream",
     "text": [
      "Epoch 288: 667 / 797\n",
      "Epoch 289: 666 / 797\n",
      "Epoch 290: 664 / 797\n"
     ]
    },
    {
     "name": "stdout",
     "output_type": "stream",
     "text": [
      "Epoch 291: 666 / 797\n"
     ]
    },
    {
     "name": "stdout",
     "output_type": "stream",
     "text": [
      "Epoch 292: 666 / 797\n",
      "Epoch 293: 665 / 797\n",
      "Epoch 294: 667 / 797\n"
     ]
    },
    {
     "name": "stdout",
     "output_type": "stream",
     "text": [
      "Epoch 295: 666 / 797\n"
     ]
    },
    {
     "name": "stdout",
     "output_type": "stream",
     "text": [
      "Epoch 296: 666 / 797\n",
      "Epoch 297: 664 / 797\n",
      "Epoch 298: 668 / 797\n"
     ]
    },
    {
     "name": "stdout",
     "output_type": "stream",
     "text": [
      "Epoch 299: 669 / 797\n"
     ]
    },
    {
     "name": "stdout",
     "output_type": "stream",
     "text": [
      "Epoch 300: 665 / 797\n",
      "Epoch 301: 666 / 797\n",
      "Epoch 302: 666 / 797\n"
     ]
    },
    {
     "name": "stdout",
     "output_type": "stream",
     "text": [
      "Epoch 303: 667 / 797\n"
     ]
    },
    {
     "name": "stdout",
     "output_type": "stream",
     "text": [
      "Epoch 304: 667 / 797\n",
      "Epoch 305: 666 / 797\n",
      "Epoch 306: 666 / 797\n"
     ]
    },
    {
     "name": "stdout",
     "output_type": "stream",
     "text": [
      "Epoch 307: 666 / 797\n"
     ]
    },
    {
     "name": "stdout",
     "output_type": "stream",
     "text": [
      "Epoch 308: 668 / 797\n",
      "Epoch 309: 666 / 797\n",
      "Epoch 310: 669 / 797\n"
     ]
    },
    {
     "name": "stdout",
     "output_type": "stream",
     "text": [
      "Epoch 311: 663 / 797\n"
     ]
    },
    {
     "name": "stdout",
     "output_type": "stream",
     "text": [
      "Epoch 312: 669 / 797\n",
      "Epoch 313: 666 / 797\n",
      "Epoch 314: 665 / 797\n"
     ]
    },
    {
     "name": "stdout",
     "output_type": "stream",
     "text": [
      "Epoch 315: 666 / 797\n"
     ]
    },
    {
     "name": "stdout",
     "output_type": "stream",
     "text": [
      "Epoch 316: 669 / 797\n",
      "Epoch 317: 669 / 797\n",
      "Epoch 318: 665 / 797\n"
     ]
    },
    {
     "name": "stdout",
     "output_type": "stream",
     "text": [
      "Epoch 319: 668 / 797\n"
     ]
    },
    {
     "name": "stdout",
     "output_type": "stream",
     "text": [
      "Epoch 320: 667 / 797\n",
      "Epoch 321: 668 / 797\n",
      "Epoch 322: 669 / 797\n"
     ]
    },
    {
     "name": "stdout",
     "output_type": "stream",
     "text": [
      "Epoch 323: 668 / 797\n"
     ]
    },
    {
     "name": "stdout",
     "output_type": "stream",
     "text": [
      "Epoch 324: 669 / 797\n",
      "Epoch 325: 666 / 797\n",
      "Epoch 326: 665 / 797\n"
     ]
    },
    {
     "name": "stdout",
     "output_type": "stream",
     "text": [
      "Epoch 327: 669 / 797\n"
     ]
    },
    {
     "name": "stdout",
     "output_type": "stream",
     "text": [
      "Epoch 328: 668 / 797\n",
      "Epoch 329: 669 / 797\n",
      "Epoch 330: 669 / 797\n"
     ]
    },
    {
     "name": "stdout",
     "output_type": "stream",
     "text": [
      "Epoch 331: 669 / 797\n"
     ]
    },
    {
     "name": "stdout",
     "output_type": "stream",
     "text": [
      "Epoch 332: 667 / 797\n",
      "Epoch 333: 668 / 797\n",
      "Epoch 334: 668 / 797\n"
     ]
    },
    {
     "name": "stdout",
     "output_type": "stream",
     "text": [
      "Epoch 335: 669 / 797\n"
     ]
    },
    {
     "name": "stdout",
     "output_type": "stream",
     "text": [
      "Epoch 336: 670 / 797\n",
      "Epoch 337: 668 / 797\n",
      "Epoch 338: 669 / 797\n"
     ]
    },
    {
     "name": "stdout",
     "output_type": "stream",
     "text": [
      "Epoch 339: 668 / 797\n"
     ]
    },
    {
     "name": "stdout",
     "output_type": "stream",
     "text": [
      "Epoch 340: 669 / 797\n",
      "Epoch 341: 666 / 797\n",
      "Epoch 342: 669 / 797\n"
     ]
    },
    {
     "name": "stdout",
     "output_type": "stream",
     "text": [
      "Epoch 343: 665 / 797\n"
     ]
    },
    {
     "name": "stdout",
     "output_type": "stream",
     "text": [
      "Epoch 344: 668 / 797\n",
      "Epoch 345: 666 / 797\n",
      "Epoch 346: 667 / 797\n"
     ]
    },
    {
     "name": "stdout",
     "output_type": "stream",
     "text": [
      "Epoch 347: 666 / 797\n"
     ]
    },
    {
     "name": "stdout",
     "output_type": "stream",
     "text": [
      "Epoch 348: 668 / 797\n",
      "Epoch 349: 668 / 797\n",
      "Epoch 350: 667 / 797\n"
     ]
    },
    {
     "name": "stdout",
     "output_type": "stream",
     "text": [
      "Epoch 351: 669 / 797\n"
     ]
    },
    {
     "name": "stdout",
     "output_type": "stream",
     "text": [
      "Epoch 352: 669 / 797\n",
      "Epoch 353: 668 / 797\n",
      "Epoch 354: 667 / 797\n"
     ]
    },
    {
     "name": "stdout",
     "output_type": "stream",
     "text": [
      "Epoch 355: 665 / 797\n"
     ]
    },
    {
     "name": "stdout",
     "output_type": "stream",
     "text": [
      "Epoch 356: 664 / 797\n",
      "Epoch 357: 661 / 797\n",
      "Epoch 358: 664 / 797\n"
     ]
    },
    {
     "name": "stdout",
     "output_type": "stream",
     "text": [
      "Epoch 359: 664 / 797\n"
     ]
    },
    {
     "name": "stdout",
     "output_type": "stream",
     "text": [
      "Epoch 360: 667 / 797\n",
      "Epoch 361: 663 / 797\n",
      "Epoch 362: 664 / 797\n"
     ]
    },
    {
     "name": "stdout",
     "output_type": "stream",
     "text": [
      "Epoch 363: 664 / 797\n"
     ]
    },
    {
     "name": "stdout",
     "output_type": "stream",
     "text": [
      "Epoch 364: 666 / 797\n",
      "Epoch 365: 665 / 797\n",
      "Epoch 366: 667 / 797\n"
     ]
    },
    {
     "name": "stdout",
     "output_type": "stream",
     "text": [
      "Epoch 367: 663 / 797\n"
     ]
    },
    {
     "name": "stdout",
     "output_type": "stream",
     "text": [
      "Epoch 368: 664 / 797\n",
      "Epoch 369: 663 / 797\n",
      "Epoch 370: 664 / 797\n"
     ]
    },
    {
     "name": "stdout",
     "output_type": "stream",
     "text": [
      "Epoch 371: 666 / 797\n"
     ]
    },
    {
     "name": "stdout",
     "output_type": "stream",
     "text": [
      "Epoch 372: 664 / 797\n",
      "Epoch 373: 665 / 797\n",
      "Epoch 374: 662 / 797\n"
     ]
    },
    {
     "name": "stdout",
     "output_type": "stream",
     "text": [
      "Epoch 375: 663 / 797\n"
     ]
    },
    {
     "name": "stdout",
     "output_type": "stream",
     "text": [
      "Epoch 376: 666 / 797\n",
      "Epoch 377: 664 / 797\n",
      "Epoch 378: 665 / 797\n"
     ]
    },
    {
     "name": "stdout",
     "output_type": "stream",
     "text": [
      "Epoch 379: 666 / 797\n"
     ]
    },
    {
     "name": "stdout",
     "output_type": "stream",
     "text": [
      "Epoch 380: 667 / 797\n",
      "Epoch 381: 664 / 797\n",
      "Epoch 382: 667 / 797\n"
     ]
    },
    {
     "name": "stdout",
     "output_type": "stream",
     "text": [
      "Epoch 383: 665 / 797\n"
     ]
    },
    {
     "name": "stdout",
     "output_type": "stream",
     "text": [
      "Epoch 384: 666 / 797\n",
      "Epoch 385: 666 / 797\n",
      "Epoch 386: 665 / 797\n"
     ]
    },
    {
     "name": "stdout",
     "output_type": "stream",
     "text": [
      "Epoch 387: 665 / 797\n"
     ]
    },
    {
     "name": "stdout",
     "output_type": "stream",
     "text": [
      "Epoch 388: 666 / 797\n",
      "Epoch 389: 666 / 797\n",
      "Epoch 390: 666 / 797\n"
     ]
    },
    {
     "name": "stdout",
     "output_type": "stream",
     "text": [
      "Epoch 391: 666 / 797\n"
     ]
    },
    {
     "name": "stdout",
     "output_type": "stream",
     "text": [
      "Epoch 392: 663 / 797\n",
      "Epoch 393: 666 / 797\n",
      "Epoch 394: 666 / 797\n"
     ]
    },
    {
     "name": "stdout",
     "output_type": "stream",
     "text": [
      "Epoch 395: 664 / 797\n"
     ]
    },
    {
     "name": "stdout",
     "output_type": "stream",
     "text": [
      "Epoch 396: 666 / 797\n",
      "Epoch 397: 666 / 797\n",
      "Epoch 398: 666 / 797\n"
     ]
    },
    {
     "name": "stdout",
     "output_type": "stream",
     "text": [
      "Epoch 399: 663 / 797\n"
     ]
    }
   ],
   "source": [
    "net = MLP([64,30, 10])\n",
    "net.SGD(training_data, 400, 10, .03,test_data)"
   ]
  },
  {
   "cell_type": "code",
   "execution_count": 18,
   "metadata": {
    "ExecuteTime": {
     "end_time": "2017-12-06T17:14:14.633000Z",
     "start_time": "2017-12-06T18:13:13.667000+01:00"
    }
   },
   "outputs": [
    {
     "data": {
      "image/png": "[encoded data removed]",
      "text/plain": [
       "<Figure size 864x720 with 1 Axes>"
      ]
     },
     "metadata": {
      "filenames": {
       "image/png": "/Users/johannes/gitprojects/jmaiworkshop/aiintro/_build/jupyter_execute/MLP_37_0.png"
      },
      "needs_background": "light"
     },
     "output_type": "display_data"
    }
   ],
   "source": [
    "if len(net.testCorrect)>0:\n",
    "    plt.figure(figsize=(12,10))\n",
    "    plt.plot(range(len(net.testCorrect)),net.testCorrect)\n",
    "    plt.title(\"Number of correct classifications\")\n",
    "    plt.xlabel(\"epoch\")\n",
    "    #plt.hold(True)\n",
    "    plt.plot([0,len(net.testCorrect)],[n_samples-NUMTRAIN,n_samples-NUMTRAIN])\n",
    "    plt.show()"
   ]
  },
  {
   "cell_type": "code",
   "execution_count": 19,
   "metadata": {
    "ExecuteTime": {
     "end_time": "2017-12-06T17:14:22.840000Z",
     "start_time": "2017-12-06T18:14:22.840000+01:00"
    }
   },
   "outputs": [
    {
     "name": "stdout",
     "output_type": "stream",
     "text": [
      "('Accuracy: ', 0.8318695106649937)\n"
     ]
    }
   ],
   "source": [
    "print((\"Accuracy: \",net.testCorrect[-1]/float((n_samples-NUMTRAIN))))"
   ]
  },
  {
   "cell_type": "code",
   "execution_count": null,
   "metadata": {},
   "outputs": [],
   "source": []
  }
 ],
 "metadata": {
  "anaconda-cloud": {},
  "kernelspec": {
   "display_name": "Python 3",
   "language": "python",
   "name": "python3"
  },
  "language_info": {
   "codemirror_mode": {
    "name": "ipython",
    "version": 3
   },
   "file_extension": ".py",
   "mimetype": "text/x-python",
   "name": "python",
   "nbconvert_exporter": "python",
   "pygments_lexer": "ipython3",
   "version": "3.7.5"
  },
  "nav_menu": {},
  "toc": {
   "base_numbering": 1,
   "nav_menu": {},
   "number_sections": true,
   "sideBar": true,
   "skip_h1_title": false,
   "title_cell": "Table of Contents",
   "title_sidebar": "Contents",
   "toc_cell": true,
   "toc_position": {},
   "toc_section_display": "block",
   "toc_window_display": false
  },
  "varInspector": {
   "cols": {
    "lenName": 16,
    "lenType": 16,
    "lenVar": 40
   },
   "kernels_config": {
    "python": {
     "delete_cmd_postfix": "",
     "delete_cmd_prefix": "del ",
     "library": "var_list.py",
     "varRefreshCmd": "print(var_dic_list())"
    },
    "r": {
     "delete_cmd_postfix": ") ",
     "delete_cmd_prefix": "rm(",
     "library": "var_list.r",
     "varRefreshCmd": "cat(var_dic_list()) "
    }
   },
   "types_to_exclude": [
    "module",
    "function",
    "builtin_function_or_method",
    "instance",
    "_Feature"
   ],
   "window_display": false
  }
 },
 "nbformat": 4,
 "nbformat_minor": 1
}