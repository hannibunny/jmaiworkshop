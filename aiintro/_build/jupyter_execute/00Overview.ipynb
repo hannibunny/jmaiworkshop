{
 "cells": [
  {
   "cell_type": "markdown",
   "metadata": {
    "slideshow": {
     "slide_type": "slide"
    }
   },
   "source": [
    "# Artificial Intelligence and Machine Learning\n",
    "* Author: Johannes Maucher\n",
    "* Date: October, 28th, 2020\n",
    "\n",
    "\n",
    "* Homepage Maucher: [http://maucher.pages.mi.hdm-stuttgart.de/ai/](http://maucher.pages.mi.hdm-stuttgart.de/ai/)\n",
    "* Institute for Applied Artificial Intelligence (IAAI): [https://ai.hdm-stuttgart.de/](https://ai.hdm-stuttgart.de/)\n",
    "* This lecture: [https://maucher.home.hdm-stuttgart.de/jmaiworkshop/html/](https://maucher.home.hdm-stuttgart.de/jmaiworkshop/html/)"
   ]
  },
  {
   "cell_type": "markdown",
   "metadata": {
    "slideshow": {
     "slide_type": "slide"
    }
   },
   "source": [
    "## AI Lectures @Mahle\n",
    "\n",
    "1. Introduction Artificial Intelligence and Machine Learning\n",
    "    * Basic categories, concepts and applications\n",
    "    * October 28th, 2020\n",
    "2. Neural Networks and Deep Neural Networks\n",
    "    * Deep Neural Network Architectures\n",
    "    * Implementation of Neural Networks in Python, Tensorflow and Keras\n",
    "    * November 18th, 2020"
   ]
  },
  {
   "cell_type": "markdown",
   "metadata": {
    "slideshow": {
     "slide_type": "slide"
    }
   },
   "source": [
    "## Goals of this seminar\n",
    "\n",
    "* Artificial Intelligence (AI) is not about creating super-human-science-fiction-creatures. AI, instead provides an **extremely flexible and comprehensive toolbox**, which can be applied for an almost infinite field of applications. The main goal of this seminar is to provide you a glimpse into the immense AI potential. In the best case you will find out, that some of your daily work or projects can be better solved by applying AI-tools.\n",
    "\n",
    "* This seminar should provide a structured introduction to AI. **The wide range of AI is subdivided into 4 categories**. For each of these categories the main concepts and application-areas are presented. Knowing the fundamentals of these categories is the **perfect starting point to deepen knowledge in specific subcategories**, e.g. Deeplearning. Moreover it provides the capability to **assign, classify and assess any statement, idea or application on AI** (on a high level)."
   ]
  },
  {
   "cell_type": "markdown",
   "metadata": {
    "slideshow": {
     "slide_type": "slide"
    }
   },
   "source": [
    "## Contents\n",
    "<img src=\"https://maucher.home.hdm-stuttgart.de/Pics/categoriesEnglish.png\" style=\"width:700px\" align=\"center\">"
   ]
  },
  {
   "cell_type": "markdown",
   "metadata": {
    "slideshow": {
     "slide_type": "skip"
    }
   },
   "source": [
    "The field of Artificial lIntelligence is usually partitioned into the following 4 categories:\n",
    "\n",
    "* Search and Plan\n",
    "* Knowledge Representation and Inference\n",
    "* Modelling of Uncertainty\n",
    "* Machine Learning\n"
   ]
  },
  {
   "cell_type": "markdown",
   "metadata": {
    "slideshow": {
     "slide_type": "slide"
    }
   },
   "source": [
    "### [Introduction](01Introduction.ipynb)\n",
    " * What is AI?\n",
    " * AI Categories\n",
    " * AI applications by category"
   ]
  },
  {
   "cell_type": "markdown",
   "metadata": {
    "slideshow": {
     "slide_type": "slide"
    }
   },
   "source": [
    "### [Searching and Planning](03SearchAndPlan.ipynb)\n",
    "   * Example Applications \n",
    "   * Environment Requirements\n",
    "   * Uninformed Search\n",
    "   * Informed Search\n",
    "   * Optimisation / Genetic Algorithm"
   ]
  },
  {
   "cell_type": "markdown",
   "metadata": {
    "slideshow": {
     "slide_type": "slide"
    }
   },
   "source": [
    "### [Knowledge and Inference](04Inference.ipynb)\n",
    "* Applications: \n",
    "    - Expert Systems, e.g. for medical or technical diagnosis\n",
    "    - Semantic Web\n",
    "    - Google Knowledge Graph\n",
    "* Knowledge Base\n",
    "* Inference"
   ]
  },
  {
   "cell_type": "markdown",
   "metadata": {
    "slideshow": {
     "slide_type": "slide"
    }
   },
   "source": [
    "### [Modelling of Uncertainty](05Uncertainty.ipynb)\n",
    "\n",
    "Bayesian Networks\n",
    "* Applications, e.g. medical or technical Diagnosis\n",
    "* Definition of Bayesian Network: Graphs, Edges, CPTs\n",
    "* Inference in Bayesian Networks\n"
   ]
  },
  {
   "cell_type": "markdown",
   "metadata": {
    "slideshow": {
     "slide_type": "slide"
    }
   },
   "source": [
    "### [Machine Learning Intro](06MLintro.ipynb)\n",
    "* Categorization: Supervised, Unsupervised, Reinforcement, Dimensionality Reduction, Outlier Detection\n",
    "* Application categories: Object Recognition, NLP, Data Mining\n",
    "* Machine Learning Process in general\n",
    "* Machine Learning in the context of Data Mining"
   ]
  },
  {
   "cell_type": "markdown",
   "metadata": {
    "slideshow": {
     "slide_type": "slide"
    }
   },
   "source": [
    "### [Data for Machine Learning](06Data.ipynb)\n",
    "* Data Types: numeric, nominal, ordinal, sequential, independent, ...\n",
    "* How much data is required? ...\n",
    "* ...It depends on ...\n",
    "* Methods to decrease the required amount of data\n",
    "* Data in the context of Deep Learning"
   ]
  },
  {
   "cell_type": "markdown",
   "metadata": {
    "slideshow": {
     "slide_type": "slide"
    }
   },
   "source": [
    "### [Neural Networks Introduction](07NeuralNets.ipynb)\n",
    "* Single Neuron operation\n",
    "* General Notions of Neural Networks\n",
    "* Single Layer Perceptron (SLP)\n",
    "* Multi Layer Perceptron (MLP)"
   ]
  },
  {
   "cell_type": "markdown",
   "metadata": {},
   "source": [
    "\n",
    "```{toctree}\n",
    ":hidden:\n",
    ":titlesonly:\n",
    "\n",
    "\n",
    "01Introduction.ipynb\n",
    "01aWhatsAI.ipynb\n",
    "03SearchAndPlan.ipynb\n",
    "04Inference.ipynb\n",
    "05Uncertainty.ipynb\n",
    "06MLintro.ipynb\n",
    "06Data.ipynb\n",
    "07NeuralNets.ipynb\n",
    "```\n"
   ]
  }
 ],
 "metadata": {
  "celltoolbar": "Slideshow",
  "kernelspec": {
   "display_name": "Python 3",
   "language": "python",
   "name": "python3"
  },
  "language_info": {
   "codemirror_mode": {
    "name": "ipython",
    "version": 3
   },
   "file_extension": ".py",
   "mimetype": "text/x-python",
   "name": "python",
   "nbconvert_exporter": "python",
   "pygments_lexer": "ipython3",
   "version": "3.7.5"
  },
  "nav_menu": {},
  "toc": {
   "base_numbering": 1,
   "nav_menu": {},
   "number_sections": true,
   "sideBar": true,
   "skip_h1_title": false,
   "title_cell": "Table of Contents",
   "title_sidebar": "Contents",
   "toc_cell": false,
   "toc_position": {},
   "toc_section_display": true,
   "toc_window_display": false
  }
 },
 "nbformat": 4,
 "nbformat_minor": 2
}