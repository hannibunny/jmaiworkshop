{
 "cells": [
  {
   "cell_type": "markdown",
   "metadata": {
    "nbpresent": {
     "id": "7c7f148e-2840-4ae9-a988-197a143c98a3"
    },
    "slideshow": {
     "slide_type": "slide"
    }
   },
   "source": [
    "# Search and Planning\n",
    "* Author: Johannes Maucher\n",
    "* Last Update: 26.10.2020"
   ]
  },
  {
   "cell_type": "markdown",
   "metadata": {
    "slideshow": {
     "slide_type": "slide"
    }
   },
   "source": [
    "## Goal-based Agent\n",
    "![agentGoal.png](https://maucher.home.hdm-stuttgart.de/Pics/agentGoal.png)"
   ]
  },
  {
   "cell_type": "markdown",
   "metadata": {
    "slideshow": {
     "slide_type": "slide"
    }
   },
   "source": [
    "## Utility-based Agent\n",
    "![agentGoal.png](https://maucher.home.hdm-stuttgart.de/Pics/agentUtility.png)"
   ]
  },
  {
   "cell_type": "markdown",
   "metadata": {
    "nbpresent": {
     "id": "53394a24-edcb-4aea-90f5-f23904c3ae45"
    },
    "slideshow": {
     "slide_type": "slide"
    }
   },
   "source": [
    "## Applications"
   ]
  },
  {
   "cell_type": "markdown",
   "metadata": {
    "nbpresent": {
     "id": "a824b285-5229-4b18-9bd1-266409394bd4"
    },
    "slideshow": {
     "slide_type": "slide"
    }
   },
   "source": [
    "**Navigation:** $\\Rightarrow$ Uniform-Cost- / A*-Algorithm\n",
    "<img src=\"https://maucher.home.hdm-stuttgart.de/Pics/bingsuche.PNG\" style=\"width:800px\" align=\"center\">"
   ]
  },
  {
   "cell_type": "markdown",
   "metadata": {
    "slideshow": {
     "slide_type": "skip"
    }
   },
   "source": [
    "**General Planning Problems:**"
   ]
  },
  {
   "cell_type": "code",
   "execution_count": 1,
   "metadata": {
    "scrolled": true,
    "slideshow": {
     "slide_type": "skip"
    }
   },
   "outputs": [
    {
     "data": {
      "image/jpeg": "[encoded data removed]",
      "text/html": [
       "\n",
       "<iframe\n",
       "    width=\"800\"\n",
       "    height=\"300\"\n",
       "    src=\"https://www.youtube.com/embed/6J_Kaklz4f0\"\n",
       "    frameborder=\"0\"\n",
       "    allowfullscreen\n",
       "></iframe>\n"
      ],
      "text/plain": [
       "<IPython.lib.display.YouTubeVideo at 0x7f7f4e6189d0>"
      ]
     },
     "execution_count": 1,
     "metadata": {
      "filenames": {
       "image/jpeg": "/Users/johannes/gitprojects/jmaiworkshop/aiintro/_build/jupyter_execute/03SearchAndPlan_6_0.jpg"
      }
     },
     "output_type": "execute_result"
    }
   ],
   "source": [
    "from IPython.display import YouTubeVideo\n",
    "YouTubeVideo('6J_Kaklz4f0', width=800, height=300)"
   ]
  },
  {
   "cell_type": "markdown",
   "metadata": {
    "nbpresent": {
     "id": "ea18ba5d-db41-410e-acb3-e869d38bf55f"
    },
    "slideshow": {
     "slide_type": "slide"
    }
   },
   "source": [
    "**8-Puzzle:** $\\Rightarrow$ Breadth-First-Algorithm\n",
    "<img src=\"https://maucher.home.hdm-stuttgart.de/Pics/8puzzleExample.png\" style=\"width:800px\" align=\"center\">"
   ]
  },
  {
   "cell_type": "markdown",
   "metadata": {
    "nbpresent": {
     "id": "4c07e06e-152d-45d3-b982-9fa198273c49"
    },
    "slideshow": {
     "slide_type": "slide"
    }
   },
   "source": [
    "**Boardgames (Chess)** $\\Rightarrow$ MinMax-Algorithm\n",
    "<img src=\"https://maucher.home.hdm-stuttgart.de/Pics/ibmDeepBlue.PNG\" style=\"width:400px\" align=\"center\">"
   ]
  },
  {
   "cell_type": "markdown",
   "metadata": {
    "nbpresent": {
     "id": "4f7ddd54-4849-4aae-801d-97f9879d2986"
    },
    "slideshow": {
     "slide_type": "slide"
    }
   },
   "source": [
    "**Go:** $\\Rightarrow$ Monte-Carlo-Tree-Search\n",
    "<img src=\"https://maucher.home.hdm-stuttgart.de/Pics/goGame.png\" style=\"width:500px\" align=\"center\">"
   ]
  },
  {
   "cell_type": "markdown",
   "metadata": {
    "slideshow": {
     "slide_type": "slide"
    }
   },
   "source": [
    "**Constraint Satisfaction Problem:**\n",
    "\n",
    "<div>\n",
    "    <img src=\"https://maucher.home.hdm-stuttgart.de/Pics/colormapTask.png\" style=\"width:400px\" align=\"left\">\n",
    "    <div style=\"padding-top: 80px\">\n",
    "        <p>Color regions with either red, green or blue,</p>\n",
    "        <p>such that no pair of neighboring regions have same color</p>\n",
    "    </div>\n",
    "</div>"
   ]
  },
  {
   "cell_type": "markdown",
   "metadata": {
    "nbpresent": {
     "id": "7e1ed761-f912-4e67-8f32-c3763d133d5c"
    },
    "slideshow": {
     "slide_type": "slide"
    }
   },
   "source": [
    "**Sudoku:** $\\Rightarrow$ Constraint-Satisfaction Problem (Backtracking)\n",
    "<img src=\"https://maucher.home.hdm-stuttgart.de/Pics/sudoku.gif\" style=\"width:500px\" align=\"center\">"
   ]
  },
  {
   "cell_type": "markdown",
   "metadata": {
    "nbpresent": {
     "id": "22e43558-7ea4-40ad-bd9d-ab57f21da3ce"
    },
    "slideshow": {
     "slide_type": "slide"
    }
   },
   "source": [
    "**General Logistics and Scheduling Problems:** $\\Rightarrow$ Constraint Satisfaction Problem / Genetic Algorithm\n",
    "<img src=\"https://maucher.home.hdm-stuttgart.de/Pics/genAlgLogistikLager.PNG\" style=\"width:600px\" align=\"center\">"
   ]
  },
  {
   "cell_type": "markdown",
   "metadata": {
    "nbpresent": {
     "id": "8ecb5561-f9bd-41c2-be30-e27247db5719"
    },
    "slideshow": {
     "slide_type": "slide"
    }
   },
   "source": [
    "**General Logistiks and Scheduling Problems:** $\\Rightarrow$ Constraint Satisfaction Problem / Genetic Algorithm\n",
    "<img src=\"https://maucher.home.hdm-stuttgart.de/Pics/genAlgLogistikPackung.PNG\" style=\"width:400px\" align=\"center\">"
   ]
  },
  {
   "cell_type": "markdown",
   "metadata": {
    "nbpresent": {
     "id": "567b804d-ed66-4049-af61-bbfda61b77e5"
    },
    "slideshow": {
     "slide_type": "slide"
    }
   },
   "source": [
    "## Requirements\n",
    "* The algorithms, discussed in this notebook require an environment, which is\n",
    "    * Fully observable\n",
    "    * Deterministic\n",
    "    * Static"
   ]
  },
  {
   "cell_type": "markdown",
   "metadata": {
    "nbpresent": {
     "id": "8d1e8fd9-fcc4-4ba5-8ba4-5cfb9081cdb5"
    },
    "slideshow": {
     "slide_type": "slide"
    }
   },
   "source": [
    "## Problem Specification\n",
    "For each problem, which shall be solved by an approach of this notebook, the following must be specified:\n",
    "* What is a **state**?\n",
    "* What is the initial state? What is the goal-state?\n",
    "* If initial- and/or goal- state is hard to define a **utility-function** may do the job\n",
    "* What is an **action**? Which actions are available in which states?\n",
    "* What are the **costs** of actions?\n",
    "* For heuristic algorithms: How to estimate the **utility** of an arbitrary state"
   ]
  },
  {
   "cell_type": "markdown",
   "metadata": {
    "nbpresent": {
     "id": "61517a34-8219-4991-9036-35c8767f4c93"
    },
    "slideshow": {
     "slide_type": "skip"
    }
   },
   "source": [
    "## Performance Metrics for Search- and Planning-Algorithms\n",
    "* **Completeness:** Algorithm guarantees to find a solution.\n",
    "* **Optimal:** Algorithm guarantees to find optimal solution.\n",
    "* **Complexity:** In terms of time and memory\n",
    "* **Global:** Solution is a path from intitial- to goal-state\n",
    "* **Local:** Solution is a good state"
   ]
  },
  {
   "cell_type": "markdown",
   "metadata": {
    "nbpresent": {
     "id": "143f0818-8c72-4c38-a809-f09770cfda95"
    },
    "slideshow": {
     "slide_type": "skip"
    }
   },
   "source": [
    "## Algorithm Categories\n",
    "* uninformed\n",
    "* heuristic (informed)\n",
    "* global \n",
    "* local \n",
    "* goal-based\n",
    "* utility-based"
   ]
  },
  {
   "cell_type": "markdown",
   "metadata": {
    "nbpresent": {
     "id": "2fbe02b8-6e3e-4f8d-b03e-2b112e9bf381"
    },
    "slideshow": {
     "slide_type": "slide"
    }
   },
   "source": [
    "## Global, Uninformed Search\n",
    "\n",
    "Find solution by construction of search-tree from current-state to goal-state\n",
    "* Breadth-First\n",
    "* Depth-First\n",
    "* Uniform Cost Search"
   ]
  },
  {
   "cell_type": "markdown",
   "metadata": {
    "slideshow": {
     "slide_type": "slide"
    }
   },
   "source": [
    "**Example: 8-puzzle**\n",
    "\n",
    "Initial State:\n",
    "\n",
    "|       |       |       |\n",
    "|  -    |   -   |   -   |\n",
    "| 4 \t| 1 \t| 2 \t|\n",
    "| 7 \t| e \t| 3 \t|\n",
    "| 8\t    | 5 \t| 6 \t|\n",
    "\n",
    "Goal State:\n",
    "\n",
    "\n",
    "|       |       |       |\n",
    "|  -    |   -   |   -   |\n",
    "| 1 \t| 2 \t| 3 \t|\n",
    "| 4 \t| 5 \t| 6 \t|\n",
    "| 7 \t| 8 \t| e \t|"
   ]
  },
  {
   "cell_type": "markdown",
   "metadata": {
    "nbpresent": {
     "id": "95ab7764-6634-46e3-bd07-a99a8e419df7"
    },
    "slideshow": {
     "slide_type": "slide"
    }
   },
   "source": [
    "### Breadth-First\n",
    "<img src=\"https://maucher.home.hdm-stuttgart.de/Pics/breadthfirst.png\" style=\"width:900px\" align=\"center\">"
   ]
  },
  {
   "cell_type": "markdown",
   "metadata": {
    "nbpresent": {
     "id": "401af0df-5757-46b4-bfe9-be9fa9e0347a"
    },
    "slideshow": {
     "slide_type": "skip"
    }
   },
   "source": [
    "1. Start from the initial node\n",
    "2. Expand node by applying all available actions of this state and obtain the corresponding sucessor states.\n",
    "3. Select next state to expand, which is <font color=\"red\">the topmost not yet expanded node</font>.\n",
    "4. `If` the selected node is the **goal-state**: \n",
    "    Terminate and return path from initial- to goal-state\n",
    "    \n",
    "   `Else`: Continue with step 2\n"
   ]
  },
  {
   "cell_type": "markdown",
   "metadata": {
    "nbpresent": {
     "id": "a8cf6363-673f-45cc-953f-724c21e16b29"
    },
    "slideshow": {
     "slide_type": "slide"
    }
   },
   "source": [
    "### Depth-First\n",
    "\n",
    "<img src=\"https://maucher.home.hdm-stuttgart.de/Pics/depthfirst.png\"  width=\"500\" align=\"center\">"
   ]
  },
  {
   "cell_type": "markdown",
   "metadata": {
    "nbpresent": {
     "id": "5c3af13a-aaa6-4ba7-ae28-09769fbbcd89"
    },
    "slideshow": {
     "slide_type": "skip"
    }
   },
   "source": [
    "1. Start from the initial node\n",
    "2. Expand node by applying all available actions of this state and obtain the corresponding sucessor states.\n",
    "3. Select next state to expand, which is <font color=\"red\">the deepest not yet expanded node</font>.\n",
    "4. `If` the selected node is the **goal-state**: \n",
    "    Terminate and return path from initial- to goal-state\n",
    "    \n",
    "   `Else`: Continue with step 2\n"
   ]
  },
  {
   "cell_type": "markdown",
   "metadata": {
    "nbpresent": {
     "id": "28861f47-6ec6-44ba-ab83-eea23904d558"
    },
    "slideshow": {
     "slide_type": "skip"
    }
   },
   "source": [
    "### Uniform Cost search\n",
    "1. Start from the initial node\n",
    "2. Expand node by applying all available actions of this state and obtain the corresponding sucessor states.\n",
    "3. Select next state to expand, which is <font color=\"red\">the not yet expanded node, with the lowest accumulated costs</font>.\n",
    "4. `If` the selected node is the **goal-state**: \n",
    "    Terminate and return path from initial- to goal-state\n",
    "    \n",
    "   `Else`: Continue with step 2"
   ]
  },
  {
   "cell_type": "markdown",
   "metadata": {
    "nbpresent": {
     "id": "e49e8ec2-8930-4738-bb70-80c11dfa860f"
    },
    "slideshow": {
     "slide_type": "skip"
    }
   },
   "source": [
    "## Heuristic Search\n",
    "* A* algorithm\n",
    "* Find solution by construction of search-tree from current-state to goal-state \n",
    "* *Which node shall be expanded next?* regards not only previous costs, but also **estimated Costs to Goal**."
   ]
  },
  {
   "cell_type": "markdown",
   "metadata": {
    "nbpresent": {
     "id": "de48cf5d-d0a0-46fb-a08b-547ac39b2ead"
    },
    "slideshow": {
     "slide_type": "skip"
    }
   },
   "source": [
    "### A*-Algorithm\n",
    "<img src=\"https://maucher.home.hdm-stuttgart.de/Pics/8puzzleAstern.png\" style=\"width:700px\" align=\"center\">"
   ]
  },
  {
   "cell_type": "markdown",
   "metadata": {
    "nbpresent": {
     "id": "cd4f8d54-5b6b-495b-941e-457772bcb45d"
    },
    "slideshow": {
     "slide_type": "skip"
    }
   },
   "source": [
    "1. Start from the initial node\n",
    "2. Expand node by applying all available actions of this state and obtain the corresponding sucessor states.\n",
    "3. Select next state to expand, which is <font color=\"red\">the not yet expanded node, with the lowest value of *costs + heuristic*</font>.\n",
    "4. `If` the selected node is the **goal-state**: \n",
    "    Terminate and return path from initial- to goal-state\n",
    "    \n",
    "   `Else`: Continue with step 2"
   ]
  },
  {
   "cell_type": "markdown",
   "metadata": {
    "nbpresent": {
     "id": "e79e2e20-c50d-4928-92e8-4a7c9758c9a2"
    },
    "slideshow": {
     "slide_type": "slide"
    }
   },
   "source": [
    "## 2-Player Games\n",
    "The algorithm described in this section is applicable for all games with the following characteristics:\n",
    "- 2 players\n",
    "- fully observable\n",
    "- deterministic\n",
    "- Zero-Sum\n",
    "\n",
    "**Examples:** Checkers, Chess, Go, Reversi, Backgammon, ..."
   ]
  },
  {
   "cell_type": "markdown",
   "metadata": {
    "nbpresent": {
     "id": "90c5de98-efa1-44f9-861f-9f43a50b461b"
    },
    "slideshow": {
     "slide_type": "slide"
    }
   },
   "source": [
    "### MinMax-Algorithm\n",
    "**Evaluation of states in level $L$ (planning horizon)**\n",
    "<img src=\"https://maucher.home.hdm-stuttgart.de/Pics/tree-0.png\" style=\"width:900px\" align=\"center\">"
   ]
  },
  {
   "cell_type": "markdown",
   "metadata": {
    "nbpresent": {
     "id": "c0533585-4144-4804-be70-0f9b67267bee"
    },
    "slideshow": {
     "slide_type": "skip"
    }
   },
   "source": [
    "* Root node of the tree is the current state of the game. Player **Max** is in turn.\n",
    "* **Max** has two possible actions, the corresponding successor states are the states for which the other player, **Min**, must find a good action.\n",
    "* In each of the two states in **Min's** level 2 actions are available. Again all successor states can be generated for the next level, which belongs to **Max**\n",
    "* ...\n",
    "\n",
    "In this way a tree can be calculated down to a level $L$. This level $L$ constitutes the *planning horizon* and depends on the affordable complexity.\n",
    "\n",
    "Once all nodes in level $L$ are generated a **utility function** is applied to all states in this level. \n",
    "\n",
    "If level $L-1$ belongs to **Min** he will choose in each state the action, which leads to a successor of minimum utility - since minimum utility for **Max** is maximum utility of **Min**. Therefore, to each node in level $L-1$, the minimum utility of it's successor nodes is assigned.\n",
    "\n",
    "In the same way to each node in level $L-2$, the maximum utility of it's successor nodes in level $L-1$ is assigned.\n",
    "\n",
    "This process is repeated up to the root node. Player **Max** then knows his next action: The one, which yields to a successor with maximum utility-value."
   ]
  },
  {
   "cell_type": "markdown",
   "metadata": {
    "nbpresent": {
     "id": "aeaf51e8-8395-42e4-8cb0-8de33862f44c"
    },
    "slideshow": {
     "slide_type": "slide"
    }
   },
   "source": [
    "**Player Min selects actions to nodes with minimum utility for Player Max:**\n",
    "<img src=\"https://maucher.home.hdm-stuttgart.de/Pics/tree-1.png\" style=\"width:900px\" align=\"center\">"
   ]
  },
  {
   "cell_type": "markdown",
   "metadata": {
    "nbpresent": {
     "id": "b8556324-cdd9-4706-bccf-d5fbb91185e9"
    },
    "slideshow": {
     "slide_type": "slide"
    }
   },
   "source": [
    "**Player Max selects actions to nodes with maximum utility:**\n",
    "<img src=\"https://maucher.home.hdm-stuttgart.de/Pics/tree-2.png\" style=\"width:900px\" align=\"center\">"
   ]
  },
  {
   "cell_type": "markdown",
   "metadata": {
    "nbpresent": {
     "id": "9746f9b6-ac2a-4600-9c5d-166a909619de"
    },
    "slideshow": {
     "slide_type": "slide"
    }
   },
   "source": [
    "**Player Min selects actions to nodes with minimum utility for Player Max:**\n",
    "<img src=\"https://maucher.home.hdm-stuttgart.de/Pics/tree-3.png\" style=\"width:900px\" align=\"center\">"
   ]
  },
  {
   "cell_type": "markdown",
   "metadata": {
    "nbpresent": {
     "id": "044e45d2-25ce-4b12-b8e1-ecc794c218d5"
    },
    "slideshow": {
     "slide_type": "slide"
    }
   },
   "source": [
    "**Player Max selects actions to nodes with maximum utility:**\n",
    "<img src=\"https://maucher.home.hdm-stuttgart.de/Pics/tree-4.png\" style=\"width:900px\" align=\"center\">"
   ]
  },
  {
   "cell_type": "markdown",
   "metadata": {
    "slideshow": {
     "slide_type": "slide"
    }
   },
   "source": [
    "<img src=\"https://maucher.home.hdm-stuttgart.de/Pics/tttBewertet2.PNG\" style=\"width:800px\" align=\"center\">"
   ]
  },
  {
   "cell_type": "markdown",
   "metadata": {
    "nbpresent": {
     "id": "b7f2897f-d4f3-423e-9621-aea7004a21eb"
    },
    "slideshow": {
     "slide_type": "skip"
    }
   },
   "source": [
    "## Monte-Carlo Tree Search\n",
    "* The concept of a <font color=\"red\">limited planning horizon</font>, as applied in the Min/Max-algorithm is one way to handle complex problems, which can not be planned to the goal-state in one step.\n",
    "* Another concept is to construct a tree until a final state in such a way that in each state only <font color=\"red\"> promising actions </font> and corresponding successors are generated. This concept is applied by <font color=\"red\"> Monte Carlo Tree Search </font>."
   ]
  },
  {
   "cell_type": "markdown",
   "metadata": {
    "nbpresent": {
     "id": "fabfab7a-b32e-4876-bb0e-287e944d599a"
    },
    "slideshow": {
     "slide_type": "skip"
    }
   },
   "source": [
    "**Monte-Carlo Tree Search:**\n",
    "\n",
    "<img src=\"https://maucher.home.hdm-stuttgart.de/Pics/mcts.png\" style=\"width:800px\" align=\"center\">"
   ]
  },
  {
   "cell_type": "markdown",
   "metadata": {
    "nbpresent": {
     "id": "0d34aeb7-6a38-4a5b-a801-b3d069e78d07"
    },
    "slideshow": {
     "slide_type": "skip"
    }
   },
   "source": [
    "**Monte Carlo Tree Search:**\n",
    "\n",
    "* **Selection:** Starting from the root node, apply *Tree Policy* in order to select next action. Tree Policy exploits node-statistics\n",
    "* **Expansion:** In a leaf-node select an arbitrary action and generate the corresponding new child-node.\n",
    "* **Simulation:** Simulate the game, starting from the new child-node. Action-Selection during simulation according to *Default Policy*, e.g.:\n",
    "    - Randomly (Pure Monte Carlo)\n",
    "    - Favor actions with higher estimated chance of success, if corresponding heuristics are available.\n",
    "    \n",
    "* At the end of each simulation: Game is won or lost.\n",
    "* **Backpropagation:** Adapt node-statistics of all nodes in tree, starting from the leaf-node of previous simulation.\n",
    "\n",
    "If the computational budget is reached MCTS returns with the best action a for the given root node."
   ]
  },
  {
   "cell_type": "markdown",
   "metadata": {
    "nbpresent": {
     "id": "89527265-c1df-49c3-a727-d183500218a1"
    },
    "slideshow": {
     "slide_type": "skip"
    }
   },
   "source": [
    "**Characteristics of MCTS:**\n",
    "* Applicable even for games with very large branching factor\n",
    "* Basic Algorithm easy to implement\n",
    "* Configurable stop-time (Longer time yields better game play)\n",
    "* **Doesn’t require domain knowledge**"
   ]
  },
  {
   "cell_type": "markdown",
   "metadata": {
    "nbpresent": {
     "id": "0399c7cc-a1fd-49b4-9eae-e131b239e990"
    },
    "slideshow": {
     "slide_type": "skip"
    }
   },
   "source": [
    "## AlphaGo and AlphaZero\n",
    "* AlphaGo is MCTS, which applies (Deep) Neural Networks in order to calculate good heuristics for\n",
    "- the next action to choose in the selection-phase\n",
    "- which leaf-node to extend in the expansion phase\n",
    "- which actions to choose in the simulation phase\n",
    "* In AlphaGo the networks for the heuristics in the selection- and the simulation-phase are trained from expert-moves\n",
    "* In AlphaZero no Domain-knowledge (database of expert moves) is required."
   ]
  },
  {
   "cell_type": "markdown",
   "metadata": {
    "nbpresent": {
     "id": "509e19c3-ee22-4fa0-b27e-e7d91efea876"
    },
    "slideshow": {
     "slide_type": "skip"
    }
   },
   "source": [
    "## Constraint Satisfaction Problems (CSP)"
   ]
  },
  {
   "cell_type": "markdown",
   "metadata": {
    "nbpresent": {
     "id": "2d93da70-7223-43a4-8df5-40cbd25a2b64"
    },
    "slideshow": {
     "slide_type": "skip"
    }
   },
   "source": [
    "### Problem Specification\n",
    "* Set of <font color=\"red\">variables</font>:\n",
    "\n",
    "$$\n",
    "\\mathcal{X}=\\lbrace X_1, X_2, \\ldots,X_n \\rbrace\n",
    "$$\n",
    "\n",
    "* <font color=\"red\">Domain $D_i$</font> of a variable $X_i$ is the set of possible values for $X_i$. \n",
    "* Set of <font color=\"red\">constraints</font>:\n",
    "\n",
    "$$\n",
    "\\mathcal{C}=\\lbrace C_1, C_2,, \\ldots,C_m \\rbrace\n",
    "$$\n",
    "\n",
    "* Each constraint refers to a set of variables from $\\mathcal{X}$"
   ]
  },
  {
   "cell_type": "markdown",
   "metadata": {
    "nbpresent": {
     "id": "8c2258ae-bc81-4bd7-b7cd-d9a269b64c2e"
    },
    "slideshow": {
     "slide_type": "skip"
    }
   },
   "source": [
    "**Problem Specification** (continued):\n",
    "\n",
    "* <font color=\"red\">State</font> is a concrete assignment of values to a set of variables from $\\mathcal{X}$\n",
    "* An assignment of values, which does not violate any constraint is called <font color=\"red\">consistent</font>.\n",
    "* <font color=\"red\">Complete Assignment:</font> If values are assigned to all variables\n",
    "* <font color=\"red\">Solution of CSP</font>: If a complete assignment is consistent.\n",
    "* Sometimes solutions that <font color=\"red\">maximize a utility function</font> are required.\n",
    "\\end{itemize}"
   ]
  },
  {
   "cell_type": "markdown",
   "metadata": {
    "nbpresent": {
     "id": "3b0f1efd-7f9d-4f65-aca8-9a0a0efa1e0b"
    },
    "slideshow": {
     "slide_type": "skip"
    }
   },
   "source": [
    "### Backtracking Algorithm\n",
    "* Backtracking is a variant of deep-first-search, which assigns in each level values to only one variable.\n",
    "* Values are assigned to variables such that assignment is consistent\n",
    "* Target test: Check if assignment is complete and consistent"
   ]
  },
  {
   "cell_type": "markdown",
   "metadata": {
    "nbpresent": {
     "id": "a4fd88cc-6326-4b04-a198-e3cd2b538103"
    },
    "slideshow": {
     "slide_type": "slide"
    }
   },
   "source": [
    "## Local Search / Optimisation Algorithms"
   ]
  },
  {
   "cell_type": "markdown",
   "metadata": {
    "nbpresent": {
     "id": "69b0bedd-0073-4e64-9dca-392c6efc019d"
    },
    "slideshow": {
     "slide_type": "slide"
    }
   },
   "source": [
    "### Genetic Algorithm\n",
    "* Realizes concept of Darwin's Theory of Evolution\n",
    "    - **Population of individuals**\n",
    "    - Individuals are **selected** (randomly). \n",
    "    - Selection probability depends on **fitness** of individuals \n",
    "    - Selected individuals generate new individuals by **crossover** (randomly)\n",
    "    - There may be random **mutations** in new individuals\n",
    "    - Each individual has a fitness\n",
    "    - **Only the fittest survive**"
   ]
  },
  {
   "cell_type": "markdown",
   "metadata": {
    "nbpresent": {
     "id": "10ecb957-1266-49f0-8fa7-2c5f0e5cc811"
    },
    "slideshow": {
     "slide_type": "slide"
    }
   },
   "source": [
    "\n",
    "<img src=\"https://maucher.home.hdm-stuttgart.de/Pics/AblaufGenAlgEng.png\" style=\"width:200px\" align=\"center\">\n"
   ]
  },
  {
   "cell_type": "markdown",
   "metadata": {
    "nbpresent": {
     "id": "7e8cc755-d834-4a41-9397-ef8621c8e233"
    },
    "slideshow": {
     "slide_type": "slide"
    }
   },
   "source": [
    "\n",
    "<img src=\"https://maucher.home.hdm-stuttgart.de/Pics/GeneticAlg.png\" style=\"width:800px\" align=\"center\">\n"
   ]
  },
  {
   "cell_type": "markdown",
   "metadata": {
    "nbpresent": {
     "id": "98cc6904-27d3-4b0c-9cb5-f95b56da531a"
    },
    "slideshow": {
     "slide_type": "slide"
    }
   },
   "source": [
    "### Problem Specification:\n",
    "* What is an individual (a *state*)?\n",
    "* Define random selection\n",
    "* Define function for crossover\n",
    "* Define function for mutation\n",
    "* Define fitness-function"
   ]
  },
  {
   "cell_type": "markdown",
   "metadata": {
    "nbpresent": {
     "id": "48c9ab60-3c4f-4335-aef2-c55c849fbb71"
    },
    "slideshow": {
     "slide_type": "slide"
    }
   },
   "source": [
    "### Applications\n",
    "* Genetic Algorithms are applied for a wide range of search- and optimisation problems.\n",
    "* Examples:\n",
    "    - Best solution in the Daimler container packing project\n",
    "    - Wireless Network optimisation\n",
    "    - Neural network optimisation\n",
    "    - Logistik and Scheduling problems of all types\n",
    "    - Find optimal parameters for complex control systems (motor-control)\n",
    "    - Gaming AI\n",
    "        - Evolution of artificial agents\n",
    "        - Procedural Content Generation\n",
    "    - [Traveling Salesman Problem](https://www.hdm-stuttgart.de/~maucher/Python/FunktionenAlgorithmen/html/genAlgTSP.html)\n",
    "    - [Vehicle Configuration Demo](http://rednuht.org/genetic_cars_2/)."
   ]
  }
 ],
 "metadata": {
  "celltoolbar": "Slideshow",
  "kernelspec": {
   "display_name": "Python 3",
   "language": "python",
   "name": "python3"
  },
  "language_info": {
   "codemirror_mode": {
    "name": "ipython",
    "version": 3
   },
   "file_extension": ".py",
   "mimetype": "text/x-python",
   "name": "python",
   "nbconvert_exporter": "python",
   "pygments_lexer": "ipython3",
   "version": "3.7.5"
  },
  "nav_menu": {},
  "toc": {
   "base_numbering": 1,
   "nav_menu": {},
   "number_sections": true,
   "sideBar": true,
   "skip_h1_title": false,
   "title_cell": "Table of Contents",
   "title_sidebar": "Contents",
   "toc_cell": false,
   "toc_position": {},
   "toc_section_display": true,
   "toc_window_display": false
  }
 },
 "nbformat": 4,
 "nbformat_minor": 2
}