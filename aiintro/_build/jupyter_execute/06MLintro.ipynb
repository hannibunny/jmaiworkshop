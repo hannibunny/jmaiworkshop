{
 "cells": [
  {
   "cell_type": "markdown",
   "metadata": {
    "slideshow": {
     "slide_type": "slide"
    }
   },
   "source": [
    "# Machine Learning: Introduction\n",
    "\n",
    "* Author: Johannes Maucher\n",
    "* Last Update: 12.10.2020"
   ]
  },
  {
   "cell_type": "markdown",
   "metadata": {
    "slideshow": {
     "slide_type": "slide"
    }
   },
   "source": [
    "## Definition\n",
    "**Definition by Tom Mitchell:**\n",
    "*A computer program is said to learn from <font color=\"red\">experience E</font> with respect to some class of <font color=\"red\">tasks T</font> and <font color=\"red\">performance measure P</font> if its performance at tasks in T, as measured by P, improves with experience E.*"
   ]
  },
  {
   "cell_type": "markdown",
   "metadata": {
    "slideshow": {
     "slide_type": "skip"
    }
   },
   "source": [
    "Similar as the definition of *rational Agents* for AI in general, this definition of Machine Learning defines a practical guideline to start any new project in this field: At the very beginning of each new project in this field specify the task T, the performance measure P and the experience E. For some applications some of these elements may be trivial, but sometimes it can be very challenging. E.g. what is the performance measure for a recommender system? "
   ]
  },
  {
   "cell_type": "markdown",
   "metadata": {
    "slideshow": {
     "slide_type": "slide"
    }
   },
   "source": [
    "## Categories of Machine Learning\n",
    "<img src=\"http://maucher.home.hdm-stuttgart.de/Pics/mlCategories.png\" style=\"width:800px\" align=\"center\">"
   ]
  },
  {
   "cell_type": "markdown",
   "metadata": {
    "slideshow": {
     "slide_type": "skip"
    }
   },
   "source": [
    "The field of Machine Learning is usually categorized with respect to two dimensions: The first dimension is the question *What shall be learned?* and the second asks for *How shall be learned?*. The resulting 2-dimensional matrix is depicted above.\n",
    "\n",
    "On an abstract level there exist 4 answers on the first question. One can either learn \n",
    "\n",
    "* **a classifier**, e.g. object recognition, spam-filter, Intrusion detection, ...\n",
    "* **a regression-model**, e.g. time-series prediction, like weather- or stock-price forecasts, range-prediction for electric vehicles, estimation of product-quantities, ...\n",
    "* **associations between instances**, e.g. document clustering, customer-grouping, quantisation problems, automatic playlist-generation, ....\n",
    "* **associations between features**, e.g. market basket analysis (customer who buy cheese, also buy wine, ...)\n",
    "* **strategie**, e.g. for automatic driving or games "
   ]
  },
  {
   "cell_type": "markdown",
   "metadata": {
    "slideshow": {
     "slide_type": "slide"
    }
   },
   "source": [
    "![ClassificationRegression](http://maucher.home.hdm-stuttgart.de/Pics/classReg.PNG)"
   ]
  },
  {
   "cell_type": "markdown",
   "metadata": {
    "slideshow": {
     "slide_type": "skip"
    }
   },
   "source": [
    "On the 2nd dimension, which asks for *How to learn?*, the answers are:\n",
    "\n",
    "* **supervised learning:** This category requires a *teacher* who provides labels (target-values) for each training-element. For example in face-recognition the teacher most label the inputs (pictures of faces) with the name of the corresponding persons. In general labeling is expensive and labeled data is scarce. \n",
    "* **unsupervised learning:** In this case training data consists only of inputs - no teacher is required for labeling. For example pictures can be clustered, such that similar pictures are assigned to the same group.\n",
    "* **Reinforcement learning:** In this type no teacher who lables each input-instance is available. However, there is a critics-element, which provides feedback from time-to-time. For example an intelligent agent in a computer game maps each input state to a corresponding action. Only after a possibly long sequence of actions the agent gets feedback in form of an increasing/decreasing High-Score.  "
   ]
  },
  {
   "cell_type": "markdown",
   "metadata": {
    "slideshow": {
     "slide_type": "slide"
    }
   },
   "source": [
    "### Supervised Learning\n",
    "<img src=\"http://maucher.home.hdm-stuttgart.de/Pics/introExampleLearning.png\" style=\"width:800px\" align=\"center\">"
   ]
  },
  {
   "cell_type": "markdown",
   "metadata": {
    "slideshow": {
     "slide_type": "slide"
    }
   },
   "source": [
    "**Apply Learned Modell:**\n",
    "<img src=\"http://maucher.home.hdm-stuttgart.de/Pics/introExampleLearningApply.png\" style=\"width:800px\" align=\"center\">"
   ]
  },
  {
   "cell_type": "markdown",
   "metadata": {
    "slideshow": {
     "slide_type": "slide"
    }
   },
   "source": [
    "### Unsupervised Learning\n",
    "<img src=\"http://maucher.home.hdm-stuttgart.de/Pics/introExampleLearningUnsupervised.png\" style=\"width:800px\" align=\"center\">"
   ]
  },
  {
   "cell_type": "markdown",
   "metadata": {
    "slideshow": {
     "slide_type": "slide"
    }
   },
   "source": [
    "**Apply learned Model:**\n",
    "<img src=\"http://maucher.home.hdm-stuttgart.de/Pics/introExampleLearningUnsupervisedApply.png\" style=\"width:800px\" align=\"center\">"
   ]
  },
  {
   "cell_type": "markdown",
   "metadata": {
    "slideshow": {
     "slide_type": "slide"
    }
   },
   "source": [
    "### Reinforcement Learning\n",
    "<img src=\"https://maucher.home.hdm-stuttgart.de/Pics/bogenschiessen.jpg\" style=\"width:500px\" align=\"center\">"
   ]
  },
  {
   "cell_type": "markdown",
   "metadata": {
    "slideshow": {
     "slide_type": "slide"
    }
   },
   "source": [
    "## Categorization on Application-Level\n",
    "<img src=\"http://maucher.home.hdm-stuttgart.de/Pics/MLapplicationCategories.png\" style=\"width:800px\" align=\"center\">"
   ]
  },
  {
   "cell_type": "markdown",
   "metadata": {
    "slideshow": {
     "slide_type": "slide"
    }
   },
   "source": [
    "## General Process- and Datascheme"
   ]
  },
  {
   "cell_type": "markdown",
   "metadata": {
    "slideshow": {
     "slide_type": "slide"
    }
   },
   "source": [
    "### Training- and Operation Mode\n",
    "<img src=\"http://maucher.home.hdm-stuttgart.de/Pics/SupervisedLearningSchemaEnglish.png\" style=\"width:700px\" align=\"center\">"
   ]
  },
  {
   "cell_type": "markdown",
   "metadata": {
    "ExecuteTime": {
     "end_time": "2018-03-08T14:58:41.900122Z",
     "start_time": "2018-03-08T14:58:41.894560Z"
    },
    "slideshow": {
     "slide_type": "slide"
    }
   },
   "source": [
    "### Validation\n",
    "<img src=\"http://maucher.home.hdm-stuttgart.de/Pics/SupervisedLearningSchemaValidation.png\" style=\"width:700px\" align=\"center\">"
   ]
  },
  {
   "cell_type": "markdown",
   "metadata": {
    "slideshow": {
     "slide_type": "skip"
    }
   },
   "source": [
    "In Machine Learning one distinguishes  \n",
    "* training-mode, \n",
    "* validation-mode \n",
    "* operational mode.\n",
    "\n",
    "In the training phase training-data is applied to learn a general model. The model either describes the structure of the training data (in the case of unsupervised learning) or a function, which maps input-data to outputs. Once this model is learned it can be applied in the operational phase to map new input-instances to output values (classes-index, cluster-index or numeric function-value). Before applying a learned model in operation it must be validated. In the case of supervised learning validation compares for all test-data the output of the model with the target output. This means that testing also requires labeled data. Test-data and training-data must be disjoint.\n",
    "\n",
    "As shown in the picture above, usually the available data can not be passed directly to the machine-learning algorithm. Instead it must be processed in order to transform it to a corresponding format and to extract meaningful features. The usual formal, accepted by all machine-learning algorithms is a 2-dimensional array, whose rows are the instances (e.g. documents, images, customers, ...) and whose columns are the features, which describe the instances (e.g. words, pixels, bought products, ...): \n",
    "\n"
   ]
  },
  {
   "cell_type": "markdown",
   "metadata": {
    "ExecuteTime": {
     "end_time": "2018-03-08T15:00:45.233080Z",
     "start_time": "2018-03-08T15:00:45.227118Z"
    },
    "slideshow": {
     "slide_type": "slide"
    }
   },
   "source": [
    "### Data Structure\n",
    "<img src=\"http://maucher.home.hdm-stuttgart.de/Pics/dataMatrix.png\" style=\"width:700px\" align=\"center\">"
   ]
  },
  {
   "cell_type": "markdown",
   "metadata": {
    "slideshow": {
     "slide_type": "slide"
    }
   },
   "source": [
    "## Machine Learning in the context of Data Mining\n",
    "![Crisp](http://maucher.home.hdm-stuttgart.de/Pics/crispIndall.png)"
   ]
  },
  {
   "cell_type": "markdown",
   "metadata": {
    "slideshow": {
     "slide_type": "skip"
    }
   },
   "source": [
    "Data Mining is maybe the most frequent application of Machine Learning. Therefore the entire data mining process, which applies Machine Learning for *Modeling* is sketched here:\n",
    "\n",
    "The **Cross-industry standard process for data mining (CRISP)** proposes a common approach for realizing data mining projects. This approach is sketched in the picture above.\n",
    "\n",
    "\n",
    "In the first phase of CRISP the overall business-case, which shall be supported by the data mining process must be clearly defined and understood. Then the goal of the data mining project itself must be defined. This includes the specification of metrics for measuring the performance of the data mining project. \n",
    "\n",
    "In the second phase data must be gathered, accessed, understood and described. Quantitiy and qualitity of the data must be assessed on a high-level. \n",
    "\n",
    "In the third phase data must be investigated and understood more thoroughly. Common means for understanding data are e.g. visualization and the calculation of simple statistics. Outliers must be detected and processed, sampling rates must be determined, features must be selected and eventually be transformed to other formats.  \n",
    "\n",
    "In the modeling phase various algorithms and their hyperparameters are selected and applied. Their performance on the given data is determined in the evaluation phase. \n",
    "\n",
    "The output of the evaluation is usually fed back to the first phases (business- and data-understanding). Applying this feedback the techniques in the overall process are adapted and optimized. Usually only after several iterations of this process the evaluation yields good results and the project can be deployed."
   ]
  },
  {
   "cell_type": "markdown",
   "metadata": {
    "slideshow": {
     "slide_type": "slide"
    }
   },
   "source": [
    "## Machine Learning Applications\n",
    "\n",
    "**Almost all of the applications in the [Introduction](01Introduction.ipynb) are Machine Learning applications**"
   ]
  },
  {
   "cell_type": "code",
   "execution_count": null,
   "metadata": {},
   "outputs": [],
   "source": []
  }
 ],
 "metadata": {
  "celltoolbar": "Slideshow",
  "kernelspec": {
   "display_name": "Python 3",
   "language": "python",
   "name": "python3"
  },
  "language_info": {
   "codemirror_mode": {
    "name": "ipython",
    "version": 3
   },
   "file_extension": ".py",
   "mimetype": "text/x-python",
   "name": "python",
   "nbconvert_exporter": "python",
   "pygments_lexer": "ipython3",
   "version": "3.7.5"
  },
  "toc": {
   "base_numbering": 1,
   "nav_menu": {},
   "number_sections": true,
   "sideBar": true,
   "skip_h1_title": false,
   "title_cell": "Table of Contents",
   "title_sidebar": "Contents",
   "toc_cell": false,
   "toc_position": {},
   "toc_section_display": true,
   "toc_window_display": true
  }
 },
 "nbformat": 4,
 "nbformat_minor": 2
}