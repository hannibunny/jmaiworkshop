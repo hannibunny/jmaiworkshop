{
 "cells": [
  {
   "cell_type": "markdown",
   "metadata": {
    "slideshow": {
     "slide_type": "slide"
    }
   },
   "source": [
    "# Knowledge-based Systems\n",
    "* Author: Johannes Maucher\n",
    "* Last update: 09.11.2022"
   ]
  },
  {
   "cell_type": "markdown",
   "metadata": {
    "slideshow": {
     "slide_type": "slide"
    }
   },
   "source": [
    "![agentKnowledge.png](https://maucher.home.hdm-stuttgart.de/Pics/agentKnowledge.png)"
   ]
  },
  {
   "cell_type": "markdown",
   "metadata": {
    "slideshow": {
     "slide_type": "slide"
    }
   },
   "source": [
    "* Knowledge-based Agents shall provide answers to (complex) questions\n",
    "* They are known e.g. as <font color=\"red\"> Expert systems </font>, e.g. for\n",
    "    - medical diagnosis\n",
    "    - technical diagnosis\n",
    "* IBM's <font color = \"red\">Watson</font> is a famous knowledge based agent\n",
    "* Another (fading) popular form of a Knowledge-based Agent is the <font color = \"red\">Semantic Web</font>\n",
    "* More pragmatic:\n",
    "    - Google's knowledge graph\n",
    "    - DBPedia\n",
    "    "
   ]
  },
  {
   "cell_type": "markdown",
   "metadata": {
    "slideshow": {
     "slide_type": "slide"
    }
   },
   "source": [
    "One of the most famous definitions of AI, the **Turing Test** addresses primarily a Knowledge-based agent: \n",
    "<img src=\"https://maucher.home.hdm-stuttgart.de/Pics/turingtest.jpg\" style=\"width:400px\" align=\"center\">"
   ]
  },
  {
   "cell_type": "markdown",
   "metadata": {
    "slideshow": {
     "slide_type": "slide"
    }
   },
   "source": [
    "## Expert Systems\n",
    "<img src=\"https://maucher.home.hdm-stuttgart.de/Pics/expertSystem.png\" style=\"width:500px\" align=\"center\">"
   ]
  },
  {
   "cell_type": "markdown",
   "metadata": {},
   "source": [
    "**IBM Watson:**\n",
    "\n",
    "<img src=\"https://maucher.home.hdm-stuttgart.de/Pics/ibmWatson1.PNG\" style=\"width:500px\" align=\"center\">"
   ]
  },
  {
   "cell_type": "markdown",
   "metadata": {},
   "source": [
    "## Reasoning\n",
    "\n",
    "<img src=\"https://maucher.home.hdm-stuttgart.de/Pics/Reasoning.png\" style=\"width:500px\" align=\"center\">\n",
    "\n"
   ]
  },
  {
   "cell_type": "markdown",
   "metadata": {
    "slideshow": {
     "slide_type": "slide"
    }
   },
   "source": [
    "## General Concept\n",
    "1. <font color=\"red\">Transform</font> unstructured Data into structured form\n",
    "2. Store  <font color=\"red\">knowledge in structured form </font> in database\n",
    "3. Represent  <font color=\"red\">queries</font> in structured form\n",
    "3.  <font color=\"red\">Inference-methods</font> have to generate answers to the queries  "
   ]
  },
  {
   "cell_type": "markdown",
   "metadata": {
    "slideshow": {
     "slide_type": "slide"
    }
   },
   "source": [
    "**Former approaches:**\n",
    "* Use propositional logic, first-order-logic or some dialect thereof to formally represent knowledge and infere (PROLOG).\n",
    "* Drawbacks:\n",
    "    - doesn't scale\n",
    "    - logic knows only `True` and `False`\n",
    "    \n",
    "**More recent approaches:**\n",
    "* Knowledge Graphs\n",
    "* Bayesian Networks"
   ]
  },
  {
   "cell_type": "markdown",
   "metadata": {
    "slideshow": {
     "slide_type": "slide"
    }
   },
   "source": [
    "## Knowledge Graphs\n",
    "<img src=\"https://maucher.home.hdm-stuttgart.de/Pics/googleKnowledgeGraph.PNG\" style=\"width:600px\" align=\"center\">"
   ]
  },
  {
   "cell_type": "markdown",
   "metadata": {},
   "source": [
    "* Google Knowledge Graph is the semantic database of Google\n",
    "* Used e.g. in the boxes next to the google search results"
   ]
  },
  {
   "cell_type": "markdown",
   "metadata": {
    "slideshow": {
     "slide_type": "slide"
    }
   },
   "source": [
    "**Knowledge Graph:**\n",
    "<img src=\"https://maucher.home.hdm-stuttgart.de/Pics/googleQueryLeonardo.PNG\" style=\"width:600px\" align=\"center\">"
   ]
  },
  {
   "cell_type": "markdown",
   "metadata": {
    "slideshow": {
     "slide_type": "slide"
    }
   },
   "source": [
    "**Knowledge Graph:**\n",
    "<img src=\"https://maucher.home.hdm-stuttgart.de/Pics/knowledge-graph.png\" style=\"width:800px\" align=\"center\">\n",
    "Source: [Watson Discovery Knowledge Graph](https://console.bluemix.net/docs/services/discovery/building-kg.html#watson-discovery-knowledge-graph)"
   ]
  },
  {
   "cell_type": "markdown",
   "metadata": {
    "slideshow": {
     "slide_type": "slide"
    }
   },
   "source": [
    "## Implementation of Knowledge Graphs\n",
    "* Graphs are <font color = \"red\">sets of triples</font>.\n",
    "* Each triple describes a <font color = \"red\">relation between</font> a <font color = \"red\">pair of entities</font>.\n",
    "* Similar to natural language, where sentences consist of <font color = \"red\">subject, predicate, object</font>.\n",
    "* <font color = \"red\">Transformation from unstructured to structured data</font>:\n",
    "    - NLP (Natural Language Processing) is applied to determine subject,predicate,object\n",
    "    - these elements are the triples, which constitute the graph"
   ]
  },
  {
   "cell_type": "markdown",
   "metadata": {
    "slideshow": {
     "slide_type": "slide"
    }
   },
   "source": [
    "### Knowledge, Graphs, Triple-Stores, Queries\n",
    "<img src=\"https://maucher.home.hdm-stuttgart.de/Pics/wikiEntries.PNG\" style=\"width:600px\" align=\"center\">"
   ]
  },
  {
   "cell_type": "markdown",
   "metadata": {
    "slideshow": {
     "slide_type": "slide"
    }
   },
   "source": [
    "**Knowledge, Graphs, Triple-Stores, Queries:**\n",
    "<img src=\"https://maucher.home.hdm-stuttgart.de/Pics/wikiTriples.PNG\" style=\"width:600px\" align=\"center\">"
   ]
  },
  {
   "cell_type": "markdown",
   "metadata": {
    "slideshow": {
     "slide_type": "slide"
    }
   },
   "source": [
    "**Knowledge, Graphs, Triple-Stores, Queries:**\n",
    "<img src=\"https://maucher.home.hdm-stuttgart.de/Pics/bandGraph.png\" style=\"width:600px\" align=\"center\">"
   ]
  },
  {
   "cell_type": "markdown",
   "metadata": {
    "slideshow": {
     "slide_type": "slide"
    }
   },
   "source": [
    "**Knowledge, Graphs, Triple-Stores, Queries:**\n",
    "<img src=\"https://maucher.home.hdm-stuttgart.de/Pics/wikiQueries.PNG\" style=\"width:600px\" align=\"center\">"
   ]
  },
  {
   "cell_type": "markdown",
   "metadata": {
    "slideshow": {
     "slide_type": "slide"
    }
   },
   "source": [
    "### More complex Problem Solving\n",
    "**Prolog Example:** Program consists of facts and rules.\n",
    "\n",
    "<img src=\"https://maucher.home.hdm-stuttgart.de/Pics/prologscreenshot.png\" style=\"width:700px\">\n"
   ]
  },
  {
   "cell_type": "markdown",
   "metadata": {
    "slideshow": {
     "slide_type": "slide"
    }
   },
   "source": [
    "**Solving Logic Puzzles:**\n",
    "\n",
    "<img src=\"https://maucher.home.hdm-stuttgart.de/Pics/cherylsbirthday.jpg\" style=\"width:600px\">"
   ]
  },
  {
   "cell_type": "markdown",
   "metadata": {
    "slideshow": {
     "slide_type": "slide"
    }
   },
   "source": [
    "## Examples of Knowledge Graphs\n",
    "\n",
    "### [DBpedia](http://wiki.dbpedia.org/about)\n",
    "* contains English wikipedia in structured form\n",
    "* Each entitiy and each relation has a unique URI\n",
    "* Knowledge graph is large store of triples\n",
    "* Can be queried e.g. using [SPARQL](http://wiki.dbpedia.org/OnlineAccess)"
   ]
  },
  {
   "cell_type": "markdown",
   "metadata": {
    "slideshow": {
     "slide_type": "slide"
    }
   },
   "source": [
    "### LinkedIn Knowledge Graph\n",
    "\n",
    "<img src=\"https://maucher.home.hdm-stuttgart.de/Pics/knowledgeGraphLinkedInLogo1.jpg\" style=\"width:600px\">"
   ]
  },
  {
   "cell_type": "markdown",
   "metadata": {
    "slideshow": {
     "slide_type": "slide"
    }
   },
   "source": [
    "### Further Examples\n",
    "\n",
    "* Facebook Graph API\n",
    "* Instagram Graph API\n",
    "* Amazon Product Graph\n",
    "* AirBnB \n",
    "* IBM Watson"
   ]
  },
  {
   "cell_type": "markdown",
   "metadata": {},
   "source": [
    "### Application Example Intelligent Search\n",
    "\n",
    "* Assume you plan a short vacation over the weekend.\n",
    "    * You’re requirements are\n",
    "    * 4star - hotel at the North Sea …\n",
    "    * at most 100m distance to the beach …\n",
    "    * doubleroom with ocean view …\n",
    "    * accessible by public transport from your hometown within at most 8 hours …\n",
    "    * bike-rental at or near the hotel …\n",
    "    * overall costs at most 2000.- Euro\n",
    "* How much time would it take you today for finding the complete travel plan?\n",
    "* An intelligent search engine understands your specification in natural language and returns a list of concrete travel plans"
   ]
  },
  {
   "cell_type": "code",
   "execution_count": null,
   "metadata": {},
   "outputs": [],
   "source": []
  }
 ],
 "metadata": {
  "celltoolbar": "Slideshow",
  "kernelspec": {
   "display_name": "Python 3 (ipykernel)",
   "language": "python",
   "name": "python3"
  },
  "language_info": {
   "codemirror_mode": {
    "name": "ipython",
    "version": 3
   },
   "file_extension": ".py",
   "mimetype": "text/x-python",
   "name": "python",
   "nbconvert_exporter": "python",
   "pygments_lexer": "ipython3",
   "version": "3.8.13"
  },
  "nav_menu": {},
  "toc": {
   "base_numbering": 1,
   "nav_menu": {},
   "number_sections": true,
   "sideBar": false,
   "skip_h1_title": false,
   "title_cell": "Table of Contents",
   "title_sidebar": "Contents",
   "toc_cell": false,
   "toc_position": {},
   "toc_section_display": false,
   "toc_window_display": false
  }
 },
 "nbformat": 4,
 "nbformat_minor": 2
}
